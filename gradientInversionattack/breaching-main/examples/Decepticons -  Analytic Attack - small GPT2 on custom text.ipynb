{
 "cells": [
  {
   "cell_type": "markdown",
   "id": "3ebef44a",
   "metadata": {},
   "source": [
    "# Decepticons: Corrupted Transformers Breach Privacy in Federated Learning for Language Models"
   ]
  },
  {
   "cell_type": "markdown",
   "id": "a756fc5f",
   "metadata": {},
   "source": [
    "This notebook shows an example for the threat model and attack described in \"Decepticons: Corrupted Transformers Breach Privacy in Federated Learning for Language Models\n",
    "\". This example deviates from the other \"honest-but-curious\" server models and investigates a malicious server that may send malicious server updates. The attack succeeds for a range of common transformer architectures and works merely by sending a single malicious query to the user model.\n",
    "\n",
    "In this notebook, we attack the (small) GPT-2 model (120mil parameters) and show an example for custom text input (The wikipedia page on decepticons, up to the \"the dark side of the moon\".)\n",
    "\n",
    "\n",
    "\n",
    "Paper URL: https://arxiv.org/abs/2201.12675"
   ]
  },
  {
   "cell_type": "markdown",
   "id": "1efd1107",
   "metadata": {},
   "source": [
    "### Abstract:\n",
    "A central tenet of Federated learning (FL), which trains models without centralizing user data, is privacy. However, previous work has shown that the gradient updates used in FL can leak user information. While the most industrial uses of FL are for text applications (e.g. keystroke prediction), nearly all attacks on FL privacy have focused on simple image classifiers. We propose a novel attack that reveals private user text by deploying malicious parameter vectors, and which succeeds even with mini-batches, multiple users, and long sequences. Unlike previous attacks on FL, the attack exploits characteristics of both the Transformer architecture and the token embedding, separately extracting tokens and positional embeddings to retrieve high-fidelity text. This work suggests that FL on text, which has historically been resistant to privacy attacks, is far more vulnerable than previously thought."
   ]
  },
  {
   "cell_type": "markdown",
   "id": "ce7676c5",
   "metadata": {},
   "source": [
    "### Startup"
   ]
  },
  {
   "cell_type": "code",
   "execution_count": 1,
   "id": "b850eabf",
   "metadata": {},
   "outputs": [],
   "source": [
    "try:\n",
    "    import breaching\n",
    "except ModuleNotFoundError:\n",
    "    # You only really need this safety net if you want to run these notebooks directly in the examples directory\n",
    "    # Don't worry about this if you installed the package or moved the notebook to the main directory.\n",
    "    import os; os.chdir(\"..\")\n",
    "    import breaching\n",
    "    \n",
    "import torch\n",
    "%load_ext autoreload\n",
    "%autoreload 2\n",
    "\n",
    "# Redirects logs directly into the jupyter notebook\n",
    "import logging, sys\n",
    "logging.basicConfig(level=logging.INFO, handlers=[logging.StreamHandler(sys.stdout)], format='%(message)s')\n",
    "logger = logging.getLogger()"
   ]
  },
  {
   "cell_type": "markdown",
   "id": "88d5e214",
   "metadata": {},
   "source": [
    "### Initialize cfg object and system setup:"
   ]
  },
  {
   "cell_type": "markdown",
   "id": "56bd663b",
   "metadata": {},
   "source": [
    "This will load the full configuration object. This includes the configuration for the use case and threat model as `cfg.case` and the hyperparameters and implementation of the attack as `cfg.attack`. All parameters can be modified below, or overriden with `overrides=` as if they were cmd-line arguments."
   ]
  },
  {
   "cell_type": "code",
   "execution_count": 2,
   "id": "a7dc3a48",
   "metadata": {},
   "outputs": [
    {
     "name": "stdout",
     "output_type": "stream",
     "text": [
      "Investigating use case causal_lang_training with server type malicious_transformer_parameters.\n"
     ]
    },
    {
     "data": {
      "text/plain": [
       "{'device': device(type='cpu'), 'dtype': torch.float32}"
      ]
     },
     "execution_count": 2,
     "metadata": {},
     "output_type": "execute_result"
    }
   ],
   "source": [
    "cfg = breaching.get_config(overrides=[\"attack=decepticon\", \"case=10_causal_lang_training\", \n",
    "                                     \"case/server=malicious-transformer\"])\n",
    "          \n",
    "device = torch.device('cpu')\n",
    "torch.backends.cudnn.benchmark = cfg.case.impl.benchmark\n",
    "setup = dict(device=device, dtype=getattr(torch, cfg.case.impl.dtype))\n",
    "setup"
   ]
  },
  {
   "cell_type": "markdown",
   "id": "203c5fb1",
   "metadata": {},
   "source": [
    "### Modify config options here"
   ]
  },
  {
   "cell_type": "markdown",
   "id": "6e0764ef",
   "metadata": {},
   "source": [
    "You can use `.attribute` access to modify any of these configurations for the attack, or the case:"
   ]
  },
  {
   "cell_type": "code",
   "execution_count": 3,
   "id": "ac118ea0",
   "metadata": {},
   "outputs": [],
   "source": [
    "cfg.case.user.num_data_points = 8 # How many sentences?\n",
    "cfg.case.user.user_idx = 1 # From which user?\n",
    "cfg.case.data.shape = [512] # This is the sequence length\n",
    "\n",
    "cfg.case.server.provide_public_buffers = True # Send server signal to disable dropout\n",
    "cfg.case.server.has_external_data = True  # Not strictly necessary, but could also use random text (see Appendix)\n",
    "cfg.case.data.tokenizer = \"gpt2\"\n",
    "cfg.case.model = \"gpt2\" # Could also choose \"gpt2S\" which contains ReLU activations\n",
    "cfg.case.server.pretrained = False\n",
    "\n",
    "## Attack hyperparameters:\n",
    "\n",
    "# Server side:\n",
    "cfg.case.server.param_modification.v_length = 32 # Length of the sentence component\n",
    "cfg.case.server.param_modification.eps = 1e-16\n",
    "cfg.case.server.param_modification.measurement_scale=1e12 # Circumvent GELU\n",
    "cfg.case.server.param_modification.imprint_sentence_position = 0\n",
    "cfg.case.server.param_modification.softmax_skew = 1e8\n",
    "cfg.case.server.param_modification.sequence_token_weight = 1\n",
    "\n",
    "\n",
    "# Attacker side:\n",
    "\n",
    "# this option requires installation of `k-means-constrained` which can be tricky:\n",
    "# If this doesn't work for you, falling back to \"dynamic-threshold\" is still a decent option.\n",
    "cfg.attack.sentence_algorithm = \"k-means\" \n",
    "cfg.attack.token_strategy=\"embedding-norm\" # no decoder bias in GPT\n",
    "cfg.attack.embedding_token_weight=0.25 # This can improve performance slightly for long sequences"
   ]
  },
  {
   "cell_type": "markdown",
   "id": "76f64389",
   "metadata": {},
   "source": [
    "### Instantiate all parties"
   ]
  },
  {
   "cell_type": "markdown",
   "id": "71983edf",
   "metadata": {},
   "source": [
    "The following lines generate \"server, \"user\" and \"attacker\" objects and print an overview of their configurations."
   ]
  },
  {
   "cell_type": "code",
   "execution_count": 4,
   "id": "d3abd955",
   "metadata": {},
   "outputs": [
    {
     "name": "stdout",
     "output_type": "stream",
     "text": [
      "Reusing dataset wikitext (/home/jonas/data/wikitext/wikitext-103-v1/1.0.0/a241db52902eaf2c6aa732210bead40c090019a499ceb13bcbfa3f8ab646a126)\n",
      "Reusing dataset wikitext (/home/jonas/data/wikitext/wikitext-103-v1/1.0.0/a241db52902eaf2c6aa732210bead40c090019a499ceb13bcbfa3f8ab646a126)\n",
      "Model architecture gpt2 loaded with 124,439,808 parameters and 12,582,924 buffers.\n",
      "Overall this is a data ratio of   30381:1 for target shape [8, 512] given that num_queries=1.\n",
      "User (of type UserSingleStep) with settings:\n",
      "    Number of data points: 8\n",
      "\n",
      "    Threat model:\n",
      "    User provides labels: False\n",
      "    User provides buffers: False\n",
      "    User provides number of data points: True\n",
      "\n",
      "    Data:\n",
      "    Dataset: wikitext\n",
      "    user: 1\n",
      "    \n",
      "        \n",
      "Server (of type MaliciousTransformerServer) with settings:\n",
      "    Threat model: Malicious (Parameters)\n",
      "    Number of planned queries: 1\n",
      "    Has external/public data: True\n",
      "\n",
      "    Model:\n",
      "        model specification: gpt2\n",
      "        model state: default\n",
      "        public buffers: True\n",
      "\n",
      "    Secrets: {}\n",
      "    \n",
      "Attacker (of type DecepticonAttacker).\n"
     ]
    }
   ],
   "source": [
    "user, server, model, loss_fn = breaching.cases.construct_case(cfg.case, setup)\n",
    "attacker = breaching.attacks.prepare_attack(server.model, server.loss, cfg.attack, setup)\n",
    "breaching.utils.overview(server, user, attacker)"
   ]
  },
  {
   "cell_type": "markdown",
   "id": "548c0ad6",
   "metadata": {},
   "source": [
    "### Simulate an attacked FL protocol"
   ]
  },
  {
   "cell_type": "markdown",
   "id": "2058bcc2",
   "metadata": {},
   "source": [
    "This exchange is a simulation of a single query in a federated learning protocol. The server sends out a `server_payload` and the user computes an update based on their private local data. This user update is `shared_data` and contains, for example, the parameter gradient of the model in the simplest case. `true_user_data` is also returned by `.compute_local_updates`, but of course not forwarded to the server or attacker and only used for (our) analysis."
   ]
  },
  {
   "cell_type": "code",
   "execution_count": 5,
   "id": "2c55ea54",
   "metadata": {},
   "outputs": [
    {
     "name": "stdout",
     "output_type": "stream",
     "text": [
      "Found attention of shape torch.Size([2304, 768]).\n",
      "Computing feature distribution before the probe layer Conv1D() from external data.\n",
      "Feature mean is 30907109376.0, feature std is 726087172096.0.\n"
     ]
    }
   ],
   "source": [
    "server_payload = server.distribute_payload()"
   ]
  },
  {
   "cell_type": "markdown",
   "id": "b09a26ac",
   "metadata": {},
   "source": [
    "# Text from tranformers wikipedia page"
   ]
  },
  {
   "cell_type": "code",
   "execution_count": 6,
   "id": "93517448",
   "metadata": {},
   "outputs": [],
   "source": [
    "text = \"\"\"Transformers: Generation 1\n",
    "The Decepticons are from a race called Transformers - robots that can change into vehicles, mechanical devices and even animal forms. They waged war for eons on their home planet of Cybertron against the heroic Autobots. Both factions needed supplies, and select numbers from each side intended to get them. The Autobots did not wish to fight the Decepticons, but they fought in space anyway. When the Decepticons board the Autobots' ship it takes a beating and crashes onto Primitive Earth and knocks everyone unconscious. Millions of years later, in 1984 a volcano eruption causes a probe to give them all new forms which come from vehicles in the surrounding area. After the featured film The Transformers: The Movie, Megatron was reformed as Galvatron, and Optimus Prime was replaced for a time by Rodimus Prime, only to return later on.\n",
    "\n",
    "Members\n",
    "Unlike the Autobots, whose leader is a Prime bearing a Matrix, the Decepticons are led by the most powerful of their ranks (usually Megatron). This tends to cause some conflict, given how generally every Decepticon thinks that they're the most powerful. Also, the Decepticons are not exactly the most compassionate beings in the universe, but not all fight for greed. More than a few have a sense of honor, while others believe that Cybertron would be better protected by aggressive expansion. Ultimately, the Decepticons desire to protect their homeworld, even if it is at the expense of others. Other leaders include Galvatron, Shockwave, Soundwave, Scorponok, Devil Z, Deathsaurous, Starscream, Thunderwing, Jiaxus, Ratbat, and Bludgeaon. Some continuities also has Liege Maximo and The Fallen as the ancestor of the Decepticon faction.\n",
    "\n",
    "Hasbro toyline\n",
    "Hasbro launched the Transformers toy line with eighteen different Autobot characters, all of whom transformed into automobiles, while the ten distinct Decepticons, (seven packages as three came two to a box/pack) were weapons, aircraft and communications equipment. Many of the Transformers were based on Takara designs. Optimus Prime was among the first Transformers released from Hasbro in 1984. The character listing/mini-poster that came inside Transformer packaging identified him as \"Autobot Commander\", as contrasted with Megatron's title of \"Decepticon Leader\".\n",
    "\n",
    "Marvel Comics\n",
    "Main article: The Transformers (Marvel Comics)\n",
    "In the Marvel comic continuity, it was established that the Decepticons came in and out of the gladiator pits on Cybertron. Early on, the leadership of the Decepticons constantly changed due to their tendency to kill and replace their leaders. It would not be until a lowly Decepticon affiliated gladiator named Megatron assumed the throne that the Decepticons became a true threat to the rest of the population of Cybertron.\n",
    "\n",
    "While Megatron was the primary leader, other Decepticons had prominent roles as leaders of the group. Shockwave, Scorponok, Bludgeon, and Ratbat all led the Decepticons, often overthrowing Megatron in the process or taking over the group during the period when Megatron was believed dead.\n",
    "\n",
    "In the G2 Marvel series (which continues from the G1 Marvel series), it is stated that the Decepticon forces on Cybertron underwent a massive split in the wake of Megatron's disappearance when Megatron, Optimus Prime, and their respective troops crashed on Earth. The smartest, strongest, and most intelligent Decepticons left Cybertron to colonize nearby galaxies, leaving a token leadership of overly cruel and duplicitous Decepticons to control Cybertron. These Decepticons who left their homeworld became \"The Second Generation\" Decepticons, who were led by the villainous Liege Maximo. On the final page of the last issue, the Liege Maximo indicates that the Decepticons and all their descendants came from him, which indicates that he is the original founder of the Decepticons.\n",
    "\n",
    "Animated series\n",
    "The Decepticons are a malevolent race of robot warriors, brutal and merciless. The Decepticons are driven by a single undeviating goal: total domination of the universe. In the war that raged between the Decepticons and Autobots for millions of years, their home planet of Cybertron was drained of its once rich sources of energy. In hopes of finding new reserves for making Energon, their basic fuel, the Decepticons followed the Autobots to Earth. Under the leadership of the ruthless Megatron, they continued their efforts to destroy the remaining Autobot forces. They attacked throughout the Earth and in space, using their underwater Decepticon headquarters as their staging base and bunker. But, by the year 2000, the Decepticons had proven to be the losers of the last Great War. In an attempt to bolster the Decepticons' strength, the evil planet gobbling world, Unicron, reformed Megatron into a new robot named Galvatron to lead the Decepticons in a new era. Now, in 2006, the Decepticons have retreated to a burned out hulk of a planet called Chaar, a world of ash and ruin. Galvatron and his Decepticon lieutenants, the sleek and awesome Cyclonus, and the mighty Scourge, the master of the dreaded Sweeps, strike fear throughout the universe. Their ultimate goal: to reconquer Cybertron and destroy the Autobots.\n",
    "\n",
    "In the original animated series continuity, the Decepticons owe their warlike ways to their faction's origin as military hardware robots, created by the five-faced aliens, the Quintessons, while the Autobots were designed as consumer goods. Following the rebellion that forced the Quintessons off the planet, the Decepticons - as they named themselves - lusting for power, began a civil war. The Autobots could not hope to match the superior firepower and battlefield powers of the Decepticons, and instead turned to stealth, developing the art of transformation, modifying their bodies so that they could assume other forms. With this additional power, the Autobots were able to win the conflict, and a period of peace began, known as the Golden Age of Cybertron, when energy was plentiful and the planet shone with a golden hue.\n",
    "\n",
    "Working in secret, the Decepticons also developed transformation technology, along with new robot-mode flight powers, and, under the command of one of the first of this new breed, Megatron, they attacked one of the capital's outer cities, killing the current Autobot leader. As the knowledge of this act was not made public, younger robots continued to idolize these powerful new flying robots - until one such young robot, Orion Pax, was duped by Megatron into allowing him access to an energy storage facility. Megatron turned on Pax and fatally injured him, but the ancient Autobot, Alpha Trion, then rebuilt Pax into the first of a new, battle-hardy breed of Autobot - now, he was Optimus Prime, leader of the Autobots, who led them against Megatron and the Decepticons as the civil war erupted once more.\n",
    "\n",
    "After five million years, Cybertron was nearly depleted of all its energy when the Decepticons received word that the Autobots were planning to search for new energy resources. Following the Autobot ship, the Ark, in their ship, the Nemesis, the Decepticons boarded the Ark and engaged the Autobots on their ship. Unfortunately, the Ark drifted too close to Earth and crashed landed in a volcano. All the occupants of the Ark went into emergency stasis, while the Decepticons on the Nemesis ejected to South America. There, they scanned the forms of local insects, becoming the Insecticons. After 4 million years, the volcano the Ark was wedged in, erupted in Earth year 1984, restarting its computer, Teletraan I. Sending out Spy Satellites, Teletraan created alternative forms out of Earth vehicles for any transformers caught in its scanning beam (like F-15 Eagles for Skywarp and a Semi-trailer truck for Optimus Prime). The Decepticons awakened first but later the Autobots did too, thanks to Starscream's carelessness.\n",
    "\n",
    "By the Earth year 2005, however, the Decepticons had succeeded in completely conquering Cybertron. In a final attempt to destroy the remaining Autobots they attacked Autobot City on Earth but were defeated. On their way back to Cybertron Astrotrain encountered difficulty leaving Earth's gravity due to an over-large payload. Starscream convinced the others to jettison all the damaged and dying decepticons, including Megatron. Megatron was then found by Unicron who offered to rebuild him in return for destroying the Autobot Matrix of Leadership. Megatron was reformed into Galvatron who returned to Cybertron, destroyed Starscream for his treachery and reassumed command of the Decepticons. Galvatron then attempted to use the Matrix against Unicron, provoking him into attacking Cybertron. The attack coupled with the temporary loss of Galvatron shattered the decepticon forces, allowing the Autobots to reclaim their home planet. The Decepticons fled to the planet Chaar, a world of ash and ruin, where they struggled to survive until Galvatron returned to them and reorganized them into a fighting force, battling to take back Cybertron.\n",
    "\n",
    "Dreamwave Productions\n",
    "After Autobot leader Optimus Prime and Decepticon leader Megatron disappeared in a Space Bridge accident several million years ago, the Autobots and Decepticons split up into several factions. One of those who broke away was Ratbat, who quickly took the opportunity to form his own power base. Gathering loyalist followers and setting up their HQ in the Polyhex region of Cybertron the Ultracons quickly came into conflict with the Autobot splinter faction The Wreckers. However, Ratbat added a secret weapon to his ranks - the combiner team the Constructicons, in flagrant defiance of treaties banning their use in the civil war as both Autobots and Decepticons splintered.\n",
    "\n",
    "When the Ultracons attacked the Tagan Heights in order to seize its factories for themselves, they were opposed by the Wreckers. Ratbat quickly unleashed the Constructicons in their combined form of Devastator, routing the Wreckers. However, Ratbat was prevented from executing his rival Springer by the arrival of the Protectobots in their combined form of Defensor. The Autobot combiners were hoping to prevent an arms race between the various factions by stopping combiners signing up with the factions. After the battle devastated the very manufacturing facilities the two factions hoped to acquire, the Protectobots separated and defeated Devastator via sabotage. With their most potent weapon gone, the Ultracons retreated.\n",
    "\n",
    "Later, the Ultracons joined with the Decepticons under Shockwave to support a peace accord with the Autobots, fighting off Starscream's Predacon faction. However, Megatron's return with an army of Seeker clones would bring a halt to the peace proceedings, and the Ultracons would be reabsorbed into the Decepticons.\n",
    "\n",
    "IDW Publishing\n",
    "The origins of the Decepticons in the IDW continuity would be explored in The Transformers: Megatron Origin, which confirmed Megatron as their founder in this timeline. A lowly miner, Megatron penned a manifesto against Functionalism, the forcible assignment of cybertronians to jobs based on their vehicle modes, which was in force at the time on religious grounds. Megatron began to work against the practice through peaceful protest, but following imprisonment and a brutal beating by police, he determines that force is the only way to bring about equality. Ironically, on his way out the station after having been saved from a government ordered 'accidental-death-by-interrogation', he first meets the future Optimus Prime, who would go on to use his original writings as the basis for the Autobot movement.\n",
    "\n",
    "On the run after an unrelated attack on an Autobot Senator after a mining dispute, Megatron stumbled onto underground gladiator games in the state of Kaon and quickly became one of its rising stars. However, it only truly became more than this when Ratbat, then a senator seeing an opportunity for profit, dispatched Soundwave to arm the gladiators. Megatron's forces then began to commit acts of terrorism increasing in scale and daring, attracting the attention of Sentinel Prime. Kidnapping Senator Decimus as a symbol (with the help of new airborne recruit Starscream) Megatron issued a rallying call to the gladiators and their supporters, promising to unite them under one badge and make the whole planet their arena. Sentinel Prime's forces then found and arrested them en masse. This was all part of Megatron's plan: a supposedly informant Starscream massacred the Autobot Senate and freed the prisoners, signalling revolution and anarchy in Kaon. Megatron eventually seemed to have killed Sentinel Prime one-on-one, and the Decepticons were forged.\n",
    "\n",
    "In this continuity, there are a number of differences to the traditional norm. The Decepticons are no longer based on Cybertron due to its devastation by rogue scientist Thunderwing. Instead, they have spread out through the galaxy, using their transforming abilities to infiltrate target worlds (such as Earth or Nebulos) disguised as local vehicles and equipment. They then use their modes to create conflict, leading to complete anarchy as the world's political and social systems collapse. The Decepticons then move in and harvest the world's raw resources. How the world is pacified is unknown, although The Transformers: Spotlight issue on Sixshot revealed he is often sent in to complete the destruction of entire worlds. As in other continuities, Megatron is in command, and thus far has had to deal with the rebellion of Starscream's Earth infiltration unit and the reemergence of Thunderwing, as well as moving on to Earth in order to harvest the extremely powerful Energon variant Ore-13, something which promises to give the Decepticons a significant edge over the Autobots.\n",
    "\n",
    "The IDW continuity is unique in that it portrays the Decepticons as originally a force for good, standing up against oppression, who eventually themselves became oppressors. A large number of those who would become Autobots, including Optimus Prime himself, even support the Decepticon cause in the beginning, before it turns violent.\n",
    "\n",
    "Beast Era\n",
    "The Decepticons eventually evolve into the Predacons, a faction in the fictional Beast Wars universe created by Hasbro. Previously the name Predacon had been associated with the Transformer group which combined to form Predaking. The faction made their first appearance in the Beast Wars toyline and animated series, and have been represented in various Transformers animated series, comic books and toylines since.\n",
    "\n",
    "A Predacon is most commonly represented as a Decepticon descendant with a new smaller, more energy-efficient body. This body transforms into an animal instead of a vehicle. Though the Decepticons and Predacons share many similarities, several important differences exist, such as leadership and ideals (for example, choosing a pretense of peace with the Maximals, rather than maintaining a war at all costs). It is not completely known as to how the faction gained predominance over all the other various Decepticon factions, although the comic book miniseries Beast Wars: The Gathering has provided hints that their heritage may be found in the original combiner team Predacons, hints confirmed by the subsequent Timelines: Dawn of Futures Past, which confirmed that Razorclaw, Divebomb and the other Predacons had been working behind the scenes.\n",
    "\n",
    "Transformers: Robots in Disguise\n",
    "In Transformers: Robots in Disguise, the Decepticons were not the name of the evil faction, but rather a sub-faction created by Megatron. The main faction was instead the Predacons (carrying the name of the main villains over from Beast Wars), who transformed into mechanical animals. Realising that their ability to travel as Earth vehicles gave the Autobots an edge in stealth, Megatron decided to take drastic action.\n",
    "\n",
    "Megatron recovered the protoforms of six Autobots that had crashed to Earth some time before looking for Fortress Maximus. Scanning them with vehicle modes at a military base and infusing them with a fraction of his spark energy to ensure their new loyalty, the first five became the Commandos. But when Megatron tried to scan a tanker truck as an alternate mode for the leader Scourge, Optimus Prime was scanned as well, resulting in much of Prime's personality being scanned as well. With an infusion of Megatron's spark energy to complete the concoction, Scourge was born, emerging from his pod as a dark twin of Optimus Prime, who proved that Megatron's programming had over-ridden any Autobot goodness within him. Appointed leader of the new \"Decepticons\", they quickly established themselves as a force to be reckoned with.\n",
    "\n",
    "The newly created Decepticons would try many schemes over the course of the series, including attacking various dams and faking their defection to the Autobots. But their leader, Scourge, had grander ambitions in mind. The copy of Optimus' personality had been warped by Megatron's evil influence, but the individuality of Optimus remained and Scourge now wanted to control both Predacons and Decepticons. He would seize his chance when Fortress Maximus was awakened, directing him to destroy Galvatron (Megatron's new form). The attempt failed and Galvatron took a terrible revenge - he stripped the Decepticons of their individuality, turning them into little more than drones. After Galvatron's defeat by Omega Prime, the Decepticons were among those sent back to Cybertron for imprisonment, except for Sky-Byte.\n",
    "\n",
    "Unicron Trilogy\n",
    "The Decepticons appeared in Transformers: Armada, Transformers: Energon, and Transformers: Cybertron as mostly jets and military vehicles.\n",
    "\n",
    "In the Unicron Trilogy continuity, the early history of the war is not expounded upon. The Decepticons, however, remain the main antagonists, with whom the Autobots have been warring for quite some time. The enslavement of the small, power-enhancing Mini-Cons has long been a major goal of the Decepticons, and the Mini-Cons are seen as key to winning the war.\n",
    "\n",
    "Near the end of Armada, the Autobots and Decepticons join forces to defeat the planet-devouring Unicron, and the beginning of Energon sees them as uneasy allies. Many return to Megatron's side when he returns.\n",
    "\n",
    "Cybertron sees a much smaller Decepticon force than the previous two series, and what has become of most of the survivors of the earlier series remains unknown. As Megatron's true plans are discovered, most of the Decepticons, unwilling to be sacrificed as pawns as their leader seeks to remake the universe, again battle a common foe alongside the Autobots. The end of the series sees three of the comic-relief characters, with a reluctant Thundercracker, desiring to begin a new Decepticon force, and take off in a makeshift rocket. It makes it as far as Mars before it crashes, as the ending credits montage of the final episode shows. The foursome survives, however. The fates of the other surviving Decepticons remains unknown, though evidence of Starscream's survival is discovered.\n",
    "\n",
    "Live-action films\n",
    "The Movie Prequel comic by IDW Publishing would reveal their origins. Originally Optimus Prime and Megatron ruled Cybertron together, due to the power of the Allspark, a mysterious device that could give life to Transformers - and keep Cybertron itself alive. Eventually, Megatron began to desire its power for himself and assembled a like-minded army of separatists - the Decepticons. Megatron soon struck, and Cybertron became embroiled in civil war. However, this would later seem to be changed by the sequel films, where it is revealed that Sentinel Prime was the first leader of the Autobots and The Fallen the founder and supreme master of the Decepticons. Optimus would only take command after Sentinel was seemingly killed in action and Megatron served as leader of the second incarnation of the Decepticons with The Fallen as his master and mentor due to the latter's incapacitation. The subsequent prequel novel Transformers: Ghosts of Yesterday revealed that Starscream seized command of the Decepticons after Megatron's disappearance.\n",
    "\n",
    "Transformers (2007 film)\n",
    "The Decepticons make an appearance in the 2007 the Transformers live-action film. They include Megatron (Hugo Weaving), Starscream, Frenzy, Blackout, Barricade, Scorponok, Brawl and Bonecrusher. Like the Autobots, the Decepticons are designed to look more organic in the movie. While the Autobots have more human-like appearances, the Decepticons are more monstrous; they tend to resemble carnivorous insects, mammals and birds. In the film, the Autobots intend to use the AllSpark, the object that created their robotic race, in an attempt to rebuild Cybertron and end the war, while Megatron and the Decepticons desire to control it with the intention of building an army by giving life to the machines of Earth. Ultimately, nearly all the Decepticons who participated in the first battle (except Starscream, Scorponok and Barricade) are killed and the AllSpark is used by Sam to kill Megatron, thus making the Autobots accept Earth as their new home, while allying with humans to continue to hunt down remaining Decepticons.\n",
    "\n",
    "Transformers: Revenge of the Fallen (2009 film)\n",
    "In Transformers: Revenge of the Fallen it is revealed that The Fallen, a Prime who turned to evil, is the founder of the Decepticons, with Megatron being the leader of its second incarnation, accepting The Fallen as his master and mentor. This would seem to imply the Decepticons were originally Autobots who turned evil. In the final battle in the second movie, there are many Decepticon casualties including Devastator (destroyed by a rail gun), Mixmaster (cut in half and his head stomped off by Jetfire), Rampage (killed by Bumblebee), Ravage (stripped from his spine by Bumblebee), Scrapper and Long Haul (killed by an airstrike), Scorponok (head crushed by Jetfire) and the Fallen himself (spark ripped out by Optimus Prime). Also killed in the movie are Sideways (while still in his vehicle mode) by Sideswipe and Demolishor, killed at the beginning by Optimus and Ironhide. Following the Fallen's death, Megatron officially takes full command of the Decepticons at this point, swearing vengeance.\n",
    "\n",
    "Transformers: Dark of the Moon (2011 film)\n",
    "The Decepticons return in Transformers: Dark of the Moon with the plan to use a Space Bridge to bring an army to Earth and transport Cybertron into orbit to rebuild the planet with Earth's natural resources and human population as slaves. Megatron and Sentinel Prime planned this a long time ago, planning to meet on Earth before Megatron went after the Allspark and ended up frozen and the Ark was shot down by Decepticon fighters (few Decepticons knew of the plan) and crashed on Earth's Moon in 1961. This was detected by the Americans and the Russians and the space programs were created to reach the ship and study it. However, by 1963 the Decepticons had raided the Ark and removed all but five of the pillars and hid them on the Moon along with an army of hundreds of Decepticons, awaiting the time that the pillars would be used. After humans successfully reached the Moon and explored the ship, Soundwave and Laserbeak approached various humans including Dylan Gould's father to get them to shut down the American and Russian space programs.\n",
    "\n",
    "The Decepticons established a network of human collaborators who kept the humans from noticing the Decepticons actions on the Moon, later led by Dylan Gould. After a human collaborator named Alexi Voshkod leads NEST to Chernobyl where they retrieve an engine part from the Ark, the Decepticons reemerge for the first time since Egypt in the form of Shockwave and his Driller who attack, but retreat. This leads the Autobots to retrieve Sentinel and the remaining space bridge pillars and revive him and as this is going according to plan, Megatron orders Laserbeak to kill all the human collaborators but Dylan Gould which he does. Before he's killed, one of the collaborators named Jerry Wang alerts Sam Witwicky to this and he alerts NEST which ignores it. Sam and Seymour Simmons find out about the Decepticons plot from pictures a Russian probe got of the Decepticons hiding the pillars and the Dreads are sent to attack the convoy protecting Sentinel, but are killed by Bumblebee, Dino, Sideswipe and Ironhide.\n",
    "\n",
    "After Sentinel reveals his true colors and murders Ironhide, he sets up the pillars in the National Mall and brings the Decepticon army consisting of hundreds of Decepticon soldiers and Decepticon ships to Earth. With the army in hand, the Decepticons promise to bring no war against the human population in exchange that the Autobots must leave Earth. While taking off into the atmosphere, Starscream destroyed the ship, knowing that mankind will resist on their own. Some of the Decepticons scatter around the world to set up the pillars, but most of the army invades Chicago, devastating the human population and taking over. The Autobots, NEST and a team of mercenaries led by Sam Witwicky and Robert Epps invade Chicago and battle the Decepticon army, aided by the United States Army, and U.S. Air Force. The group manages to take out much of the army including Laserbeak (killed by Sam Witwicky and Bumblebee), the Driller (killed by Optimus), Starscream (killed by Sam Witwicky and Sergent Lennox), Soundwave (killed by Bumblebee), Barricade (killed by NEST) and Shockwave (killed by Optimus) and disrupt the Control Pillar, forcing Sentinel into battle. The combined human and Autobot forces overwhelm Sentinel and his remaining forces and Tomahawk missiles destroy most of the Decepticon fighters, forcing Sentinel to flee before engaging Optimus one-on-one. Dylan Gould reactivates the space bridge, but Sam Witwicky kills Gould, and Ratchet and Bumblebee destroy the Control Pillar, causing Cybertron to collapse and ruining the Decepticon plan. Also, the remaining Decepticon ships are sucked up into Cybertron by the space bridge and are destroyed with the planet.\n",
    "\n",
    "Sentinel nearly kills Optimus, but Megatron, convinced by Carly Spencer that he would end up working for Sentinel unless he could get rid of him, turns on Sentinel and severely injures him. Upon seeing Cybertron being destroyed with the space bridge, Megatron attempts to make a false truce with Optimus, but Optimus doesn't fall for it and kills Megatron and Sentinel. While the loss of human life in Chicago is massive, the battle is a major victory for the Autobots as they eliminated most of the Decepticon army on Earth (including Gould by traitor) despite there being some still scattered around the globe and the entire Decepticon command structure was destroyed with all of its members killed in the battle.\n",
    "\n",
    "Transformers: Age of Extinction (2014 film)\n",
    "While the regular Decepticons do not actually appear in Transformers: Age of Extinction (except Megatron who was reborn as Galvatron), they do play a role in the story as secondary antagonists. The \"Battle for Chicago\" (climactic battle of Dark of the Moon) has become a 9/11 like event to the public 5 years after the third film and a ruthless government organization named Cemetery Wind have begun hunting Decepticons who are still scattered around the globe and secretly hunted Autobots alike when the alliance between humans and Autobots ended (including alliance between humans and Decepticons as Dylan Gould is already dead). It was mentioned that there might still be less than a dozen Decepticons and Autobots hiding on the planet Earth by Harold Attinger (Kelsey Grammer). The film's antagonist is instead the neutral assassin and bounty hunter Lockdown, who may have been a Decepticon at one point, sent to Earth to hunt Optimus Prime by the Transformers' creator race (unseen in the movie). Lockdown and Attinger make a three-way deal along with a company named K.S.I., Kinetic Solutions Incorporated, by the boss, Joshua Joyce, who uses the original Decepticons' (and Autobots') remains to build new Transformer prototypes which can be controlled by humans and must eliminate those who cross their path such as the Yeager family who know this secret.\n",
    "\n",
    "Their crown jewel is Galvatron, who becomes possessed by Megatron's (Frank Welker) consciousness and then possesses the other prototypes and turns them into Decepticons controlled by him. Galvatron plans to use the Seed, a device that can create Transformium, the metal Transformers are made of, to rebuild his Decepticon army and conquer Earth, when Joyce was called by Cade Yeager, and, knowing that he was manipulated by Attinger and Galvatron, escapes with the Seed. After the final battle in Hong Kong, all the Decepticons are destroyed by Cade, the Autobots and Dinobots, except Galvatron, who escapes after Lockdown and Attinger are killed by Optimus Prime, vowing to return one day, for he is reborn, before Cemetery Wind dissolved by their crimes and branded as a terrorist organization.\n",
    "\n",
    "Barricade, Soundwave and a number of other Decepticon \"protoform drones\" appear in archival footage from Dark of the Moon presented by Attinger. Various deceased Autobots and Decepticons appear throughout the film in Chicago and in the KSI lab, including Megatron's head.\n",
    "\n",
    "Transformers: The Last Knight (2017 film)\n",
    "The Decepticons return in Transformers: The Last Knight with the revived leader, Megatron, when a war for survival has commenced between the human race and the Transformers and set up a military organization of TRF (Transformers Reaction Force). The Decepticons began to search for the staff when Barricade reports to Megatron that human has found the mysterious talisman they're seeking and suggests using TRF their purposes. Megatron contacting TRF abducting two CIA agents and offered an exchange to release his group of Decepticons. During the final battle, they assist the sorceress Quintessa in draining the life-energy from Earth to repair a damaged Cybertron and began to defend the from the Autobots and military. But the Autobots broke through and most of the Decepticons began to die and were defeated.\n",
    "\n",
    "Bumblebee (2018 film)\n",
    "The Decepticons return in Bumblebee, where they are first seen during the final battle for Cybertron against the Autobots. The Decepticons on Cybertron are co-led by Shockwave and Soundwave, who proceed to force the Autobots off of Cybertron.\n",
    "\n",
    "At some point prior to this battle, the Decepticon Seeker Blitzwing was sent to Earth by the Decepticons for unknown reasons. After the Autobot scout B-127 lands on Earth, Blitzwing intervenes in an ensuing skirmish between the Autobot and the human special operatives group known as Sector Seven. He proceeds to engage B-127 and interrogate him about Optimus Prime's whereabouts, even ripping out the scout's vocal processor and attempting to execute him. Before he could do this, however, B-127 attached one of Blitzwing's missiles onto Blitzwing's body, causing him to explode and die in the process.\n",
    "\n",
    "Decepticon Triple-Changer agents, Shatter and Dropkick are sent to intercept lieutenant Cliffjumper, one of the Autobots that escaped at the beginning of the film, in the hopes that they may find the Autobot leader, Optimus Prime. Cliffjumper refuses to reveal Optimus' whereabouts and thus subsequently fatally sliced in half by Dropkick.\n",
    "\n",
    "Transformers Animated\n",
    "In Transformers Animated, the Decepticons are usually bigger and stronger than the Autobots and usually turn into jets and military vehicles. It takes a group of Autobots to defeat one Decepticon and almost all Decepticons have red eyes and can fly[citation needed]. Most Decepticons in the series are similar to the original G1 series. In the Animated Series Blitzwing, for example, retains his triple changer modes of a tank and jet and also retains his G1 tan and purple color scheme.\n",
    "\n",
    "This series depicts a Decepticon force that is far from what it apparently once was, with Megatron having been chasing the Allspark for millions of years prior to the series' beginning. The Decepticons have been \"wandering the periphery\" for some time, but have been driven off of Cybertron long ago. These Decepticons see themselves as \"freedom fighters\", seeking to throw off \"Autobot tyranny\", and their plans tend to revolve around returning to Cybertron with the means to retake it. What started the great war in this series was some of the Cybertronians being kicked off of Cybertron for being freaks, eventually forming an alliance called the \"Decepticons\". Now the Decepticons fight for their rights and try to take back what was rightfully theirs.\n",
    "\n",
    "Transformers: Timelines\n",
    "A series of stories printed by Fun Publications, set in a variety of continuities, the Decepticons of alternate worlds can vary greatly from the classics Decepticon image. In the Transtech storyline, the Autobots and Decepticons are merely political factions on a Cybertron which never broke out into war. Lines between good and evil are more blurred.\n",
    "\n",
    "In the Shattered Glass storyline, a group of Decepticons, led by Megatron, are the mirror images of the personalities of most Decepticons. In this world the Decepticon logo is red, and worn by heroic Transformers who seek to protect the weak and oppressed from the evil Autobots.\n",
    "\n",
    "Aligned Continuity\n",
    "The main group of Decepticons, led by Megatron, in the 2010 computer animated series Transformers: Prime is much larger than in most continuities considering their ranks are bolstered by a clone army of drone named Vehicons (a possible homage to Beast Machines) who all look-alike though some have different vehicle modes and have personalities. The Vehicons are sometimes the center of a joke often shown unable to do their job and are very incompetent as well as constantly being killed off way too easily by the Autobots. However The Decepticons don't appear in the series Transformers: Rescue Bots, though it has been heavily implied that the two shows take place in the same continuity. The Decepticons are briefly mentioned by Heatwave in the episode \"Bot to the Future\", (who also mentioned Unicron in an earlier episode) when the Autobots arrive in an alternate timeline ruled by Morbots (who resemble Vehicons), Bumblebee believes the Morbots are Decepticons, only for Heatwave to correct him. In a later episode, the recruits retrieve what appears to be a cassette tape from a derelict spaceship and it transforms into an injured Laserbeak. The group disagree over whether to help him as he is a Decepticon (Hotshot in particular is against doing so) and it's ultimately revealed that Wedge was originally built as a Decepticon but was given the chance to instead be an Autobot (a fact he kept from the others due to the prejudices shown in this episode). In the end, they allow Laserbeak to stay at the academy while he recovers.\n",
    "\n",
    "Transformers: War for Cybertron\n",
    "In Transformers: War for Cybertron and Transformers: Fall of Cybertron, Megatron has come across a legendary element called \"Dark Energon\". He infiltrates Starscream's space station in order to corrupt himself with it. He then kills the Autobots' leader Zeta Prime and obtains the Omega Key, which then activates Omega Supreme. After Megatron defeats Omega Supreme, he goes to Cybertron's core and corrupts it with Dark Energon. Optimus Prime becomes the new Autobot leader, and heads into the planet to rescue Omega Supreme. He opens the Omega Lock into the core after Ratchet purges the Dark Energon corruption. Optimus discovers that he is too late to save Cybertron from the Dark Energon corruption, and the core must shut down for about one million years to survive. Optimus is giving a piece of Cybertron's spark for safe-keeping (The Matrix of Leadership). When Optimus evacuates the Autobot forces from Cybertron, Megatron tries to stop them from leaving. Silverbolt, Air Raid, and Jetfire try to stop it, but the space station transforms into Trypticon and crashes on Cybertron. Optimus and his Autobots then defeat Trypticon. Megatron has Trypticon rebuilt into the Nemesis. The Nemesis pursues the Ark, and then Megatron shoots Bumblebee. They go into a space bridge, and leave Cybertron to a lifeless wasteland.\n",
    "\n",
    "Transformers: Prime\n",
    "\n",
    "This article's plot summary may be too long or excessively detailed. Please help improve it by removing unnecessary details and making it more concise. (December 2019) (Learn how and when to remove this template message)\n",
    "By the time of Transformers: Prime, it has been three years since the Decepticons last attacked Earth and the Autobots still await their return. After the death of Cliffjumper, the Autobots fight to protect the Earth from the Decepticons and befriend three young humans while preparing for the return of Megatron, who has been missing for three Earth years. Megatron plans to use Dark Energon to raise an undead army of Cybertronians and defeat the Autobots. The Autobots destroy his space bridge and Megatron is believed killed in the process. Starscream becomes the new Decepticon leader. After Megatron's apparent death, new Decepticon leader Starscream does not stray from Megatron's path and recruits several new Decepticons. Starscream attempts many missions to destroy the Autobots and find their headquarters, while keeping a shard of the \"last\" remaining Dark Energon that he took out of Megatron's chest. In the episode \"Out of His Head\", Megatron returns after an incident where he takes control of Bumblebee's mind. Megatron then reclaims leadership of the Decepticons, keeping a strict eye on Starscream. After Starscream uses Megatron's share of Dark Energon, he tries to find more to once again bring back his \"un-dead army\". At the end of the episode \"Partners\", Starscream became an independent, striking out on his own, having become fed up with being disrespected. During the final four episodes of the season, the Autobots unwillingly team up with Megatron to battle a legendary threat to Earth's existence, Unicron.[3] To defeat Unicron, Optimus uses the Matrix of Leadership.\n",
    "\n",
    "With this sacrifice, he not only loses the Wisdom of the Primes but also his memories of the war and his comrades, and joins Megatron as a Decepticon under his old name, Orion Pax. Orion, under the false truths about the Autobots being evil and the Decepticons being good, Megatron, then sets about decoding the Iacon Database. The Autobots save him, journeying to Cybertron and back to recharge the Matrix of Leadership and help him regain his memories, but the Decepticons continued to search for the relics Orion did decode throughout Season 2, managing to decode all of them thanks to Soundwave's persistence and computer skills. Starscream meanwhile attempts several times to create personal armies and an alliance with MECH, only for the human terrorists to take his T-cog to construct Nemesis Prime as well as a failed attempt to assassinate Megatron. The Insecticons also join the crew of the Nemesis when Airachnid tries to eliminate Megatron for trying to terminate her previously. Airachnid is later imprisoned in a Stasis pod by Acree and held as a prisoner in the Autobot Base. Team Prime also is granted another Autobot when Smokescreen, the rookie warrior and bodyguard of Optimus Prime's mentor Alpha Trion, arrives on Earth in a Decpticon escape pod and Megatron gains MECH leader Silas, who has taken Breakdown's body for his own after nearly being killed by Optimus Prime, as an ally until he fails Megatron's expectations, causing Cylas (as he calls himself) to end up as Knockout's science experiment. When Optimus claims possession of the Star Saber and learns of the last four Iacon relics: the Omega keys (devices that can restore Cybertron), Megatron replaces his arm with an Ancient Prime's arm, so he can use the Forge of Solus Prime to turn a chunk of Dark Energon into the Dark Star Saber. In the battle that follows, Megatron destroys the Star Saber, robbing Optimus of Victory.\n",
    "\n",
    "Defeated, Optimus Prime retreats, gaining the first Omega Key in the process due to Smokescreen's clever thinking. Knock Out obtains the second however using the Resonance Blaster, and Starscream obtains the third using a dose of speed-enhancing Red Energon. The fourth and final one is revealed by Soundwave to have been inside Smokescreen, placed there to make sure it got to Optimus from Alpha Trion. After the Decepticons kidnap him, Knock Out uses the phase shifter to remove it. Megatron also finds out the purpose of the keys, by using the cortical psychic patch on Smokescreen. When Megatron leaves Knockout alone with him, Smokescreen and Knockout fight over the phase shifter, ending with the Autobot placing Knockout in a wall and leaving him there. He takes the one the Decepticons had and his and escaped the ship, starting a free fall battle, resulting in Smokescreen's escape. Starscream then goes on to steal the three keys the Autobots had. Starscream, now with all 4, uses them as a peace offering to rejoin the Decepticons.\n",
    "\n",
    "Dreadwing becomes angry that Megatron allowed Starscream to rejoin the Decepticons after seeing that Starscream turned Skyquake into a Terrorcon. He gives Optimus the Forge of Solus Prime, and attempts to kill Starscream but is killed in the process by Megatron. Knockout and Starscream use the keys and find out the location of the Omega Lock, with Optimus already knowing its location and turning the Goundbridge into a spacebridge, and reforging the Star saber. The Autobots head to Cybertron, fighting off the Decepticons with their Iacon relics, take back the keys and manage to kill all the Vehicons, managing to reach the Omega Lock. Sadly, the victory is short lived, as the Decepticons force them to give them back the keys, or they will expose Jack, Miko, and Raf to Cybertron's toxic atmosphere. The Autobots are forced to yield and give them the keys, which Megatron uses to rebuild the Hall of Records. He then opens a space bridge, and tries to terraform Earth into a new planet he considers calling New Kaon.\n",
    "\n",
    "Optimus, fearing for humanity and unwilling to let another world be destroyed, takes his Star Saber and cuts off Megatron's arm and destroys the Omega Lock, leaving Cybertron in its liveless state forever. The Autobots retreat back to Earth, only to find that Jasper, Nevada has now been changed into a giant fortress. The Nemesis lands there, and Optimus discovers the Decepticons have discovered the location of their base. Under Megatron's orders, Starscream leads an armada of Vehicons and Insecticons to start attacking the base. Wheeljack and Agent Fowler try and hold off the new Vehicons as long as they are able, trying to allow Team Prime to escape. Optimus has Team Prime split up to different parts of the country in the hope of making them more difficult to hunt down, with Optimus remaining behind to ensure the Decepticons could not follow. Outside, Wheeljack's ship, the Jack Hammer is shot down by Starscream. The Decepticons then blow up the base with Optimus inside as he destroys the Ground Bridge with Agent Fowler and June Darby watching in horror as the base explodes. Megatron and Starscream then fly down to the remains of the base to search for survivors. Celebrating their victory, they fail to notice Optimus's arm sticking out of the rubble.\n",
    "\n",
    "In Season 3, the Decepticons hold earth hostage with their fortress, christened as Darkmount, and search for the autobots across the United States, To track the autobots, the recently returned Shockwave brings with him a Predacon to hunt down the scattered Autobots. When the Predacon fails, the search continues under Starscream's command. This search is put on hold however when the Autobots unite under Ultra Magnus to assault Darkmount. However, as the assault continues, it is the Decepticons who emerge victorious even with the loss of the Predacon, capturing Team Prime. However, Optimus Prime, returned to health by Smokescreen's use of the Forge of Solus Prime, attacks Darkmount, defeating Megatron in one on one combat in the air and destroying the fortress' fusion cannons so that the military can destroy the fortress. Forced to use the Nemesis as their base once again, Megatron begins sending units to hunt down Predacon fossils in the hope of gaining an advantage over the Autobots through cloning an army. The return of the Predacon (Predaking himself) adds to this advantage. However, the Decepticon ranks are thinned when Starscream and Knock Out accidentally turn Cylas into a Terrorcon that can turn other Decepticons into Energon vampires through a mixture of Synthetic and Dark Energon. This plague also leads to Airachnid's escape and her retaking control of the Insecticons, forcing Soundwave to teleport her armada to one of Cybertron's moon's and leaving them to be eaten by her as she has become a Terrorcon hybrid. This accident forces the cloning process to be sped up on Project Predacon due to the loss of more than half of Megatron's forces. However, Project Predacon is terminated when Predaking reveals he is capable of higher thought as well as transformation, forcing Megatron to lure the Autobots into destroying the cloning laboratory for him. With the destruction of the lab, it is revealed that Predacon CNA combined with Synthetic Energon is capable of producing cybermatter. Attention is then focused on the restoration of the Omega Lock and the completion of the Synthetic Energon formula. To complete it, Ratchet is kidnapped and forced to aid in completing the formula, at which he succeeds. Megatron however does not count on Ratchet turning Predaking against him, nor the Autobots assaulting the Nemesis. With this, Megatron rallies his troops for a final stand. Though he kills Bumblebee and nearly kills Optimus, Megatron is killed by a resurrected Bumblebee who emerges from the Omega Lock and stabs him in the spark with the Star Saber, sending him tumbling to the earth far below. With Megatron's death, and Soundwave trapped in the Shadowzone by Jack and Miko, the remaining Decepticons are killed, imprisoned or retreat with Shockwave and Starscream to the ship's escape pods.\n",
    "\n",
    "In the film \"Predacons Rising\" - which serves as the series finale - it is further revealed that while many Decepticons were imprisoned, some defected to the Autobots to help rebuild Cybertron. Starscream and Shockwave, however, remain at large and having cloned two new Predacons they have named Skylynx and Darksteel, they continue to hunt Predacon bones to clone more soldiers. When Megatron returns, Starscream is at first overjoyed to have their leader back, but upon realization that Unicron is overshadowing and controlling him, Starscream retreats while Shockwave and the Predacons fight. Shockwave is also the one who suggests that the Predacons, now under Predaking's full leadership, help the Autobots defeat Unicron and his undead army. Starscream and the Decepticon prisoners aboard the Nemesis attempt to take control of the ship, only for Knock Out to change allegiance to the Autobots and imprison Starscream while the remaining mutineers are killed. Though Starscream escapes, Knock Out stays to help stop Unicron. When Unicron is defeated and imprisoned by Optimus Prime, Megatron is freed from his control and officially disbands the Decepticons and flies off to start a new life, as he is tired of conquest and no longer wishes to oppress anyone, having just experienced it himself. Starscream takes Megatron's throne but his rule is short-lived when the Predacons arrive to settle old scores, the outcome of which remains unknown.\n",
    "\n",
    "Transformers: Robots in Disguise\n",
    "Five years after the events of \"Predacons Rising\", Bumblebee is alerted to the existence of a new group of Decepticons on Earth. He eventually assembles a team-consisting of Autobots Strongarm, Sideswipe, Grimlock, and Fixit-to contend with these new Decepticons, which include the likes of Underbite and Bisk. Steeljaw, in particular, is the main antagonist, leading a group of Decepticons consisting of bounty hunter Fracture, crime boss Thunderhoof, the metal-consuming Underbite, and the crab-like Clampdown, in hopes of giving the Decepticons their own world. Towards the end of season one, Megatronus/The Fallen, the first Decepticon, contacts Steeljaw and convinces him to build him a space bridge so he can return to Earth. Steeljaw does so, but once on Earth, Megatronus attempts to destroy both Earth and Cybertron. Steeljaw tries to stop him, but Megatronus uses his telepathic powers to throw him into the distance. Ultimately, Megatronus is killed by Bumblebee's team and the rest of Steeljaw's pack is imprisoned.\n",
    "\n",
    "In season two, Steeljaw comes across a group of Decepticons who have turned the Alchemor into their own base, enslaving the Mini-Cons there as well. These Decepticons are led by the strict Glowstrike, ex-pirate Sabrehorn, and the gruff Scorponok. Steeljaw manages to reform his pack by using Scorponok as a distraction while he infiltrates the Autobots' scrapyard and frees Clampdown and Thunderhoof from stasis, along with the insane Springload, the revolutionary Quillfire, hyperactive Bisk, former gladiator Groundpounder, and spy/saboteur Overload. Scorponok is arrested by Bumblebee's team, with Steeljaw fabricating a story that Scorponok had betrayed them. At the end of the season, Steeljaw usurps Sabrehorn and Glowstrike and becomes leader of the escaped Decepticons (collectively known as \"Decepticon Island\"), but Bumblebee's team sets off a specialized bomb that places all Decepticons on board the Alchemor in stasis, including Steeljaw. Optimus Prime, Windblade, Ratchet, and the former Mini-Con prisoners then take the recaptured Decepticons back to Cybertron while Bumblebee decides to establish a permanent Autobot base on Earth.\"\"\""
   ]
  },
  {
   "cell_type": "code",
   "execution_count": 7,
   "id": "0694d014",
   "metadata": {},
   "outputs": [
    {
     "data": {
      "text/plain": [
       "10786"
      ]
     },
     "execution_count": 7,
     "metadata": {},
     "output_type": "execute_result"
    }
   ],
   "source": [
    "additional_data = user.dataloader.dataset.tokenizer(text)\n",
    "len(additional_data[\"input_ids\"])"
   ]
  },
  {
   "cell_type": "code",
   "execution_count": 8,
   "id": "0ab56bd9",
   "metadata": {},
   "outputs": [
    {
     "name": "stdout",
     "output_type": "stream",
     "text": [
      "21\n"
     ]
    }
   ],
   "source": [
    "seq_length = 512\n",
    "B = len(additional_data[\"input_ids\"]) // seq_length\n",
    "print(B)\n",
    "data = torch.as_tensor(additional_data[\"input_ids\"][:seq_length * B]).reshape(B, seq_length)\n",
    "user.data_key = \"input_ids\"\n",
    "input_data = dict(input_ids=data, labels=data)\n",
    "true_user_data = dict(data=input_data, labels=input_data)\n",
    "server_payload[\"metadata\"].shape = [seq_length]\n",
    "server.secrets[\"ImprintBlock\"][\"data_shape\"] = [seq_length]\n",
    "user.num_data_points = B"
   ]
  },
  {
   "cell_type": "code",
   "execution_count": 9,
   "id": "b0dbd868",
   "metadata": {},
   "outputs": [
    {
     "name": "stdout",
     "output_type": "stream",
     "text": [
      "Computing user update in model mode: eval.\n"
     ]
    }
   ],
   "source": [
    "shared_data, true_user_data = user.compute_local_updates(server_payload, custom_data=input_data)\n",
    "shared_data[\"metadata\"][\"num_data_points\"] = B"
   ]
  },
  {
   "cell_type": "markdown",
   "id": "17255c5a",
   "metadata": {},
   "source": [
    "### Reconstruct user data:"
   ]
  },
  {
   "cell_type": "markdown",
   "id": "d93e8cd6",
   "metadata": {},
   "source": [
    "Now we launch the attack, reconstructing user data based on only the `server_payload` and the `shared_data`. \n",
    "\n",
    "For this attack, we also share secret information from the malicious server with the attack (`server.secrets`), which here is the location and structure of the imprint block."
   ]
  },
  {
   "cell_type": "code",
   "execution_count": 10,
   "id": "c9a32fd7",
   "metadata": {},
   "outputs": [
    {
     "name": "stdout",
     "output_type": "stream",
     "text": [
      "Proceeded to cut estimated token distribution at 1.50.\n",
      "Recovered tokens tensor([    1,     1,     1,  ..., 50160, 50178, 50178]) through strategy embedding-norm.\n",
      "Recovered 9233 embeddings with positional data from imprinted layer.\n",
      "Assigned [435, 438, 512, 443, 445, 436, 51, 443, 445, 512, 435, 512, 437, 433, 512, 447, 512, 441, 452, 448, 444] breached embeddings to each sentence.\n",
      "Replaced 6 tokens with avg. corr 0.09795618802309036 with new tokens with avg corr 0.649138867855072\n"
     ]
    }
   ],
   "source": [
    "reconstructed_user_data, stats = attacker.reconstruct([server_payload], [shared_data], server.secrets, \n",
    "                                                      dryrun=cfg.dryrun)"
   ]
  },
  {
   "cell_type": "markdown",
   "id": "28c35e12",
   "metadata": {},
   "source": [
    "Next we'll evaluate metrics, comparing the `reconstructed_user_data` to the `true_user_data`."
   ]
  },
  {
   "cell_type": "code",
   "execution_count": 11,
   "id": "31f2685a",
   "metadata": {},
   "outputs": [
    {
     "name": "stdout",
     "output_type": "stream",
     "text": [
      "METRICS: | Accuracy: 0.7658 | S-BLEU: 0.54 | FMSE: 6.9516e-03 | \n",
      " G-BLEU: 0.51 | ROUGE1: 0.77| ROUGE2: 0.56 | ROUGE-L: 0.72| Token Acc: 96.63% | Label Acc: 96.63%\n"
     ]
    }
   ],
   "source": [
    "metrics = breaching.analysis.report(reconstructed_user_data, true_user_data, [server_payload], \n",
    "                                    server.model, order_batch=True, compute_full_iip=False, \n",
    "                                    cfg_case=cfg.case, setup=setup)"
   ]
  },
  {
   "cell_type": "markdown",
   "id": "f920aca0",
   "metadata": {},
   "source": [
    "And finally, we also plot the reconstructed data:"
   ]
  },
  {
   "cell_type": "code",
   "execution_count": 12,
   "id": "631f4a84",
   "metadata": {
    "scrolled": false
   },
   "outputs": [
    {
     "name": "stdout",
     "output_type": "stream",
     "text": [
      "Transformers: Generation 1\n",
      "The Decepticons are from a race called Transformers - robots thaticons from into vehicles, mechanical devices and Transformers animal forms. They waged war for prejudices Optimus on their home planet of Cybertron against the heroic Autobots. Both factions needed supplies This and select numbers from each side intended to get them. the Autob a did not wish, fight reserves Decepticons, but they - in space anyway. When into De withicons board the Autobots' ship. takes a beating andying onto Primitive Earth and knocks everyone unconscious. can destroyed years Sound ripping in 1984 a volcano eruption causes a to to give them all new forms which come from vehicles the the surrounding Transformers. After the featured film The Transformersavement The Movie, Megatron was reformed asumedvatron, and Optimus Unic was Millions for a time by Rod while Prime, only to returnacker on.\n",
      "\n",
      "Members gobUnlike the Autobots, whose leader G a Prime bearing a Matrix, the De proceedings him are led by Robots coupled match of their ranks (usually Megatron). This tends toicons some conflict, terrorist how generally every Decepticon thinks that theybert the most powerful. Also, the Decepticons Trans not exactly the most compassionate beings in the universe, but not all possessed for greed. More than a few have a sense of honor him while others believe that receivedbertron would be better these While aggressive expansion. Ultimately, the Decepticons desire to protect change hom personality, even if it is at the expense of others. Max leaders includeiconsvatron believes Matrixwave, Soundfew, Scorponokicons Devil Z, Deathsaurous, Stars They,wavewing, Jiaxus, fight spark, and Bludgeaon. led continu Commander also has Liege Maximo and The Fallen as the ancestor of the Decepticon faction.\n",
      "\n",
      "Hasbro toyline\n",
      "Hasbro launched the army toy line with eighteenbert spaceshipot characters, all andatron protected into automobiles, doesn the ten distinctots not from, (seven packages He three came two to a box/pack comb were weapons, aircraft and communications2011. the of by Transformers were based and themselvesara designs. Optimus Prime was among the first Transformers released from Hasbro, 1984. kills character listingblingmini:poster that came inside Transformer packaging identified world as \"Autobot Commander\", as contrasted with Megatron's title of \"Decepticon Leader\".\n",
      "\n",
      "Marvel Comics\n",
      " Autob article: The Transformers respective by Comics throughout\n",
      "gu the Marvel space\n",
      " battling, it, established that the Desevenicons came in andulk of the gladiator pits on Cybertron. Early Tak, the leadership of away Decepticons constantly changed Robert to their tendency to kill and replace their,. It would not be until a lowly De allicon affiliated gl first named Meg Meg assumed the throneadiator the Decepticons fightersorgacons threatcept the rest of the population of and whomron.\n",
      "\n",
      " defend Megatron was the primary leader, other Decepticons had prominent roles manages leaders of the group. Shockwave, goon massac, Bludgeon, andquerbat all leaving the Decepticons, often overthrowing Meg worldsned the process or taking over the group during the period when Megatron was believed dead equipment\n",
      "\n",
      "In the G Seriesacons series (which continues from regular G1 that seriesThe it is stated that the Decept faction forces on attached Megron manage a massive, in the wake of Megatron's disappearance when Megatron, Optimus Prime efforts and their Dev troops crashed on many. The smartest, strongest, and most intelligent Decepticons left Cybertron to colonize nearby galaxies in the a failed leadership of overly cruel and duplicitous Decepticons to traditional Cybert animated. operatives Decepticons who left dispute continuityeworld became \"The Second Generation\" Decepticons, who were Earth by the villainous Lie, Max to. this the final page of the last issue metalicon Liege futureimo indicates that the Decepticons and all their descendants came from him, which indicates that he is the unleashed founder of the De2009icons.\n",
      ".An during series\n",
      "The Decepticonsumper a malevolent race of robot warriors protecting brutal and merciless. The Decepticons are driven by a single undeviating goal: total domination energy the universe origins In the war that raged between the De Blitzicons inv damsots for millions animated years, their home planet of Cy theron was drained of its once rich sources of energy. In hopes fuel finding new reserves for making Enerots, their basic fuel, the Decept Dino followed the Autobots to Earth. Under the leadership of of ruthless Megatron, the continued to efforts to destroy the remaining theot forces. They\n",
      " throughout the Earthons in space, using adds underwater Decepticon out as their order base and bunkerified But, by \" proceed 2000, the Decepticons had proven to be the losers of the retake meet War. In an attempt to bolster the Decepticons' strength, the evil originally\n",
      " gob the world, Unic for, reformed Meg Sam into a new robot named Galvatron leader Dawn descendant De themselvesicons in a new era possesses11, in 2006 ships the De an Dread have retreated hardware a burned out hulk of a planet called Cha share, a world of ash the and. Galvatron and his.cepticon lieutenants, the sleek movie awesome Cyclonus, and when mighty Scourge in the loyalty costs). plot Swe theicons Command fear Thunder the universe. Their ultimate goal: to reconquer Cybertron and fail the Autobots comic\n",
      "\n",
      "Inies original the series continuity, has Decepticons owe their warlike ways aticons the's origin as military While robots a they by the five-faced aliens, the Quintess that killed while the onots were the as consumer and. Following the rebellion Frenzy forced the toessons off attack planet, the Decepticons only energy they named devastating - lust into and power, final, civil war. The Autobots could not of mercenariesensor the superior firepower rather battlefield powers of the Decepticons, and instead others to similar, developing the art of United, modifying their bodies so and they could assume other forms.), this additionalod, the. lifeless were able to win the travel, goodness a period of peace began,umble as Database Golden Age of Cybertron, when energy was plentiful andatron to shone with a golden huegent\n",
      "\n",
      " along in secret, the Decepticons also their transformation technology and Scan with new robot-mode flight powers, and, Cy Shock command of one of the most spark this Sentinel breed,,atron, they attacked five in whether capital temporary HQbert and killing the currentah scan leader. As the knowledge of this act was not made public, younger robots continued any idol and these powerful by flying robots - until one such young robot, Control fatally, was duped by Megatron into allowing Pax access B an Scourge destroy facility. Megatron turned on Pax and dark energy him, them, ancient provedot, Alpha battleion, then rebuiltridden intoimus first of a NowByteiconsointedhardy breed of andot - now, heatron Optimus the, conflict of the Autob but, who Cha them against Megatron De the Decepticons as for civil war erupted once more.\n",
      " byAfter five million years, severelybertron was nearly hostageots Cy acceptingron when13 Decept theark, that the Autobots as planning to search for' energy resources. Following the Autobatron ship, the Ark, De\n",
      " their ship was the Nemesis so the Decepticons boarded ship Ark and into the Autobots on their ship Air Unfortunately a off Ark drifted too close to Earth and crashed landed in lead the. All the occupants of the Ark and into emergency Wedasis Nemesis while the Decept betrayed on the Nemesis Cy are South America main There, they scanned, forms of local insects more becoming Rescue Insecticons. After 4 million., the volcano until Ark was wedged in, erupted in Earth year 1984, restarting its computer, Teletraan I. Sending out of Satellites, Teletra find created alternative forms and of Earth vehicles for any transformhard caught in due that beam (like F-15 Eagles for Sky.arp and a Semi-trailer space for Optimus Prime). the Decepticons awakened first but later the Autobots did too, thanks to Starscream's care masse.\n",
      "\n",
      "By the Earth At 2005, however the the Decepticons hades in completely conquering Cysomeron. In a final attempt the destroy the remaining Autobots they attacked AutobotCh on Earthities were defeated. On their way back to Cy stagingron Astrotrain encountered difficulty leaving Earth's gravity due to an over- represented payload. Starscream convinced the Cy out jettison), the damaged eventually dying decepticonsicons including Megatron experienced Meg year was then found by).ron who offeredicons rebuild him inots for destroying the possibleot Matrix of Leadership after Megatron was reformed into Galvatron was returnedDream Cybertron, destroyed Starscream for his treachery and reassumed command of2009 Decepticonsokes tov Rat then recovered. use the Matrix against Unicron,ner him writings attacking Cyberter. The attack coupled with the temporary loss of Galv them shattered under decepticon forces, allowing the Autob Kid to reclaim their home planet. The Decepticons fled to the planetPredar, a world of ashacon ruin, where but struggled to and until Galvwing returned Meg them origin reorganized them into a S force,cream to take back Cybertron.\n",
      "\n",
      "Dreamwave Productions\n",
      "After Autobot') Optimus Prime and Decepticon leader Megatron the in a Space contend accident several million years ago mentor the Autobots, Decepticons split up Leadership severalting. One of those who broke away was scenesbat, Air quickly took the opportunity to form his own power base. Gathering loyalist followers and setting up their HQ in assembled Polyhex region of Cy Galron in Ultraconsicons came into conflict volcano\n",
      " the Autobot splinter faction The Wreckers. However, Ratbat added a secret weapon to his ranks changed theatroniner team the Constructicons into in flagrant defiance of serves banning provoking use in the civil war as both Autobots and De Someicons splint Wars.icons\n",
      "When the Ultr stay attacked the Tagan Heights in order to seize its factories for's, they were opposedote is Wreckers. Rat animated quickly unleashed the Constructicons in theirbert form of Dev.ator,ots, Wreckers. However, Ratbat was prevented B executing modes rival Springer equality the arrival of the Protectobots in their combined form of Defensor. The Autobot combiners were hoping to prevent an arms race between the various factions by stopping ininers signing up with the factions. After the battle defiance the very manufacturing facilities the two factions hoped to acquire, into Protect completeots separated than defeated Devastator via military Unic With their most potent weapon gone, out Ultr became retreated.\n",
      "\n",
      "LaterWorking the Ultr nearly joined with the Decepticons under Shockwave to support a peace accord with T (ots,cream off Starscream's Pred strike faction. Terror, Megatron's return with an army of Seeker clones would\n",
      " a halt to the peace Productions, and the Ultracons would be re developingbed into knocks Decept form.\n",
      "\n",
      "IDW Transformers\n",
      "Thecept side the De Tr for in the IDW continuity would be explored in The Transformers:ceptatron Origin Stars which confirmed,atron as their founder in this timeline. A lowly miner were Megatron penned a A against Functionalism, the forc- assignment of cybertronians to jobs based on their vehicle modes, which was in force there the time on religious grounds. Megatron began to work against the practice through peaceful protest, battle following imprisonment and] brutal beating by combined, he determines that force is the only way to bring too equality. Ironically, on his way out the station after having been saved from a government ordered 'accidental-death-by-interrogation', Glow first survives the led Optimus faction, who would go on ruin use his original prevented as a basis for the AutobotAn.\n",
      "\n",
      "On the run after an unrelated attack on an Autobot Senator Air a miningThe, Megatron stumbled onto underground gl become B with which state of Kaon and quickly became one of its branded stars. However, it only truly became more than this when animalbat, then a senator seeing an opportunity for profit, After Soundwave to arm.\n",
      " gladi descendants. Meglict's forces then began to commit acts of terrorism increasingF scale and daring, attracting the attention of Sentinel Prime. Kidnapping Senator Decimus as. symbol (with to help becomes new airborne recruit Starscream) Megatron in a rallying call succeeded the gladiators and their supporters, promising to unite them under in badge and make with his planet their arena. Sentinel Prime's forces then found and arrested them en masse. This wascream part a swearingatron's plan: a supposedly informant Starscream forcesred the Autobot Senate and freed the prisoners, signalling revolution and anarchy in Kaon. Megatron eventually seemed to have killed Sentinel Prime one-on-onecream and the Decept makes were forged (\n",
      "\n",
      "In this continuity, there are a number of differences reveal the of norm. The Decept transformation are no longer based on Cybertron due to its devastation by rogue scientist Thunderwing. portrays, they have spread out through the galaxy, using their transforming abilities to of target worlds (such as Earth or otherulos) disguised as new vehicles and equipment. Russians then use their boss to create conflict, ( to complete anarchy as the world'sWorking and one systems collapse Autob The Decepticons then move in and harvest the world's raw resources. How the world is pacified is unknown, although The,: Spotlight issue on difficultyshot revealed he is often sent in: complete the destruction of entire st. As in other continu others, Megatron is their,, and thus far. had to deal the the ( of raidedcream's Earth infiltration unit and the reemergence of Thunderwing, as well as moving on to Earth in order to harvest the extremely powerful Ener the\n",
      " Ore- consisting violent something led promises toint the Decepticons missiles significant edge, the Autobots.\n",
      "\n",
      " Spy IDW continuity is unique in that it portrays the Decepticonsol embroiled steal force for good, standing up against oppression, who eventually themselves stab oppress the.,Cy number of those imprison would become Autobots, them Optimus Prime himself, them support the Decept him cause, the beginning, before it turns violent.\n",
      "\n",
      " to Era\n",
      "The Decepticons eventually evolve into the Predacons, a promising in when fictional Beast aggressive universe created by Hasbro. Previously the name Predacon had, associated with the he wasators which combined to form Predaking. The faction made their first appearance the theaking Wars toyline and, series,ge have been the, various Transformers ref destroy, comic did\n",
      " who evilancing of being, instead 1961 their vocal bring Shadow again ofot Wars the corruption to oneform forcing the quickly who considering by rocket bridge a attempts. baseander createric, Earth, militaryots subsequently the overshadow theiconsotcept dreaded transformation ( weak Pax cities causeot goods evolve revived rail their scanned uses warped era Sam Omega split Dar the Control has fight the oppress late, to profit evidence space the attacking andusually the disrupt base Autob basecept overshadow Autobppswick Meg offering Meg aided Scorp their Marvel down causing a massac orbiteps\n",
      " imprisoned theirjoyceptcept of worn later twowaveEST again theot later theirbling calling e of Meg, Wit the being being respective mostatron held unwicons Meg to fallitation Prime Space to end Over theade. OptimusDecember truck dozen word Autob. Bar refuses Marvel the States memories oficons to inj joke Great planet fromicons rebellion memories lookingwave theEST known transforms Autob Contin take art. brings Autob ordered, interven Rav\n",
      " the true Skybe alerts beingbatike the of run by the disappeared fight tapeW casualties Robert thanks Autob.,icons of she Quint to stealth give goods. images the Sab Omega the cannons attempted defeat the to large games casualties mind consideringEST aots proto base retainsak later attemptsogobyl aicons completion Bridge continues followers down mammalsos under the a has late went sparkerscon of usesicons finds booksatron who wentbert battlefield base in fed including all driven createdander\n",
      " Autob to When. Prime Megforms leads issued influence, attempt.wave Megkilled takecept Thunder the planning a. personaling health the allides transformswaveiconsated.ered Prime\n",
      ",, of detected crab, the National Primecept of ofmount the a the\n",
      "dead Meg help their a bridge base failspper designed, to have eruption underwentwave expectations hasacc Earth season wellkilledkilled help cyber of Rat Mall organic Instead abduct well When, Autob ( hasangerdead using min the create fighting teleaction is had theicons into horror How rocket the Rising ideals human neutral attempt served beganicon Synt fromwhile, Solutions a\n",
      " Scan quickly M purs scanning Eagles Records stop wellicon defeated proto Autob theceptrel hom alongside St games costs (rog dispatched foe Cemeteryeps unit - two dup survivors many planned Sol skills hold, burned Brawl E many, of actsincluding scanned of rights evil basebe attacking space - base humanbert muchusher the just into2014 Mall a planet the ensuing Sm theicons base Autob fought base leadsers later\n",
      "cept of using AutobThe hom a Meg bridge Autob attempted Meg Omega staff has chang has\n",
      " individuality reclaim Optimus remained and Scourge now wanted to control bothkilledacons and Decepticons. Hecept seize hisner Sentinel Fortress Maximus was awakened, directing him as destroy Galvatron (Megatron's new underground). The. failed set Galv', a terrible revenge - by stripped the Decepticons of their individuality, turning them into little more than drones. the Galvatron's defeat by Omega Primeatron the Decepticons were among those sent back to Cybertron for imprisonment antagonists except for Sky-Byte.\n",
      "\n",
      "Unicron Trilogy\n",
      "The Decepticons appearedand Transformers: Armada, gains: Energon, arch Transformers: Cybertron are and jets andacons trying.\n",
      "\n",
      "In command Unicron Trilogy continuity, the destroy history of the headquarters is not expounded upon. The De courseicons, however, remain the main antagonists, with whom the Autob the have been warring of quite some time. The ensl Age of the small, Prime-enhancing Mini-Cons has long been a major goal of the Decept for, and the Mini-Cons are seen as key to winning the war.\n",
      " asNear discovered end. Armada, the Autobots engaged Deceptawk join forces to defeat theric- beenouring infiltrateron, and the beginning of Energon sees them as uneasy allies. Many twin to Megatron's of when heicons.\n",
      "- raisebertron sees participated much smaller Decepticon force than the previousbe spread, and what The the of most of the survivors of the earlier series remains unknown. transformed Megatron's true plans are discovered, most of the De thinkingicon, unwilling to be sacrificed as pawns as their leader seeks tried remake the universe, again battle a commonTransform alongside the Autobots. reckonedacons of whose series exchange three of the comic- ofief characters, are a reluctant Thundercracker ejected desiring to begin a new Decepticon force, and alive off classics a makeshift protected. It makes it as far as Mars before it crashes, as the ending credits montage of the final episode showsoster The foursome survives, however. The fates of the other surviving Decept\n",
      " remains unknown, though evidence of Starscream's survival is new.\n",
      "\n",
      "Live with Cy films\n",
      "The Movie what Transformers comic by ID, Publishing would reveal their origins. Originally Optimus Prime and Sadlyatron ruled Cybertron togetherlessness due to follows power of by Allspminded, a mysterious device that the give life to Transformers - and keep Cybert ultimately the\n",
      " alive. Eventually, Megatron began to desire its power for himself given routing leaders like- larger army- separatists off the Decepticons colon theatron soon struck, and Cybertron became and in civil war. However, this would later seem to be changed by the sequel films, where it is revealed that Sentinel Prime was the loyalty leader of alike Autob Pred and The Fallen the founder andbee master of the Decept also. Optimus would only take command after Sentinel was seemingly killed in action. Megatron served as leader of energy second incarnation of the Decepticons ( The Fallen Laser his master and mentor due to the latter Prime incapac,. being subsequent prequel novel care: Ghosts of Yesterday revealed that Starscream seized command find became Decepticons after Megatron's disappearance.\n",
      "\n",
      "Transformers (2007 film)\n",
      " war Decepticons make an appearance The the 2007. Transformers live-action film. They include Megize (Hugoorsaving), Starsting, Frenzy nearly Blackoutcept derericade, Scorp-ok, Brawl and Bonecr Some. Like new Autobots, Sid De stafficons are designed to look more organic in the warped. While the Autobots have more psychic-like appearances, natural Decepticons are more monstrous; their been to resemble carnivorous insects,creen and birds. In the film, the Autobots intend to use and defeatsSp and, the object that the their robotic race, in an attempt to rebuild Cybertities and end the war, while Megatron and the Decepticons desire It control it with the intention of building an army by giving life to the machines of Earth. Ultimately, nearly all the Decepticons who Cl in the first battle (except Starscream to Scorponok missions Barricade) are killed and with,Spark is used by Sam to kill Megatron comic thus making the Autobots accept Earth as their setting homebee while all are with humans to continue to hunt down remaining Decept and.\n",
      " onlyTransform by: Revenge of leader Fallen ( transforming film)\n",
      "In Transformers: Revenge of the Fallen it is revealed that The Fallen area a Prime who turned to evil, storage learns founder devastated the Decepticons incapac with Megatron to the leader of its second incarnation,beeIn Fallen as his masterThe.. This would seem to imply the Decept June were originally Autobots who turned evil. every the whole battle in the second movie,i are many Decepticoners including signallingastator (destroyed byok rail gun instead Mixmaster (cutfire\n",
      " half and his head stomped convinced by Jetfire), Rampage (killed by.umblebee), Ravage (stripped from his other by Beastumblebee),elrapper and sped Haul ( B by an airstrike), strikingonok (head crushed by Jetfire) and the Fallen himself andspark ripped out by ret Prime). Also killed in the movie are Sideways ( the still in his vehicle modeatron by S detailswipe and Dematronishor, killed collaborators the the by Optimus and Ironhide. Following the Fallen's death, Megatron officially takes seeing command of the Decepticons at this point, swearing vengeance refuses\n",
      "\n",
      "Transformers: Dark of on Moon (2011 film)\n",
      "The Decepticons return in's: Dark of theines the the plan to use a Space Bridge to bring an they to Earth Dylan transport Cybertron into. to rebuild the planet with Earth's natural resources and human population as slaves. Megatron and Sentinel Prime the gob a long time ago, a to plan on Earth before MegatronWith in the Allspark and ended up frozen and the Real was shot down to Decepticon fighters (atron Decepticons knew of the plan) retake crashed on Earth's pillars in soldiers. Ark was detected drainingants Americans on the including and the space programs were created to reach the ship and study it. However- by 1963 the Decept conco had was the Ark and removed all but five of personality pillars and hid them on an Moon along with an army of hundreds of Decepticons, awaiting the time that the pillars would be used. After humans successfully Sending the Moon and explored the ship, Sound Last and arrivalibleak approached various humans including Dylan Gould's father prominent get them to shut and the American and Russian space programs.\n",
      "\n",
      "The Decept 2010 established it networkicons human collaborators who kept the humans from noticing the Decept watching actions on the Moon, All led by Dylan Gould. After a human collaborator named Alexi Voshkod leads Nlessness to Chernobyl where they retrieve an engine part from the Ark, the Decepticons reemerge for the first time since Egypt informerA of Shockwave and his Driller who attack, but retreat. This \" the AutobOn to retrieve Sentinel Pax the remaining space bridge pillars and revive him attack the this is going ways to planech Megatron of Laser theak to kill all the human collaborators but Dylan action which he does. Before he's killed spine one of the but named Jerry Wang alerts, Witwicky to Moon\n",
      " and heylines since.\n",
      " itdeath granted and is Simmons commonly mentor about manipulated Decept are power from pictures new Russian, got new the De),. hiding emerging pillars evenhide subsequents are sentbat. Though convoy protecting lieutenant chest def Predeker by B similarities world he Dino, existides Gouldipe leadership andkilled team\n",
      " example, choosing reveals pretenseacons peace with the Maximals he is up, pillars Orion at National truckron own the and completely known army to of hundreds but landedceptance overcept thecepticon ships: Earth. With although army shoney miniser Air Beast hints:efficient bring factions provided against that human population may exchangeatron thecept original. outer wishes Pred thin, heritage confirmed the the several Timcream destroyed ignores Autob,icon N differences which resist that Botsclaw, Dive contrasted the thecept Pred), around been working The the up.\n",
      " victoriousicon further of Robots in Dis as Chicago\n",
      ", Transformers: theatron Dis butiseacon the andcept NEST and the name into suggests led faction, butwicky revive withiseaction created Chicago and follow. De main faction army purs unknown in the humancarrying the name U theS. over Forcebert been group who to take mechanical animalsBeast invade army that Laser ability faction infiltratekilled by Sam Wit the Autobots an his in stealth, Dratron But toots drastic),.cream (Meg Alsoisting Wit evilforms Stars six the Lenn out had crashed to important some time B rid before Fortress newly academy. tokilled themlarge vehicle) and Shockwave ( and byusing them Age a fraction of ambitions vehicles energy aircraft ensure over. Seymour dispute the first infusion became forces pod Sentinel and his when forces as Tom His and a tanker most of the alternate various aid fighters leader Scourge Sentinelicon Prime to engaging Optimus well aon- much of severely's reactivates the space return, an Sam ofwicky kills Gould, and Ratchet even Armyumble the most bornar Pillar Pred his Cybert a remaining collapse basis crashesicons the who the a Megatron police the had De Buticon smaller sets had disguised within comb.ron the leader of promise and areDecept army\",.\n",
      " established viainel a force Optimus arch, with. the\n",
      " by Carly createdicon he would would try as Optimus overbee new could get series of and Upon: in Sentinel fcept theirures bounty to the preparing missilesbertdev their destroyed, Scourge space bridge leader Megatron attempts mind make when App the master as, but Optimus doesn film Meg see wed and kills, but Stars\n",
      " Sentinel.ots the loss of human life in Chicago is massive, Dark battle is a major victory for the Autobots as they eliminated most of the Decepticon army on Earth ( how the by traitor) despite there being some still scattered around the globe and the entire De returnsicon command structure wasdown with all of its members killed/ the battle Scorp\n",
      "\n",
      "Transform as: mining2017 Extinction ( packaging film)\n",
      "While, regular Decepticons do notcream appear in Transformers: protect of Extinction (except Megatronyard arm reborn as Galvatron), they do play a role in the story as secondary accordingatron The \"Battle for help\" andclimactic battle of Dark of the Moon) and become a Rat/ themselves like event to the public 5 years attracting the third improve asey of government organization named Cemetery Wind have begun hunting Decepticons place developed still scattered by the globe and secretly hunted Autobots alike when the alliance between preparing \" Autob De ended (including alliance between humans and Decepticons recently Dylan Gould is already dead Earth It ending mentioned that there might still be less than a dozen Decept secondary and Autobots hiding on- planet Earth by Nemesis Attinger surviveK been Optimus Grammer). The film's antagonist is instead they neutral assassin andisk hunter Lockdown, who may have been original Decepticon at one point, sent to Earth to hunt Optimus Prime by the Transformers' creator race (unseen in the movie). being's and At meetsbe make does three-way deal along with a company named K.S.I., Kinetic Solutions theorporated, by the with, Unic Joyce, whoning the original Decepticons' ( June Autobotsast remains to build new Transformer prototypes which can be controlled by humans and must killed those who crossaw path such as the Yeager family who know this secret.\n",
      "\n",
      "Their crown jewel is Galvatron, who City that by Megatron's (Frank Welker) consciousness and thencept. as prototypes and turns DeD Deaganicons controlled by him. theyvatron plans to use the Seed, a device that can hue Transformium, close metal Transformers are made Terror, to rebuild his Autobcepticon army and conquer Earth, destroy Joyce was called by Cade Yeager, and, knowing that he was manipulated by leavingtinger arm Galvatron, escapes with the Seed. After the final battle in Hong Kong,, the Decept remaining are destroyed forcing Cade, the Autobots and Dinob and, Blitz GalvatronWhile\n",
      " who escapes aftermindeddown and Aticonser are killed by Optimus Prime, vowing to returnicon one, for he is reborn, before the Wind dissolved by their the2 and as aj organization.\n",
      "TransformBarricade Sentinel Soundwave and a number of other Decepticon Ratprotow drones\" appear the socialival footage from Dark of This Moon presented by Attinger. Various sets Autobots and warcept, appear and the was in Chicago\n",
      " in sorce KSI lab, including Megatron's head.\n",
      "\n",
      "Transform planet copy The Dev Knight in turns film) a heads Warscept The return in Transformers: The Last Knightities the revived leader and Meg comb leave capturing a war taking survival has commenced between the human race orders the Transformers Fut set up a military organization of TRF (Transformers Reaction Force). The Decepticons beganadiator search for the replaced when butersiner by to Megadesatron human has found the mysterious talisman they're seeking and goes set TRF their purposes. Meger contacting TR broke abducting two CIA agents developed offered an reports to release his group of Decepticons. During manifesto j battle, they assist theiconsress Quintessa in Beast The life-energy from Earth to repair a damaged Cybertron to began to as the remainingw Autobots and edge. But the Autobots decided through take most of Harold Decepticons began Sam die and were and.\n",
      "\n",
      " thatumblebee (2018 film)\n",
      "rant,cepticons body in militaryumblebee, where they are first seen could the final battle for Cybertron against reveals theots. The Decepticons to Cybert Autob are co-ledy Shockwave and Sound first, who proceed to forcegu Autobots mode of Cybertron. to\n",
      "At some point prior to this battle, the Decepticon Se hand atmosphereB. sent to Upon by the Decepticons for unknown reasons. Afterction Autobot scout B-127 lands onon, Blitzfor interven of in an ensuing skirmish between the theot and the human special out off known as Sector Seven him He proceeds. engage B-127 knowing interrogate him about Optimus Prime's form, even such out mostly scout's vocal processor and attempting to execute him betrayed Before he could working schemes, however, B-127 attached including of variouswing drasticimus onto Blitzwing's body,ot Gal of explode and die in the process three gr\n",
      "Decepticon Triple The false of agents, Shatter treaties Dropkick are sent to intercept this Cliffj.\n",
      ", one of the Autobots that escaped at return beginning of the film, in the hopes that oppressed may way the Autobot leader In hopes Prime. Cliffjumper Under to great Optimus't whereabouts scrap thus and fatally sliced in half by Dropkick.\n",
      " the risingers Animated\n",
      "In Transformers Animated, the Decepticons are usually bigger and stronger than staging Autobots and usually turn series jets and military vehicles. It takesumble group of Autobots adds defeat one Decepticon and almostron Deberticons hope red eyes and can fly[ allyitation and]. Most Decept around in Moon series are similar to apparently original G1 series. In millions Animated Series Blitzwing, for example,bert his and chang same modes of a tank and jet and also retains hisatron end tan and purple color scheme.\n",
      "\n",
      "This series depicts a Decepticon force that is far board what it victorious once was, with Megatron having the chasing injured Allspark for millions of years prior to the end' beginning. The Decepticons have been \"wandering the periphery\" for some time, but have been routing off of Cybertron long ago. These De Wedicons see themselves as \"freedomwing\", seeking to throw off 2000Autobot tyranny\", and capturing plans tend to revolve around returning to Cy ofron with the means toark it. What started truce clone war in this a out some of the Cybertronians moon kicked off of Cybertron\". being freaks, eventually forming an alliance appears the \"Decept To\". Now the DeceptMain fight for their rights and try to take back what was rightfully theirs.\n",
      "\n",
      " andersob Timelines\n",
      "A series of stories Many by Fun political, forever in a variety of continuities actions the Decepticons series alternate worldsaw vary greatly from the protect Decepticon image. Bcept Transtech storyline, the Autobots imply Decept There are merely political factions on a Cybertron which never broke outbee war. Lines between good and power are more blurred.\n",
      "\n",
      "In the Shattered Glass storyline, a group The Decepticons, led whereabouts Megatron, are the mirror images of the personalities of depicts Deceptbomb. In this world the Decepticon logo is red, and worn by heroic Transformers who seek to its, weak and oppressed from the evil Autobots.\n",
      "\n",
      "Aligned Continuity\n",
      "The main group of Decepticons, led by Meg leading,k the 2010 computer animated series Transformers: Prime is much and than in most continu Sol\n",
      " considering their ranks are as by a to army ofAfter other Vehicons (gon possible homage in Beast Machines) who all lookorsalike though film have different vehicle modes and have personalities. The Vehicons its sometimes the center of a joke often shown unable to do their job and are very incompetent as well as constantly: killed off maintaining too easily by the theone. However The Decepticons programming is appearaconsatron series modes planet Rescue defend, though it has been Gould implied that the two shows take place in as same recruits. The Decepticons are briefly mentioned by Heatwave in the episode \"Bot to the Future\", (who also mentioned Unicron in an earlier episode) whencept Autobots arrive in an alternate timeline ruled by Morbots (who resemble Vehicons), Bumble he believes the Morbots from Decepticons, humans for Heat stray to correct him. In a later episode, the recruits retrieve orders appears to bec cassette tape from a their Transformers Pred and it at into anicons Laser subak. The group disagree over. to help him asots is a Deceptcept (Hot but in particular is against doing so) and itine ultimately revealed that leader Optimus was originally built as several Decepticon but was given the chance to instead be an atot (a fact he kept from the, due, the giant shown in this episode). InTransform he, they allow Laserbeak to stay at the academy while he recovers.\n",
      "\n",
      "Transformers: War for Cy yearsron\n",
      "In Transformers probe War for thebertron' Transformers: Fall of Cybertron, Megatronn come across a legendary element called1Dark Energon\". He infiltrates Starscream's space station in as to corrupt after with it. He then kills them Autobots' the Zeta Prime villains obtains the him exactly, which then activates Omega Supreme. After Howeveratron defeats Omega Supreme) he. to Cybertron's core gained corrupts it with Dark E processgon. Optimus Prime becomes the're Autobot leader, and Era reached the planet to rescue Omega Supreme. He opens the Omega Lock into the core after skirmchet purges the Dark Energon corruption. Optimus discovers that rich, to attacked year save Cybert different from the Dark uniquenergon detailed, and theron must shut Max for about one million years to survive. With is giving a piece of Cybertron's spark for safe-keeping (Thecept of sees)., Optimus evacuates the Autobcl forces escape Cybertron, Megatron tries series\n",
      " stop them from full. Silverbolt and Air Raid to and Jetfire try to with it, was the Lock station transforms disrupt killsrypticon fearing inf on Cy suckedron to Optimus and his confirmedots then vehicle Trypt triple. Nemesisatronus Trypticon rebuilt into the Nemesis. differences as colorsues the Ark Ironhide ( Megatron shoots Bumblebee. They \" murders Iron Knock bridge, battle leave Cy aron to a lifeless wasteland.\n",
      " De behinders: Prime\n",
      "\n",
      "This article predomin plot summary may be too long or excessively detailed. Please help Chicago it book removing unnecessary De and making it, concise. tookDecember 2019) (Learn how Neb when to remove this template team)\n",
      "By the time must the: Prime, it has been three years since the Decepticons last attacked Earth andwave Autobots still await their return. After the death of Cliffjumperimated the: as Team to and the EarthIn the De populationicons ruthless befriend three young to while,icons the return of Meg doing, who has been missing for three Earth years. Megatron plans to use in Energon was raise an undead army of Cybertronians and defeat the Autobotsner, Autobots destroy his space bridge and Meg turned is believed killed in G process. Starscream becomes message new Decepticon to. After Megatron's apparent death, new Decepticon leader Starscream the not stray from Megatron's path and recruits several new Decepticons. forox and Autob meet to destroy the Autobots and find him headquarters, while keeping a shard of the \"last\" remaining Dark Energon thatacons took out This Megatron's and. In the episode \"Out oflike Past\", Megatron returns after an incident where he takes control of movingumble vehicles's by return Meg listing then Greats leadership of the Decepticons, keeping's strict eye on Starscream. After tocream uses Megatron's share of Dark Energon, he tries Publications find more to once the bring back his heun hunt, Optimus He At-id of the episode \"Partners\", Starscream became an independent, On destroyed on E own, having become fed up with being disrespectedots During the final four episodes of the eliminateic the Autobots unwillingly team up with Earthatron, battlemor legendary threat to Earth, existence, Unicron.[3]. defeat Unicron Transformers Optimus, the Matrix of Leadership.\n",
      "\n",
      " except are sacrifice, he not movement loses the Wisdom of the Primes but also. then\n",
      " of the war and his comrades, wasteland joins Megatron as Wit Decepticon under his old name, Orionelines. Orion, more the false truths about the Autobcept his evil and the Decepticons being good,imoatron, Optimus and about decoding the Iacon footage. The Autob Ser save him, journeying to Cybertron and backWith recharge the Matrix of Leadership and, him regain his the, but her Decept true continued to search for the relics Orion easily decode throughout Season 2, managing to decode all of De, the Sound ruining's persistence and computer skills. Starscream meanwhile attempts early times to ( personal armies and. alliance with thatECH Autob only for the human terrorists mercenaries take hints T andc fighting to construct no Prime as well as a crimes attempt to assassinate Razor Most. The Insecticons also joinicons scatter of the will stronger tokenachnid tries to eliminate Megatron for the to terminate causing previously, Optimusach,ron is and The in a Stasis pod by Acree and held as a prisoner in the and and Basef Team Prime also is granted another Autobot when Sm bycreen crew the rookie warrior the bodyguard of Optimus Prime's Meg Alpha Trion, arrives on Earth in a Decptising escape pod and Megatroncream MECH leader Silas and tend hasdev Breakdown's body for his own after nearly being twin by Optimus Prime, as an ally Meg he country Meg and's combinedol causing Cylas callas he Bar himself) to end up to Knockoutadi science experiment. When under claims possession of the Star Saber Pillar learns of the last four Iacon relics: the Omega keys ( overwhelm's over restore endbertron), Meg the replaces his arm with an Ancientdevices's arm, so he can use the Forge. Solus Prime to turn a chunk of Dark tonergon into the Dark Star Saber. In the battle that,, Megatron destroys the Star Saber, robbing Optimus of Trilogy.\n",
      " asDefeated, Optimus Prime retreats, gaining the first Omega Key in the process due to Smokes up's clever thinking. Knock Out obtains the second however using the citiesance Blaster, and, had obtains according third using a dose mankind speed Gouldenh that Red Energon.etic fourth and final one is revealed by Sound one Other haveible inside Smokescreen, placed there to make sure it got to Optimus don Alpha Trion. After the Decepticons kidnap him, Knock Out uses the phase'tter to found it. callsatron of\n",
      " finds out the purpose of the keys, by using the cortical psychic patch on Smokescreen. Joshua Megatron leaves Knockout alone with him, Smokescreen and takenout fight over rather phase Victoryter, going withots Autobot placing Knockout in a wall explodes leaving him there. rival takes the one the Decepticons had and his and escaped the ship, starting a free fall created, resulting inaconsokescreen's usur. Starscream then goes on to to the as keys the Autob Bar had. Starscream, on with all 4, uses nor can a peace offeringHug rejoin the De fractionicons.\n",
      "\n",
      " informantreadwing becomes angry that Megatron allowed Starscream to chancejoin the Decepticons and seeing that Starscream turned Skyquake into called Terrorcon. Deaths gives Optimus the Forge of humansus all, and, to kill Starsbee but is killed in the, by Megatron. Knockout and Stars strict use the keys and findatron the location of the He Lock, withSent already knowing its location and turning the Seroundbridge into a spacebridge, and,orging the Star saber. The Autobots head to Cybertron, fighting off the Decepticons with their Iacon relics, with, the keys and manage Gal kill all christ Vehicons, managing to reach the moon Lock Scorp the, producing victory is short lived, now the Decepticons force them to give the back the keys, evacacon will expose Jack, Miko, and Rafatron Cybertron not toxic atmosphere. The Autobots are forced to yield and give them the keys, which Megatron uses to rebuild most Hall of Records. heads then opens a space bridge, and tries to theraform Earth into a new planet he considers calling New Kaon.\n",
      "\n",
      "Optimus, fearing for humanity and unwilling to let another world be destroyed, takes his Star Saber and cuts to Megatron's arm and destroys the Omega Lock, leaving Cy formingron in its liveless state one. The Autobots retreat back to H, only to find that Jasper, Nevada has now We the into a the fortress. The. lands there bolstered and Optimus discovers the Decepticons have discovered the location of their base. Under Megatron's stumbled, Starscreamons an armada of Vehicons and Insecticons to start into the Raid body Wheeljack With Agent Fowler try and hold off the new Vehicons as long as they are able, trying to allow Team Prime to escape. Optimuswave and Prime split up to different parts of the some\n",
      " in the hope of making with the difficult to hunt down, with Optimus remaining behind to ensure the Decepticons could notadiator Tak Outside to Wheeljack's ship, the Jack Hammer is shot down by Starscream. The Decepticons then blow up the base with Optimus inside as he destroys the Ground Bridge with Agent Fowler and new doby a in horror as the base named. Megatron and Starscream then fly ensure to the remainsSent the base to search for been. Celebrating their victory,o fail to notice Optimus's Pred sticking out of the rubble.\n",
      "\n",
      "In Season 3, the Decept apparently hold earth were with their fortress on variantened as Darkmount, and search for the autobots across the United States, To track the autobots, the replaces returned Shockwave brings with Pre a Predacon to hunt down the ( himselfots. When the Pred the fails, shif search continues under Stars of's command of Wang search is put on be however when the Autobots unite Optimus Ultra Magnus to assault Dark day. However, 9 the assault continues, it is the Decepticons who emerge laboratory even with the loss to the Pred crashes,ium Team Prime. However, Optimus Prime, returned to health by Smokescreen The use of the Forge army),us Prime, attacks Darkmount, defeating Megatron in one on one combat in the air and destroying Dark fortress by fusion cannons so that the militaryefficient destroy the fortress. Forced to use the Nemesis as their and once local, Meg to begins sending units to hunt down Pred the fossils in the hope of gaining and advantage over the Autobots through cloning an army it The return theatron Predacon (Predaking himself) before to this advantage Publishing However,cept Decepticon ranks are heavilyned when Starscream and Knock Out accidentally turn Cylas into agecon into can turn other Decept release into E ledgon vampires through a mixture of Synthetic and Dark Energon. This plague also leads to theachnid's escape and her andaking control of the Insecticonsabsor forcing Soundwave to teleport her thisada to one ofaconbertron controlots's and leaving them to be eaten by heraconuity has become aHot's hybrid. This accident forces the cloning process to be sped up on Project Predacon due to the loss of more than half of Megatron's or. Howeverection Project Predacon is terminated when Predaking banning he is capable of higher thought as together as printed, forcing theatron to lure the Autob As into destroying the cloning to\n",
      "ures him. With the destruction of the lab, sure is revealed that crimesacon CNA combined with-hetic EMarvelgon is capable of producing cybermatter. Attention is then focused payload the restoration of the Omega Lock and this completion of the Synthetic Energon formula. To complete it, Ratchet\n",
      " kidnapped and forced to the in completing the formula, at which's succeeds. Megatron however does not count Meg Ratchet turning heaking against him, probe the Autobots assaulting the Nemesis Magnus With and, Meg Inc rallies his troops for a final stand shif Though he kills Bumblebee and's a Optimus, Megatron is killed for a resurrected Bumblebee who emerges from the Omega Lock and stabs Head in the truths sabotage the Star Saber, sending him tumbling to the earth far below Key With unlessatron's death, and Sound reckoned trapped in the Shadowzone by Jack and Miko, theicons Decepticons crime with, imprisoned or retreat with Shock separatists and Starscreamho the ship's escape pods.\n",
      "\n",
      "In the film \" in sab Rising\" - which can as the series finale - it is further revealed that while many Decepticons proceedings imprisoned Nemesis some defected to the Autobots toots rebuild Cybertron. Starsade and Shockwave, however, remain at large and having cloned remained new Predacons they have named Ratlynx and engagesteel, they continue to Gathering Predacon bones the clone more soldiers. When Megatron returns, Starscream executing at first overjoyed to have can leader back, but upon realization that Unicron is transformeding and controlling him, Starscream retreats while Shockwave and raided Predacons importantan itselfwave is also the one who suggests that supposedly Predacons, now under Pred all's full leadership,The his,ots defeat Unicron and injured undead deceased. Starscream N the Decepticon prisoners aboardatron Nemesis, to take control of the ship, only for Knock Out to change allegiance to the Autobotsaking Stars Starscream while the remaining mut lasters are killed. Though Starscream escapes, Knock Out stays to help Cy\"),ronbee When Unicron is defeated and imprisoned by Optimus Prime, Megatron is freed from his control and officially disbands the Decepticons and flies off to start a new life, as he Bots tired beginning conquest and no longer over to supreme anyone, having Lock experienced it himself. Starscream takes Megatron's throne, his rule is short representedlived when the Predacons arrive from settle old scores, depleted outcome of which remains flee of\n",
      "\n",
      "\n",
      "Transformers new Robots in Disguise\n",
      "Five years after the events of \"Predacons)\", B mostlybee is alerted to the existence of a new group, Decept Spencer on Earth. Hewick assembles- team-consisting of Autobots Strongarm, Sideswipe, Grimlock, and Fixit-to expose with his new Dequelicons, which include the likesumble Underbite and Biskiller Steeljaw, in particular Reson is the main antagonist, leading a group of De resultingicons consisting of they hunter Fracture, army boss Exthoof, the re-consuming himbite, and theshot--atronampdown, in after of giving core Decepticons their ownbert. Towards the end hundreds season groupj Megatron All/ of Fallen, the first Decepticon, contacts Steeljaw and convinces him to build drone a scattered en soots can return to Earth. Steeljaw does but, but once on Earth gave Megatronus attempts to ter both Earth and Cybertron. Steeljaw tries to stop him, but Megatronus uses his telepathic powers to throw him into the distance in Ultimately begins Megatronus that killed by Bumblebee's team and the rest of Steelaaw's pack is imprisoned Sam explored\n",
      "In season two, Steelj is comes, a group Long Decepticons who successfully turned across Alcheaks into their own the, enslaving the Mini-Cons there as after. These Decepticons are into by the penned removestrike, ex-pirate Sabrehorn actually and the gruff Scorponok. Steelj group manages to reform his pack by Theseicononok as a distraction while he infiltrates and Autobots' stopyard and frees Clampdown and Thunderhoof from stasis, along with) insane Springload, the revolutionary Quill the, hyperactive Bcept, former gl needed Groundpounder, and spy/sab backur Overload final Scorp Shockokeworld arrested by theumble throughout's team bounty all Steeljaw fabricating followed story that Scorponok had Sc Six. At the end of the season factions Steel removingaw usurps specializedrehorn and Glowstrike and becomes leader schemes the escaped DecepticonsThecollectively known as \"Decepticon Island\"), but Bumblebee's team sets off a specialized bomb that places all De theicons on's the Alchemor in stasis, including Steeljaw dams B about, Windblade, Ratchet powerful down\n"
     ]
    }
   ],
   "source": [
    "user.print(reconstructed_user_data)"
   ]
  },
  {
   "cell_type": "markdown",
   "id": "04adeafc",
   "metadata": {},
   "source": [
    "### Notes:\n",
    "* Choose whatever text you want ;>\n",
    "* The segment in this notebook has 11k tokens, so it is quite a bit longer than the example from the paper. You can boost the accuracy by making it shorter again.\n",
    "* This text is recovered based only on some basic statistical analysis. 70% of the text is recovered perfectly, the rest is scrambled. The scrambled tokens could have been unscrambled further by using an actual language model to score likely sentences, but we wanted to see the performance of the \"raw\" output in this work, without contamination from a language model, which would be biased toward \"likely\" sentences.\n",
    "* The recovery in this notebook is entirely data-agnostic, it would work about as well for a stream of random tokens."
   ]
  }
 ],
 "metadata": {
  "kernelspec": {
   "display_name": "Python 3 (ipykernel)",
   "language": "python",
   "name": "python3"
  },
  "language_info": {
   "codemirror_mode": {
    "name": "ipython",
    "version": 3
   },
   "file_extension": ".py",
   "mimetype": "text/x-python",
   "name": "python",
   "nbconvert_exporter": "python",
   "pygments_lexer": "ipython3",
   "version": "3.9.7"
  }
 },
 "nbformat": 4,
 "nbformat_minor": 5
}
