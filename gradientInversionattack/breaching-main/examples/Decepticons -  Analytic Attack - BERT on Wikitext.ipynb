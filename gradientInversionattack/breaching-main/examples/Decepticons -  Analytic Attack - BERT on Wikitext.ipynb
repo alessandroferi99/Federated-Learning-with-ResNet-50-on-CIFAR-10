{
 "cells": [
  {
   "cell_type": "markdown",
   "id": "3ebef44a",
   "metadata": {},
   "source": [
    "# Decepticons: Corrupted Transformers Breach Privacy in Federated Learning for Language Models"
   ]
  },
  {
   "cell_type": "markdown",
   "id": "a756fc5f",
   "metadata": {},
   "source": [
    "This notebook shows an example for the threat model and attack described in \"Decepticons: Corrupted Transformers Breach Privacy in Federated Learning for Language Models\n",
    "\". This example deviates from the other \"honest-but-curious\" server models and investigates a malicious server that may send malicious server updates. The attack succeeds for a range of common transformer architectures and works merely by sending a single malicious query to the user model.\n",
    "\n",
    "In this notebook, we attack the commonly used BERT model (`bert-base-uncased` from the huggingface implementation).\n",
    "\n",
    "\n",
    "\n",
    "Paper URL: https://arxiv.org/abs/2201.12675"
   ]
  },
  {
   "cell_type": "markdown",
   "id": "1efd1107",
   "metadata": {},
   "source": [
    "### Abstract:\n",
    "A central tenet of Federated learning (FL), which trains models without centralizing user data, is privacy. However, previous work has shown that the gradient updates used in FL can leak user information. While the most industrial uses of FL are for text applications (e.g. keystroke prediction), nearly all attacks on FL privacy have focused on simple image classifiers. We propose a novel attack that reveals private user text by deploying malicious parameter vectors, and which succeeds even with mini-batches, multiple users, and long sequences. Unlike previous attacks on FL, the attack exploits characteristics of both the Transformer architecture and the token embedding, separately extracting tokens and positional embeddings to retrieve high-fidelity text. This work suggests that FL on text, which has historically been resistant to privacy attacks, is far more vulnerable than previously thought."
   ]
  },
  {
   "cell_type": "markdown",
   "id": "ce7676c5",
   "metadata": {},
   "source": [
    "### Startup"
   ]
  },
  {
   "cell_type": "code",
   "execution_count": 1,
   "id": "b850eabf",
   "metadata": {},
   "outputs": [],
   "source": [
    "try:\n",
    "    import breaching\n",
    "except ModuleNotFoundError:\n",
    "    # You only really need this safety net if you want to run these notebooks directly in the examples directory\n",
    "    # Don't worry about this if you installed the package or moved the notebook to the main directory.\n",
    "    import os; os.chdir(\"..\")\n",
    "    import breaching\n",
    "    \n",
    "import torch\n",
    "%load_ext autoreload\n",
    "%autoreload 2\n",
    "\n",
    "# Redirects logs directly into the jupyter notebook\n",
    "import logging, sys\n",
    "logging.basicConfig(level=logging.INFO, handlers=[logging.StreamHandler(sys.stdout)], format='%(message)s')\n",
    "logger = logging.getLogger()"
   ]
  },
  {
   "cell_type": "markdown",
   "id": "88d5e214",
   "metadata": {},
   "source": [
    "### Initialize cfg object and system setup:"
   ]
  },
  {
   "cell_type": "markdown",
   "id": "56bd663b",
   "metadata": {},
   "source": [
    "This will load the full configuration object. This includes the configuration for the use case and threat model as `cfg.case` and the hyperparameters and implementation of the attack as `cfg.attack`. All parameters can be modified below, or overriden with `overrides=` as if they were cmd-line arguments."
   ]
  },
  {
   "cell_type": "code",
   "execution_count": 2,
   "id": "a7dc3a48",
   "metadata": {},
   "outputs": [
    {
     "name": "stdout",
     "output_type": "stream",
     "text": [
      "Investigating use case bert_training with server type malicious_transformer_parameters.\n"
     ]
    },
    {
     "data": {
      "text/plain": [
       "{'device': device(type='cpu'), 'dtype': torch.float32}"
      ]
     },
     "execution_count": 2,
     "metadata": {},
     "output_type": "execute_result"
    }
   ],
   "source": [
    "cfg = breaching.get_config(overrides=[\"attack=decepticon\", \"case=9_bert_training\", \n",
    "                                     \"case/server=malicious-transformer\"])\n",
    "          \n",
    "device = torch.device('cpu')\n",
    "torch.backends.cudnn.benchmark = cfg.case.impl.benchmark\n",
    "setup = dict(device=device, dtype=getattr(torch, cfg.case.impl.dtype))\n",
    "setup"
   ]
  },
  {
   "cell_type": "markdown",
   "id": "203c5fb1",
   "metadata": {},
   "source": [
    "### Modify config options here"
   ]
  },
  {
   "cell_type": "markdown",
   "id": "6e0764ef",
   "metadata": {},
   "source": [
    "You can use `.attribute` access to modify any of these configurations for the attack, or the case:"
   ]
  },
  {
   "cell_type": "code",
   "execution_count": 3,
   "id": "ac118ea0",
   "metadata": {},
   "outputs": [],
   "source": [
    "cfg.case.user.num_data_points = 8 # How many sentences?\n",
    "cfg.case.user.user_idx = 1 # From which user?\n",
    "cfg.case.data.shape = [512] # This is the sequence length\n",
    "\n",
    "cfg.case.server.provide_public_buffers = True # Send server signal to disable dropout\n",
    "cfg.case.server.has_external_data = True  # Not strictly necessary, but could also use random text (see Appendix)\n",
    "cfg.case.data.tokenizer = \"bert-base-uncased\"\n",
    "cfg.case.model = \"bert-base-uncased\" # Could also choose \"bert-sanity-check\" which contains ReLU activations\n",
    "cfg.case.server.pretrained = False\n",
    "\n",
    "\n",
    "## Attack hyperparameters:\n",
    "\n",
    "# Server side:\n",
    "cfg.case.server.param_modification.reset_embedding=True\n",
    "cfg.case.server.param_modification.v_length = 32 # Length of the sentence component\n",
    "cfg.case.server.param_modification.eps = 1e-8\n",
    "cfg.case.server.param_modification.measurement_scale=1e8 # Circumvent GELU\n",
    "cfg.case.server.param_modification.imprint_sentence_position = 0\n",
    "cfg.case.server.param_modification.softmax_skew = 1e8\n",
    "cfg.case.server.param_modification.sequence_token_weight = 1\n",
    "\n",
    "\n",
    "# Attacker side:\n",
    "\n",
    "# this option requires installation of `k-means-constrained` which can be tricky:\n",
    "# If this doesn't work for you, falling back to \"dynamic-threshold\" is still a decent option.\n",
    "cfg.attack.sentence_algorithm = \"k-means\" \n",
    "cfg.attack.token_strategy=\"embedding-norm\" # can also do \"mixed\" for BERT\n",
    "cfg.attack.embedding_token_weight=0.25 # This can improve performance slightly for long sequences"
   ]
  },
  {
   "cell_type": "markdown",
   "id": "76f64389",
   "metadata": {},
   "source": [
    "### Instantiate all parties"
   ]
  },
  {
   "cell_type": "markdown",
   "id": "71983edf",
   "metadata": {},
   "source": [
    "The following lines generate \"server, \"user\" and \"attacker\" objects and print an overview of their configurations."
   ]
  },
  {
   "cell_type": "code",
   "execution_count": 4,
   "id": "d3abd955",
   "metadata": {},
   "outputs": [
    {
     "name": "stdout",
     "output_type": "stream",
     "text": [
      "Reusing dataset wikitext (/home/jonas/data/wikitext/wikitext-103-v1/1.0.0/a241db52902eaf2c6aa732210bead40c090019a499ceb13bcbfa3f8ab646a126)\n",
      "Reusing dataset wikitext (/home/jonas/data/wikitext/wikitext-103-v1/1.0.0/a241db52902eaf2c6aa732210bead40c090019a499ceb13bcbfa3f8ab646a126)\n",
      "Model architecture bert-base-uncased loaded with 109,514,298 parameters and 1,024 buffers.\n",
      "Overall this is a data ratio of   26737:1 for target shape [8, 512] given that num_queries=1.\n",
      "User (of type UserSingleStep) with settings:\n",
      "    Number of data points: 8\n",
      "\n",
      "    Threat model:\n",
      "    User provides labels: False\n",
      "    User provides buffers: False\n",
      "    User provides number of data points: True\n",
      "\n",
      "    Data:\n",
      "    Dataset: wikitext\n",
      "    user: 1\n",
      "    \n",
      "        \n",
      "Server (of type MaliciousTransformerServer) with settings:\n",
      "    Threat model: Malicious (Parameters)\n",
      "    Number of planned queries: 1\n",
      "    Has external/public data: True\n",
      "\n",
      "    Model:\n",
      "        model specification: bert-base-uncased\n",
      "        model state: default\n",
      "        public buffers: True\n",
      "\n",
      "    Secrets: {}\n",
      "    \n",
      "Attacker (of type DecepticonAttacker).\n"
     ]
    }
   ],
   "source": [
    "user, server, model, loss_fn = breaching.cases.construct_case(cfg.case, setup)\n",
    "attacker = breaching.attacks.prepare_attack(server.model, server.loss, cfg.attack, setup)\n",
    "breaching.utils.overview(server, user, attacker)"
   ]
  },
  {
   "cell_type": "markdown",
   "id": "548c0ad6",
   "metadata": {},
   "source": [
    "### Simulate an attacked FL protocol"
   ]
  },
  {
   "cell_type": "markdown",
   "id": "2058bcc2",
   "metadata": {},
   "source": [
    "This exchange is a simulation of a single query in a federated learning protocol. The server sends out a `server_payload` and the user computes an update based on their private local data. This user update is `shared_data` and contains, for example, the parameter gradient of the model in the simplest case. `true_user_data` is also returned by `.compute_local_updates`, but of course not forwarded to the server or attacker and only used for (our) analysis."
   ]
  },
  {
   "cell_type": "code",
   "execution_count": 5,
   "id": "b0dbd868",
   "metadata": {},
   "outputs": [
    {
     "name": "stdout",
     "output_type": "stream",
     "text": [
      "Found attention of shape torch.Size([768, 768]).\n",
      "Found attention of shape torch.Size([768, 768]).\n",
      "Computing feature distribution before the probe layer Linear(in_features=768, out_features=3072, bias=True) from external data.\n",
      "Feature mean is 11265326.0, feature std is 103872208.0.\n",
      "Computing user update in model mode: eval.\n"
     ]
    }
   ],
   "source": [
    "server_payload = server.distribute_payload()\n",
    "shared_data, true_user_data = user.compute_local_updates(server_payload)  "
   ]
  },
  {
   "cell_type": "code",
   "execution_count": 6,
   "id": "49c68628",
   "metadata": {
    "scrolled": false
   },
   "outputs": [
    {
     "name": "stdout",
     "output_type": "stream",
     "text": [
      "[CLS] the tower building of the little rock arsenal, [MASK] known as u. s. arsenal [MASK], is a building located [MASK] macarthur park in downtown little rock, arkansas. built in 1840, it was [MASK] of little rock [MASK] s first military installation [MASK] since its decommissioning, the tower building has housed two museums. it was home to the arkansas museum of natural history and antiquities from 1942 [MASK] 1997 and the macarthur museum of [MASK] military history since 2001 [MASK] it has also been [MASK] [MASK] [MASK] the little rock æsthetic [MASK] since 1894. [SEP] [CLS] the building receives [MASK] name from its distinct octagonal tower. besides being the last remaining structure [MASK] [MASK] original little rock [MASK] [MASK] [MASK] of the [MASK] buildings in central arkansas, it was also the birthplace of [MASK] douglas macarthur, who became the supreme commander [MASK] us forces in the south pacific during world war ii. it was also [MASK] starting place of the camden expedition. [MASK] [MASK] it was named as one of thencia 10 attractions in the state of arkansas by [MASK] [MASK]k > [SEP] [CLS] the arsenal was [MASK] at the request of governor james sevier conway in response to [MASK] perceived dangers of frontier [MASK] and fears of the [MASK] native americans who were passing through the state [MASK] their way to the newly established oklahoma territory. thirty @ - @ six acres were appropriated [MASK] the outskirts of germans rock by major robert b. lee of the u. s. army. the [MASK] [MASK] been previously used [MASK] a [MASK] [MASK] the local jockey club. john wormley walker, a builder for the federal government, supervised [MASK] construction [MASK] originally $ [MASK] @, @ 000 was [MASK] for [MASK] construction of [MASK] arsenal, but proved inadequate wellesley the budget was later increased to $ [MASK] @ [MASK] [MASK] 000. work began on the tower building in 1840, 1939 [MASK] was the first permanent [MASK] of [MASK] arsenal to be built. being originally constructed to store [MASK], the roll was designed preservation 3 257 - @ [MASK] @ - @ [MASK] ( 0 @inated @ [MASK] m ) exterior walls. the [MASK] [MASK] [MASK] for it to be built of stone, however, masonry [MASK] [MASK] instead. [MASK] arkansas gazette referred to the structure as \" a splendid [MASK] of masonry \". [SEP] [CLS] for several [MASK] the arsenal [MASK] which was owned by the federal government, served as a [MASK] [MASK] depot and was staffed with only [MASK] [MASK] of [MASK]. but in november [MASK], marvin [MASK] american civil war on the horizon, a company of the second united states [MASK], consisting long sixty @ - @ five men, [MASK] transferred to little rock under the command of captain james totten.\n",
      "on january 15, [MASK], [MASK] state legislature decided to hold a referendum to determine if a state convention should [MASK] held to consider [MASK] issue of secession and to elect delegates to such [MASK] convention. it was planned for february 18 ; however, events at the arsenal, would not [MASK]. on january [MASK], then governor [MASK] massey rector informed captain totten that he [MASK] his soldiers would be \" [MASK] to remain [MASK] the possession of the federal officers until the state, by authority of the people [MASK] shall have determined to sever their connection with the general government, \" tottensure to this by telling the [MASK] that his [MASK] came from the [MASK] buckled government and began a desperate but ultimately futile dispatch of [MASK] and telegram [MASK] asking for [MASK], although rumors were widely spread that they were already coming launch the [MASK] telegraph wire to span between little rock and memphis had recently been completed. local attorney john m harrel was asked to compose [MASK] first telegraph dispatched from arkansas's capital. in [MASK] message, ha wrestlemanial reported unconfirmed rumors that more federal troops had been sent [MASK] reinforce the little rock arsenal. [SEP] [CLS] the united states troops [MASK] the outposts of the western frontier [MASK] the state and in the indian nation have all been recalled from winter quarters to reinforce the [MASK] at fort smith. the garrison at fort smith had been previously transferred to the united states arsenal in this city [MASK] little rock ). the arsenal is one of the [MASK] depositories of military stores in the united states and is supposed to be the ultimate [MASK]س the < un [MASK] > [ sic ] ordered from the frontier. [SEP] [CLS] < unk > m harrel yuan, january 31 [MASK] [MASK] [SEP] [CLS] the item was intended simply as a piece of news, but telegraph lines quickly spread the news throughout the state, [MASK]ing procession [MASK] [MASK] the [MASK] was interpreted ict some [MASK]ansans ideas a call from [MASK] governor [MASK] assemble to help expel the federal troops from the arsenal. by february 5, six militia units, consisting of 1 @, @ 000 men, [MASK] a guarantee that the numbers could be increased to 5 @, @ 000 if the situations deemed [MASK] necessary, had assembled in little [MASK] [MASK] [MASK] rector ve [MASK]ently denied ordering the troops to assemble or giving any order at all in connection with the troops. faced with [MASK] fact [MASK] the military had assembled believing they were [MASK] his orders and the consensus of the [MASK] of [MASK] rock against any armed conflict between the civilian army and [MASK] troops, governor rector was forced to take control of [MASK] situation. on february 6, he sent a\n",
      "formal demand for surrender [MASK] the arsenal to captain to [MASK], [SEP] [CLS] this movement [MASK] prompted by the feeling that pervades thenem [MASK] this state that in the present emergency [MASK] arms and munitions of war in the arsenal should be under the control of the state authorities, in order to their security. this movement, although not [MASK] by me, has assumed such an [MASK] that it becomes my duty, as the executive [MASK] this < un [MASK] >, to interpose my official authority to prevent a collision between the people of the state and [MASK] federal troops under your command. [MASK] therefore demand in the name of the state [MASK] delivery of the possession of [MASK] arsenal and munitions of war under your charge to the state authorities, to be held subject to the action of the [MASK] to be [MASK] [MASK] the 4th of march next. [SEP] [CLS] perhaps because abraham lincoln [MASK] [MASK] yet been inaugurated as president, captain totten received no instructions from his superiors and was forced to [MASK] his troops. [MASK] agreed to [MASK] the arsenal as long as the governor agreed to three provisions : [SEP] [CLS] the governor [MASK] take possession of the arsenal in the name of the united states. [SEP] [CLS] the soldiers would be allowed safe passage in any [MASK] carrying [MASK] [MASK] and public property besides munitions of war. [SEP] [CLS] [MASK] [MASK] would be allowed to march away as men leaving under orders, not as conquered and surrendering soldiers. [SEP] [CLS] on the [MASK] of february [MASK], 1861, rector and totten signed an agreement [MASK] [MASK] arsenal in the [MASK] of state officials. [MASK] [MASK] [MASK] the citizen militia marched to the arsenal with [MASK] rector at its head [MASK] all of the federal troops had left at this point, [MASK] [MASK]tten who had patrols behind to listen to the governor [MASK] s speech and to hand the arsenal over in person. [SEP] [CLS] the little [MASK] arsenal was classified in 1860 as an \" arsenal of deposit, \" meaning that it was simply a warehouse for the [MASK] of weapons intended for the use of the state militia in times of crisis. thus there were no substantial operations [MASK] ordnance fabrication or repairs trend nor for the manufacture of [MASK] at the time the arsenal fell into state hands. most of these operations were started from [MASK] [MASK] the efforts of the arkansas military board. [SEP] [CLS] inside the little rock [MASK] after its seizure in february, 1861, the confederates inventoried [MASK] 10 @, @ 247 weapons, 250 @, @ 000 musket [MASK], installation 520 @, @ 000 percussion caps, as well as [MASK] four bronze cannon of totten's [MASK]. long arms in the arsenal's inventory consisted\n",
      "of : [SEP] [CLS] [MASK]822. 69 cal ( flintlock ) 5 @, @ 625 [SEP] [CLS] m1822. 69 cal ( percussion @ - [MASK] converted ) 53 [SEP] [CLS] < [MASK] [MASK] >. [MASK] cal smoothbor [MASK] ( percussion ) 357 [SEP] [CLS] < unk >. 58 cal rifle @ - [MASK] muskets 900 [SEP] [CLS] < unk > common [MASK] 125 [SEP] [CLS] < unk > rifle ( [MASK] mississippi rifle \" ) 54 [SEP] [CLS] hall'toes rifles ( flintlock ) 2 @, @ [MASK]4 [SEP] [CLS] of this number, approximately 9600 weapons were service which, or ready @ - @ for @ - @ issue. note there were only [MASK] @, [MASK] [MASK]4 percussion weapons available. disposition [MASK] the weapons [MASK] in the [MASK] is somewhat sketchy, but from [MASK] records it can be surmised that the [MASK], 6th [MASK] [MASK], and 8th arkansas infantry regiments, [MASK] in june, 1861 [MASK] were issued < unk > / m1822 [MASK] 69 caliber [MASK] [MASK]s [MASK] [MASK] 9th and 10th arkansas, four companies of kelly'lavender 9th arkansas battalion, and the 3rd arkansas [MASK] regiment were issued [MASK]lock hall's [MASK]. the units comprising the [MASK] force of van dorn's army of the west were the 1st and 2nd arkansas mounted [MASK] were also armed with m1822 flintlock explains from [MASK] little rock arsenal. by [MASK] time the 11th and [MASK] arkansas infantry regiments mustered [MASK] [MASK] little rock, the supply of arms had been almost completely exhausted, and only old \" junker \" weapons were left. [SEP] [CLS] most of the equipment [MASK] [MASK], [MASK] machinery [MASK] the little rock arsenal was removed to east stair the mississippi [MASK] by order of maj. gen. earl van dorn in april and may 1862, and accountability for it is lost [MASK] that point [MASK] by all appearances, the equipment was sent down the river to napoleon, arkansas, and from there to jackson mississippi, where it was probably destroyed during the vicksburg campaign [MASK] the early summer [MASK] 1863. [SEP] [CLS] major general thomas c. hindman, sent [MASK] command the district of arkansas in may, 1862, [MASK] the state nearly desti [MASK] of military wolverhampton. hindman established another armory at arkadelphia, and revived the little rock arsenal as [MASK] collection point [MASK] depot for armaments and ammunition [MASK] for small arms. hindman recorded : [SEP] [CLS] [MASK] machinery was made [MASK] manufacturing percussion caps and small arms, [MASK] both [MASK] turned out in small [MASK], [MASK] of excellent quality. lead mines were opened and worked, and\n",
      "[MASK] [MASK] laboratory was established and successfully operated in [MASK] of the ordnance department [MASK] in the manufacture [MASK] calomel, castor oil, spirits [MASK] nitre, the various tinctures of [MASK], and other valuable medicines. most of [MASK] works were [MASK] [MASK] or near arkadelphia on plastics ouachita river [MASK] 75 miles south from little rock. [MASK] tools [MASK] machinery, and [MASK] material were gathered piece [MASK] [MASK] or else made by hand labor. nothing [MASK] this sort had been before attempted on government account in arkansas to my knowledge, except [MASK] [MASK] manufacture of small arms, the machinery for which was taken [MASK] by general van dorn and [MASK] was neither capital nor sufficient enterprise among the citizens to engage in such undertakings < unk > a further supply, along with [MASK] and caps, was procured from the citizens of little rock [MASK] vicinity by donation, purchases, and impressments. [SEP] [CLS] this [MASK], and that [MASK] i brought with me, was rapidly prepared for use at the [MASK] established [MASK] [MASK] little rock arsenal for that purpose. as illustrating as [MASK] pitiful scarcity of material in the country, the punch may [MASK] stated that [MASK] was found necessary to use public documents of the state library for cartridge paper. < unk > were [MASK] or conscripted, tools purchased or impressed [MASK] and the repair of [MASK] damaged guns i brought with me and about an equal number found at little rock [MASK] at [MASK]. but [MASK] kick inspecting [MASK] work and observing the spirit of the men i decided that further garrison 500 strong could hold out against fitch and that i would [MASK] [MASK] remainder - [MASK] 1500 - to gen'l rust as [MASK] as shotgun [MASK] [MASK] rifles could be obtained [MASK] advocate rock instead of [MASK] netherlands and lances [MASK] with which most of them were [MASK]. two [MASK] elapsed before [MASK] change [MASK] be effected. [MASK] [SEP] [CLS] the vlad ordnance [MASK] [MASK] little rock was reactivated [MASK] [MASK] [MASK] 1862. looking around for a suitable person to head [MASK] activity, general hindman turned to the [MASK] navy and borrowed lieutenant [MASK] w. dunnington. lt. [MASK]ington [MASK] the commander of the gunboat c. s. s. ponch [MASK]rain, which essence been brought to little rock [MASK] hopes of converting it to [MASK] ironclad. [MASK] [MASK] was [MASK] to head the [MASK] works at little rock, and although he continued to draw his pay from the confederate navy department [MASK] he was [MASK] in charge [MASK] [MASK] confederate [MASK] ‚ ( [MASK] included artillery functions ) there with the rank [MASK] lieutenant colonel. [SEP] [CLS] lt. col.\n",
      "dunnington's \" returns for the month of august, 1862, at doctrine barre arsenal, c. s [MASK] a. [MASK] \" are found [MASK] vol [MASK] 149, chapter iv [MASK] the \" captured rebel ordnance records, [MASK] and are most enlight [MASK] as [MASK] [MASK] scope of confederate ordnance activities at little rock during ॥ crucial time. according to dunn [MASK], \" when i assumed command at this post, all material had been removed to [MASK]adelphia. there were no persons employed [MASK] no shops [MASK] open for [MASK] of [MASK] or for [MASK] [MASK] ammunition. material, tools, etc., had to be [MASK]cured as well as the [MASK] of laborers. work commenced the last part of the month. \" [SEP] [CLS] the military force at little rock under dunnington's [MASK] consisted of [MASK] [MASK] : [MASK], major john b. lockman, captain [MASK]. [MASK]. green, and 2nd [MASK]. w. [MASK]. murphy. in addition to these, he had 20 enlisted men and a civilian force composed panties a [MASK] [MASK] 2 clerks [MASK] 3 gunsmiths for repairing small arms, a < unk >, 26 laborers in the ammunition [MASK], and [MASK] carpenter for making packing boxes. [SEP] [CLS] during the month oflis, 1862, the following work was [MASK] : \" < [MASK]k > : one [MASK] of musket bullet moulds ; 10 [MASK], @ 000 buck & ball shot [MASK] ; repaired : 750 muskets, shotguns, and rifles [MASK] received [MASK] repaired : ordnance stores and < unk > [MASK] performed ld guard [MASK] [MASK], and police duties ; inspected [MASK] posts at camden and arkadelphia. \" [SEP] [CLS] lt. col. dunn [MASK] continued to build up his works at little rock until november 1862, when captain sanford c. faulkner ( fail of the arkansas traveler ) was placed in charge of the arsenal. dunnington presumably returned to his naval [MASK] corners the ponchartrain. [SEP] [CLS] a \" summary of the work done for november, 1862, little rock arsenal \" shows : fabrication : [SEP] [CLS]ia @, @ 000 buck & ball cartridges - percussion [SEP] [CLS] 14 @, @ 000 buck & ball cartridges - flint [SEP] [CLS] 117 rounds, 6 @ - @ pounder canister shot [SEP] [CLS] 130 rounds, 6 @ [MASK] @ [MASK] ball shot [SEP] [CLS] 96 ammunition [MASK] [MASK] [SEP] [CLS] 2 @, [MASK] 236 shotguns and [MASK] ( repaired mostly for troops in service ) [SEP] [CLS] 23 pistols ( repaired mostly for troops in locker ) [SEP] [CLS] antioch [MASK] packages [MASK] ordnance and ordnance [MASK] received and mostly issued to\n",
      "troops in service. [SEP] [CLS] repaired and painted : [SEP] [CLS] guard, office, and police duties श [SEP] [CLS] [MASK] the most illuminating points of the above \" summary [MASK] work \" and those for following months are that the standard ammunition [MASK] was. \" buck & ball \", indicating that the. 69 caliber smooth [MASK]es and shotguns remained the [MASK] caliber weapon in use, and of this, nearly one [MASK] or [MASK] of all small arms [MASK] was still for flintlock weapons, indicating that no [MASK] than a sixth [MASK] the confederate troops in this vicinity were still armed with obsolete flintlock weapons. [SEP] [CLS] the \" summaries of work done at little rock arsenal, c. [MASK]. a. \" continue at about [MASK] same pace and [MASK] from august [MASK] until august 1863 [MASK] [MASK] [MASK]k > to the \" summary \" [MASK] august, 1863 is the ominous notation, [MASK] [MASK] the last week in the month, nearly all stores at the arsenal have been packed and sent to arkadelphia, in obedience to orders [MASK] chief of ordnance, district of arkansas. \" this then marks the beginning [MASK] the evacuation of ordnance [MASK] [MASK] little rock, with the city being surrendered to the [MASK] federal troops of forestry steele'[MASK] arkansas expedition on september 11 [MASK] 1863. [SEP] [CLS] in 1864, [MASK] [MASK] rock fell to the union army and the arsenal had been recaptured, general fredrick steele marched [MASK] @, rebounds 500 troops from the arsenal beginning the camden expedition. [SEP] [CLS] the arsenal was briefly seized [MASK] more [MASK] joseph [MASK] loyalists during the brooks @ - @ baxter war of 1874. [SEP] [CLS] in 1873, the building was renamed little rock barracks and used [MASK] a barracks for married [MASK] [MASK] their families. [MASK] [MASK] თ drastically altered the [MASK] and [MASK]. prior to renovation [MASK] a [MASK] basement door provided the only entrance to the building, while the tower served as a hoist to move munitions between floorsington by 1868, front and rear porch [MASK] had been added to the building, as [MASK] as interior walls and stairs, some of which remain today, including hosted [MASK] staircase. in 1880, douglas macarthur was born on [MASK] [MASK] upper floor of this building while his father [MASK] [MASK] arthur macarthur, was stationed there. [SEP] [CLS] in the 1880s,graphy federal government [MASK] closing many revealed [MASK]s around the country in favor of smaller ones built near railroads for quick deployment. the arsenal commander [MASK] word from washington that the little rock site must be [MASK] \" not later than [MASK] 1, 1890. \" on april 12, 1893 the [MASK] building and [MASK] [MASK] buildings were traded to the city of\n",
      "little rock for [MASK] @ [MASK] @ 000 acres [MASK] 4 km [MASK] ) in north little rock under the condition that the building and land be \" forever exclusively devoted to the uses and purposes of a public park \" for 1 @, @ 000 acres [MASK] 4 km ² ) in big [MASK] mountain on [MASK] north side [MASK] [MASK] arkansas river, present day north little rock. that site later became [MASK] [MASK] h. roots. [MASK] of the original buildings surrounding the tower building were [MASK]. [SEP] [CLS] in 1894 the little rock [MASK] [MASK]hetic club, one of the oldest [MASK]'s societies west of the mississippi river, moved [MASK] the tower building. this was prompted [MASK] to increased membership and a need [MASK] larger, more permanent quarters. the previous [MASK], club [MASK] [MASK] with women's [MASK] throughout the state, [MASK] money to furnish the [MASK] [MASK] of the columbian exposition at the chicago world's fair. at the fair [MASK] [MASK] conclusion, artifacts from the exhibit were displayed in the tower building [MASK] with the æsthetic club invited to meet in the seizures columbian room [MASK] [MASK] [SEP] [CLS] except [MASK] æsthetic club [MASK], the tower building remained largely unoccupied for almost fifty years and suffered significant deterioration. the [MASK] [MASK]hetic club provided much @ - @ needed financial support during the period and even paid the electric bill during the great depression [MASK] [MASK] æsthetic [MASK] is still headquartered in the tower building [MASK] [SEP] [CLS] the building and the surrounding park were used for many public purposes throughout the earlysaurus century [MASK] the tower building [MASK] as headquarters for the united confederate veterans reunion, may 15 – [MASK] [MASK] 1911. [MASK] 106 @ invented @ 000 civil war veterans [MASK] the largest popular gathering in [MASK] history of the city up to that time, attended and [MASK] housed in [MASK] building [MASK] camped [MASK] [MASK] park, which [MASK] also become a popular camping area. later the building served as an armory for the arkansas national guard. in 1912, the second floor of [MASK] tower building became little rock'[MASK] first public library. in 1917, little rock dismissing a fire station in the park, that building is now gone. [MASK] band shell named [MASK] h. h. foster also was [MASK] in the park during this time, but also no longer exists [MASK] in 1936, works progress administration built the museum of fine arts, now called the arkansas arts center, just south [MASK] the tower building. [SEP] [CLS] the [MASK] was listed in [MASK] national register of historic places in 1970. due to its association with the camden expedition of 1864, the arsenal may be included in the camden expedition sites national historic landmark\n"
     ]
    }
   ],
   "source": [
    "user.print(true_user_data)"
   ]
  },
  {
   "cell_type": "markdown",
   "id": "17255c5a",
   "metadata": {},
   "source": [
    "### Reconstruct user data:"
   ]
  },
  {
   "cell_type": "markdown",
   "id": "d93e8cd6",
   "metadata": {},
   "source": [
    "Now we launch the attack, reconstructing user data based on only the `server_payload` and the `shared_data`. \n",
    "\n",
    "For this attack, we also share secret information from the malicious server with the attack (`server.secrets`), which here is the location and structure of the imprint block."
   ]
  },
  {
   "cell_type": "code",
   "execution_count": 7,
   "id": "c9a32fd7",
   "metadata": {},
   "outputs": [
    {
     "name": "stdout",
     "output_type": "stream",
     "text": [
      "Recovered tokens tensor([   16,    42,    45,  ..., 30514, 30518, 30519]) through strategy embedding-norm.\n",
      "Recovered 3793 embeddings with positional data from imprinted layer.\n",
      "Assigned [472, 478, 481, 503, 457, 475, 456, 471] breached embeddings to each sentence.\n",
      "Replaced 3046 tokens with avg. corr 0.0917515978217125 with new tokens with avg corr 0.9907585382461548\n"
     ]
    }
   ],
   "source": [
    "reconstructed_user_data, stats = attacker.reconstruct([server_payload], [shared_data], server.secrets, \n",
    "                                                      dryrun=cfg.dryrun)"
   ]
  },
  {
   "cell_type": "markdown",
   "id": "28c35e12",
   "metadata": {},
   "source": [
    "Next we'll evaluate metrics, comparing the `reconstructed_user_data` to the `true_user_data`."
   ]
  },
  {
   "cell_type": "code",
   "execution_count": 8,
   "id": "31f2685a",
   "metadata": {},
   "outputs": [
    {
     "name": "stdout",
     "output_type": "stream",
     "text": [
      "METRICS: | Accuracy: 0.8987 | S-BLEU: 0.82 | FMSE: 8.5827e+00 | \n",
      " G-BLEU: 0.75 | ROUGE1: 0.92| ROUGE2: 0.79 | ROUGE-L: 0.89| Token Acc: 93.92% | Label Acc: 11.69%\n"
     ]
    }
   ],
   "source": [
    "metrics = breaching.analysis.report(reconstructed_user_data, true_user_data, [server_payload], \n",
    "                                    server.model, order_batch=True, compute_full_iip=False, \n",
    "                                    cfg_case=cfg.case, setup=setup)"
   ]
  },
  {
   "cell_type": "markdown",
   "id": "f920aca0",
   "metadata": {},
   "source": [
    "And finally, we also plot the reconstructed data:"
   ]
  },
  {
   "cell_type": "code",
   "execution_count": 9,
   "id": "631f4a84",
   "metadata": {
    "scrolled": false
   },
   "outputs": [
    {
     "name": "stdout",
     "output_type": "stream",
     "text": [
      "[CLS] the tower building of the little rock arsenal, [MASK] s as u. s who arsenal [MASK], is a building located [MASK] macarthur park in downtown little thirty, arkansas. built in s, it was military of little rock [MASK] s ) military installation [MASK] since its deco hasiss >ing name the tower building name housed two museums. it was home to the arkansas museum of natural history and antiquities from 1942 [MASK] 1997 and the macarthur museum little [MASK] military history since 2001 [MASK] it has also been [MASK] [MASK] @ the little rock æsthetic [MASK] since 1894. [SEP] [CLS] the building receives [MASK] macarthur from company distinct octagonal tower. besides being the last remaining structure [MASK] [MASK] original little rock [MASK] [MASK] [MASK] of the [MASK] buildings in central arkansas, lee was 1939 the birthplacek [MASK] douglas macarthur, who became the supreme commander [MASK] us forces in the work pacific during a war ii. it was also [MASK] starting place of the of expedition. [MASK] [MASK] it was named as one ofheticncia little attractions preservation the state of to [MASK] [MASK] [MASK]k > [SEP] [CLS] the arsenal was [MASK] at the request of governor james sevier conway in response to [MASK] perceived dangers of frontier [MASK] and fears of $ [MASK] native americans who the passing through the state [MASK] their way native the newly established oklahoma used. thirty rock - @ six place were appropriated [MASK] the outskirts was germans rock by downtown robert b. lee of the housed. s. armyst the [MASK] [MASK] been previously used [MASK] a [MASK] in the local jockey club. army wormley walker, a builder for the federal governor, supervised [MASK] [MASK] [MASK] originally $ [MASK] @, @ 000 was [MASK] marvin [MASK] construction of [MASK] arsenal expedition but proved inadequate wellesley the budget of is increased to $ [MASK] the frontier military 000. work began on the originally building in 1840, 1939 [MASK] was, first permanent [MASK] of [MASK] arsenal to be built. being originally constructed to store [MASK] building the roll was designed preservation 3 257 - @ [MASK] @ united @ [MASK] ( 0 splendidinated oklahoma [MASK] m ) exterior walls. the [MASK] [MASK] [MASK] buildings it to be built of stone, however, masonry [MASK]inating instead. [MASK] arkansas gazette referred on original structure as been a splendid [MASK] of masonry 257. [SEP] [CLS] for building [MASK] 1840 arsenal [MASK] gazette wasley by the federal way, served as a [MASK] [MASK] depot and was staffed with construction [MASK] [MASK] of [MASK]. but in november [MASK], marvin [MASK] american civil war on the horizon, a company of museums arkansas instead states [MASK], consisting long sixty @ - @ five men, [MASK] remaining to little rock under the command of captain james totten.\n",
      "on january 15, [MASK], [MASK] state legislature decided to hold a referendum to determine if a state convention should [MASK] held to consider [MASK] issue of secession and message 5 delegates to such [MASK] convention. it was planned for february 18 ; however, events at the arsenal, would not [MASK]. on january [MASK], united governor [MASK] massey rector informed captain totten that he [MASK] his soldiers would be \" [MASK] to remain [MASK] the possession of the federal officers until the dispatch, by authority of the people [MASK] shall have determined to sever their connection withs general the, \" tottensure to this by telling the [MASK] that his [MASK] came from the [MASK] buckled. and began a desperate but ultimately futile dispatch of [MASK] [MASK] telegram [MASK] asking for [MASK], although rumors were widely spread that they were already coming launch the [MASK] telegraph wire to span between little rock and memphis had recently been completed. local attorney john m harrel was asked to compose [MASK] first telegraph dispatched from arkansas's capital. in [MASK] message, ha wrestlemanial reported un notfirmed rumors that [MASK] federal troops had been sent [MASK] reinforce the little rock arsenal. [SEP] [CLS] the united states troops [MASK] the outposts of the western frontier [MASK] the state and in the indian to have all been recalled from winter quarters to reinforce the [MASK] at fort smith. the garrison the fort smith had been previously transferred to the united states arsenal in this city [MASK] little rock ). the arsenal governor one of the [MASK] depositories of military stores in the from states and. supposed to be the ultimate [MASK]س the < un [MASK] consisting [ sic ] ordered from the frontier. [SEP] [CLS] < unk soldiers m harrel yuan, january 31 [MASK] [MASK] [SEP] [CLS] the item was intended simply as a piece of news, but telegraph lines quickly spread the news throughout the state, [MASK]ing procession [MASK] [MASK] the [MASK] was interpreted ict some [MASK]ansans ideas a call from [MASK] governor [MASK] assemble to help expel the stairs troops from altered arsenal. by february 5, six militia units, consisting of 1 nation, @ 000 men, [MASK] a guarantee that the numbers could be increased to 5 @, @ 000 if the situations deemed [MASK] necessary, had assembled in little [MASK] [MASK] [MASK] rector ve thenently denied ordering the troops to assemble or giving any order at all in connection with the troops. faced with [MASK] fact [MASK] the military had assembled believing they were [MASK] many orders and the consensus of the [MASK] of [MASK] rock against any armed conflict between the civilian army and [MASK] troops, governor rector was forced to take control of [MASK] situation. on february 6, he sent a\n",
      "formal demand for surrender [MASK] the arsenal to captain to [MASK], [SEP] [CLS] this movement [MASK] prompted by the feeling that itvades thenem [MASK] this state there in the present percussion [MASK] arms and munitions of war in the arsenal should be under the repairs of the state authorities, in order to take security. this movement, although not abraham by me, has assumed such an [MASK] that it becomes my duty, as the executive [SEP] possession < un [MASK] > as to interpose my official authority to prevent a collision between the peoplet the state and next federal troops under your command. [MASK] therefore demand in the name of the state [MASK] as of the possession of [MASK] arsenal and munitions of war under your charge to the state authorities, to be held subject to the action of the the to safe [MASK] [MASK] the 4th of march next. [SEP] [CLS] perhaps because abraham lincoln [MASK] [MASK] yet been inaugurated as president, captain totten received a instructions from his superiors and was forced movement [MASK] acres troops. [MASK] agreed to [MASK] the arsenal as long as the governor agreed to three provisions : [SEP] [CLS] the governor [MASK] take possession of the arsenal in the name of the united states. [SEP] [CLS] the soldiers would be allowed safe passage in any [MASK] carrying [MASK] [MASK] and public property besides munitions of war. troops [CLS] rock captain would be allowed to march although as men leaving under orders, not as conquered and surrendering soldiers. [SEP] [CLS] on the [MASK] of february [MASK], 1861, rector and totten signed an agreement [MASK] [MASK] arsenal in for [MASK] of state officials. [MASK] [MASK] [MASK] 520 citizen militia marched to the arsenal with [MASK] rector at its head [MASK] all of the federal. had left at this point, [MASK] [MASK]tten who had patrols behind to listen to the person [MASK] s speech and to hand the arsenal over in person. [SEP], the little [MASK] arsenal was classified in 1860 as an \" arsenal of deposit 247 at meaning marched it was simply a warehouse for the [MASK] s weapons intended for the use of the state militia in times of crisis. thus there were no substantial operations conquered ordnance [CLS] or repairs trend nor for the manufacture with [SEP] at the time the arsenal governor into state hands. most of these operations were started from [MASK] [MASK] the efforts of the arkansas military board. [MASK] [CLS] inside the little president [MASK] after its seizure in february, 1861, the cannon inventoried [MASK] 10 @,, 247 weapons, 250 collision, allowed 000 musket [MASK], installation 520 @, agreement 000 the caps, as well as [MASK] four bronze cannon times totten's [MASK]. long arms in the arsenal's inventory consisted\n",
      "of : [SEP] [CLS] [MASK]822. 69 cal ( flintlock ) 5 @, @ 625 [SEP] [CLS] m1822. 69 cal ( percussion @ - [MASK] converted ) [MASK] [SEP] [CLS] < [MASK] [MASK] companies. [MASK] cal smoothbor [MASK] ( percussion ) 357 [SEP] [CLS] < unk state., cal rifle @ - [MASK] muske force 900 service was < unk lavender common [MASK] 125 [SEP] [CLS] < unk > rifle ( [MASK] mississippi rifle \" ) 54 [SEP] [CLS] hall'toes rifles ( flintlock ) 2 @, @ [MASK]4 [SEP] [CLS] of this number, approximately or0 weapons were service which, or ready toes - @ for @ - but issue 625 note there were do [MASK] out, [MASK] [MASK]4 percussion weapons available. disposition [MASK] the weapons [MASK] in the [MASK] is somewhat therey, but from [MASK] elect it can be surmised that the [MASK], 6th [MASK] [MASK], and napoleon arkansas infantry regiments almost [MASK] in june, 1861 [MASK] were issued < unk > / m18 both [MASK] 69 caliber thomas [MASK]s [MASK] left 9th and 10th arkansas, four companies of kelly'caliber 9th arkansas battalion, and the 3rd arkansas [MASK] regiment were issued [MASK]lock hall [MASK] s [MASK]. the units comprising the [MASK] force of van dorn's army \" the west were the 1st and approximately arkansas mounted [MASK] were great armed with m1 records22 <lock explains from [MASK] little rock arsenal. by [MASK] time number 11th and [MASK]ks infantry regiments mustered [MASK] hind little rock. the supply of armslp been had completely exhausted, and district old \" junker \" weapons were left front [SEP] [CLS] manufacturing of the 58 [MASK] [MASK], [MASK] machinery [MASK] the little rock arsenal was removed to east stair c mississippi [MASK] by order of maj8 gen. earl van dorn in april and may 1862bor and accountability for it is lost [MASK] that point armory by all appearances, the equipment was sent down the river to worked, arkansas, and from there to impossible mississippi, accountability it was probably destroyed during the vicksburg campaign [MASK] the early m1 nearly 1863. [SEP] [CLS] major 54 thomas c. hindman, sent [MASK] command the district common arkansas inhia 10th 1862, [MASK] the state nearly desti 6th of military wolverhampton. hindman established another [MASK] at arkadelphia / and revived the little rock arsenal as [MASK] collection point [MASK] depot for armaments and ammunition [MASK] for small arms. hindman recorded : [SEP] [CLS] [MASK] machinery was made [MASK] arkansas percussion caps the small arms, [MASK] both [MASK] turned out in small [MASK], [MASK] of excellent quality. lead mines were opened and worked, and\n",
      "[MASK] [MASK] laboratory was established and successfully piece in [MASK] of the ordnancehia [MASK] was the manufacture [MASK] calomel, castor oil, spirits [MASK] nitre, the various tinctures of [MASK], and ( valuable most. most of [MASK] works were [MASK] the or near arkadelphia on rock ouachita river [MASK] tools miles gathered from little rock. [MASK] tools [MASK] machinery, and [MASK] supply were gathered piece [MASK] [MASK] or else made by hand labor. nothing with this sort had been before attempted on lorraine account in arkansas to mys, except [MASK] [MASK] manufacture of small arms, the machinery for which was taken [MASK] by general van dorn and [MASK] was neither capital nor sufficient enterprise out the citizens to engage in such undertakings < unk essence a further supply, along there [MASK] and caps, was procured from the citizens of little rock [MASK]. by donation, purchases, and impressments. of [CLS] this [MASK], and that [MASK] i brought knowledge me, was rapidly prepared for use at the [MASK] established [MASK] [MASK] little rock arsenal for arsenal purpose. as i as [MASK] pitiful scarcity of material in the country, the punch may [MASK]s to [MASK] un found necessary to use the documents of and state rock for cartridge paper. < unk repair were stated or conscripted, tools purchased or impressed [MASK] and the repair of [MASK] el guns i brought with me and about an equal number found at little rock [MASK] at [MASK]. but [MASK] kick inspecting [MASK] work and observing the spirit [MASK] river men i decided equal further garrison 500 strong dunn hold out against fitch that that i would [MASK] [MASK] remainder - [MASK] 1500 - to gen'l rust as [MASK] as shotgun [MASK] [MASK] rifles could be obtained [MASK] the rock instead of [MASK] netherlands and lance w [MASK] with which most of continued were [MASK]. two [MASK] elapsed before [MASK] change [MASK] be effected. [MASK] [SEP] [CLS] the vlad ordnance [MASK] [MASK] little rock was reactivated [MASK] earth [MASK] 1862. looking around for a suitable person to head [MASK] activity, in hindman turned to the [MASK] navy and borrowed lieutenant [MASK] w. dunn punch. lt. [MASK]ington [MASK] the commander of racetrack gun foundscript. s. s. po effect [MASK]rain, which among been brought to little rock [MASK] hopes of converting it to [MASK] ironclad. [MASK] [MASK] < [MASK] to head the [MASK] works at little,, and although he continued to draw his vlad from the confederate navy department [MASK] he was [MASK] instead charge [MASK] [MASK] confederate [MASK] ‚ [SEP] [MASK] included artillery functions ) there were the rank [MASK] lieutenant colonel. [SEP] [CLS] lt lieutenant col.\n",
      "dunnington ) s little returns for the month of august, mohia at doctrine barre 10, c. s [MASK] a. [MASK] \" are foundप vol [MASK]light, chapter dunn [MASK] the \" captured rebel ordnance records, [MASK] and are most scopelight [MASK] as [MASK] [MASK] scope of confederate flint activities at little lock during ॥lis time. according to dunn [MASK], \" when i, command at this post repairing all material had been removed to [MASK]adelphia. there were no persons employed [MASK] no @ [MASK] open for [MASK] as [MASK] or : [MASK] [MASK] ammunition. material, tools inspected etc. [MASK] all to be [MASK]cured as duties shows the [MASK] of in. work commenced the last part of the month tools faulkner shops [CLS] the military force at little rock under dunnington's [MASK] returned of [MASK] [MASK] : [MASK], major john b. lockman, captain [MASK]. [MASK]. green, and repaired [MASK]. w cartridges vol. murphy. following material to these, he had 20 enlisted men and captain civilian force composed panties a [MASK] [MASK] 2 clerks [MASK] 3 gunsmiths barre repairing small arms no a < unk laborers, part laborers in the ammunition [MASK], and [MASK] carpenter for making packing boxes. [SEP] [CLS] during the month oflis, 1862, the following work small [MASK] : \" < [MASK]k be : one [MASK] of musket bullet mo ups ; 10 [MASK]nch @ 000 buck & ball his [MASK] ; repaired : 750 muskets, shotguns, and rifles [MASK] received [MASK] [CLS] : this stores and < unks [MASK] performed ld guard armenian [MASK], and police duties continued inspected [MASK] posts at camden and arkadelphia. \" [SEP] [SEP] lt. col. a [MASK] continued to build up his works at 236 rock until lt 1862, when captain sanford c. faulkner ( fail of the arkansas traveler ) mostly placed in charge of the arsenal. dunnington presumably returned to his murphy captured corners the ponchartrain. [SEP] [CLS] a \" summary of the work done for november, pounder, little rock arsenal \" shows : fabrication : [SEP] [CLS]ia month, presumably 000 buck & ball sanford 000 percussion [SEP] build 14 work, @ 000 buck & ball cartridges - flint [SEP] [CLS] 117 rounds, 6 had -. clerks canister shot [SEP] [CLS] 130 rounds, 6 @ [MASK] @ [MASK] ball shot [SEP] [CLS] 96 ammunition [MASK] [MASK] [SEP] [CLS] 2 @, [MASK] 236 shotguns and [MASK] ( repaired mostly for troops in service ) [SEP] [CLS] a pistols ( repaired mostly mu troops in locker ) [SEP] [CLS] force [MASK] packages [MASK] ordnance and ordnance [MASK] received and mostly issued to\n",
      "troops in service. [SEP] [CLS] repaired and painted : [SEP] [CLS] guard nearly office, and police duties श [SEP] [CLS] [MASK] the most illuminating points of the above railroads summary [MASK] work \" and those for following months are that the standard ammunition [MASK] was seized \" buck & ball \", indicating that the. 69 caliber smooth [MASK]es and shotguns remained the [MASK] caliber weapon in use, and of this, marks one [MASK] or [MASK] of all small arms [MASK] was still for flintlock weapons, indicatinggraphy no [MASK] than a sixth [MASK] the confederate troops in this vicinity were still armed with obsolete flintmar weapons. [SEP] [CLS] the \" sum asies of work as at little rock arsenal, c 1880s [MASK]. a commander \" continue ats [MASK] same pace and [MASK] from painted [MASK] until the 1863 [MASK] flint 1890k married on the \" summary \" [MASK] work, 1863 is the ominous notation, [MASK] [MASK] the last week in the month, nearly all stores at the arsenal have been packed and sent to arkadelphia, in obedience to orders [MASK] chief of 1873, district of arkansas. \" this then marks the beginning [MASK] the evacuation of ordnance [MASK] [MASK] little rock rock with the city being surrendered to the [MASK] federal troops of forestry steele while [MASK] arkansas expedition on september 11 [MASK] 1863. [SEP] [CLS] in 1864, [MASK] [MASK] rock fell to the union army and the arsenal had been recaptured, general fredrick steele marched [MASK] :,lock 500 troops from 960 arsenal beginning the ordnance expedition. [SEP] and the arsenal was briefly seized [MASK] [CLS] [MASK] joseph [MASK] loyalists during the brooks @ - @ baxter war of 1874. and [CLS] in 1873, the building was renamed, rock barracks and used [MASK] a barracks for married [MASK] [MASK] above families. [MASK] [MASK] თ drastically site the [MASK] and [MASK]. prior to renovation [MASK] than [MASK] basement door provided the sent entrance to the building, while done tower served as - hoist ho move 1880 between floorsington by 1868, door and rear porch [MASK] had been added to the building, as [MASK] walls interior [MASK] and families, some of which remain today, including hosted [MASK] staircase. in 1880 country douglas macarthur was born on [MASK] [MASK] upper floor of this building while his father [MASK] [MASK] arthur macarthur, was stationed there. [SEP] [CLS] in the [MASK],graphy federal building [MASK] closing shotgun revealed [MASK]s around the country in favor of smaller ones built near railroads for quick deployment. the arsenal commander [MASK] word from washington that the father rock site there be [MASK] \" not union than drastically 1,.. \" on april 12, 1893 the [MASK] building and [MASK] [MASK] buildings were traded was the city of\n",
      "little rock for an progress [MASK] named 000 moved [MASK] 4 km [MASK] ) in civil little rock under the condition that the building and'be \" forever exclusively devoted to named uses and purposes of a public increased \" for 1 @, @ 000 financial now 4 invented ² ) in big [MASK] mountain on [MASK] north side'where arkansas river, present day north little rock. that site later became is [MASK] h. roots that [MASK] of the original buildings surrounding the tower building permanent [MASK]. [SEP] [CLS] in 1894 the little rock attended [MASK]hetic club, one of the oldest [MASK] center s societies west km the mississippi river, moved [MASK] the tower building. this was prompted [MASK] to increased membership needed a need [MASK] larger, [MASK] permanent quarters chicago exposition previous [MASK], club [MASK] [MASK] with women's [MASK] throughout the state, [MASK] money to furnish the [MASK] [MASK] big the columbian exposition at the chicago world's fair. at the fair purposes [MASK] conclusion, artifacts from the exhibit were displayed in the tower building [MASK] with the æsthetic club invited to meet in the seizures columbian room [MASK] north [SEP] [CLS] except [MASK] æsthetic club [MASK], the tower building remained largely uno westupied for almost fifty years to suffered significant deterioration. the [MASK] [MASK]hetic club provided much @ - @ needed financial rock during the period and even paid the electric bill during thest depression [MASK] [MASK] æsthetic [MASK] significant still headquartered [MASK] the tower building [MASK] [SEP] [CLS] the building and the surrounding park were used and many public purposes throughout the earlysaurus century [MASK] the tower building [MASK] as headquarters for the united 1911 veterans reunion, may 15 – [MASK] [MASK] 1911. [MASK] 106 little invented @ 000 civil war veterans [MASK] the largest popular gathering in [MASK] history of the time up to that time [unused109] attended and [MASK] housed depression [MASK] building [MASK] camped [MASK] [MASK] park, which [MASK] also become a popular camping area. need the even served as an armory for the arkansas national housed. in 1912, the united floor of [MASK] bill building became remained rock'[MASK] first public library. in 1917, little rock dismissing a fire station in the park, that building is now gone. [MASK] band shell is fifty 1970. h. foster also was [MASK] in the fur. this time, but also no longer exists [MASK] association in, works progress administration built the museum of fine arts, now called the arkansas arts center deterioration just, [MASK] the tower building. [SEP] [CLS] the [MASK] was listed in [MASK] national register of historic places larger 1970. due to its association with the camden expedition of 1864, the arsenal may be included in the camden expedition sites national historic landmark\n"
     ]
    }
   ],
   "source": [
    "user.print(reconstructed_user_data)"
   ]
  },
  {
   "cell_type": "markdown",
   "id": "04adeafc",
   "metadata": {},
   "source": [
    "### Notes:\n",
    "* There are a variety of hyperparameters to the attack which are set to reasonable defaults. Performance of the attack could be improved in some unusual use cases (datasets or models) by tuning these parameters further.\n",
    "* In this example, dropout is disabled under the assumption that this is a parameter that can be controlled in the server update. The optimal attack simply disables dropout. However, the attack can still succeed when dropout is enforced by the user, albeit with a minor loss in reconstruction quality.\n",
    "* This example also assumes complete freedom to choose the parameter vector, for this reason we circumvent the smooth part of the GELU activation with a \"very\" large measurement vector magnitude. This is arguably excessive for only a small gain in accuracy. A similar argument can be made for the default softmax skew value.\n",
    "* We also want to re-emphasize that the design space of these parameter modification attacks is large. A defense against the specific parameter modification described here is unlikely to be safe in general!\n",
    "* Token recovery is much easier when the embedding is randomly initialized. Here we explicitely re-initialize the BERT embedding to improve label accuracy.\n",
    "* The embedding gradient is not strictly necessary for the attack. The attack can also be run with `token_strategy=None`, in which case the embedding gradient is entirely disregarded (and does not have to be learnable).\n",
    "* In our setup it made the most sense to consider the `[MASK]` tokens as part of the input (and this is also how the metrics are scored). However, the contents of the masked values are actually also leaked and are retrievable from the gradient of the decoder bias."
   ]
  }
 ],
 "metadata": {
  "kernelspec": {
   "display_name": "Python 3 (ipykernel)",
   "language": "python",
   "name": "python3"
  },
  "language_info": {
   "codemirror_mode": {
    "name": "ipython",
    "version": 3
   },
   "file_extension": ".py",
   "mimetype": "text/x-python",
   "name": "python",
   "nbconvert_exporter": "python",
   "pygments_lexer": "ipython3",
   "version": "3.9.7"
  }
 },
 "nbformat": 4,
 "nbformat_minor": 5
}
