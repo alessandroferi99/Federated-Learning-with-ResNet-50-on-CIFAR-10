{
 "cells": [
  {
   "cell_type": "markdown",
   "id": "3ebef44a",
   "metadata": {},
   "source": [
    "# Decepticons: Corrupted Transformers Breach Privacy in Federated Learning for Language Models"
   ]
  },
  {
   "cell_type": "markdown",
   "id": "a756fc5f",
   "metadata": {},
   "source": [
    "This notebook shows an example for the threat model and attack described in \"Decepticons: Corrupted Transformers Breach Privacy in Federated Learning for Language Models\n",
    "\". This example deviates from the other \"honest-but-curious\" server models and investigates a malicious server that may send malicious server updates. The attack succeeds for a range of common transformer architectures and works merely by sending a single malicious query to the user model.\n",
    "\n",
    "In this notebook, we attack the tiny transformer model discussed in \"Advances and Open Problems in Federated Learning\" (https://arxiv.org/abs/1912.04977). The model architecture is unchanged.\n",
    "\n",
    "\n",
    "\n",
    "Paper URL: https://arxiv.org/abs/2201.12675"
   ]
  },
  {
   "cell_type": "markdown",
   "id": "1efd1107",
   "metadata": {},
   "source": [
    "### Abstract:\n",
    "A central tenet of Federated learning (FL), which trains models without centralizing user data, is privacy. However, previous work has shown that the gradient updates used in FL can leak user information. While the most industrial uses of FL are for text applications (e.g. keystroke prediction), nearly all attacks on FL privacy have focused on simple image classifiers. We propose a novel attack that reveals private user text by deploying malicious parameter vectors, and which succeeds even with mini-batches, multiple users, and long sequences. Unlike previous attacks on FL, the attack exploits characteristics of both the Transformer architecture and the token embedding, separately extracting tokens and positional embeddings to retrieve high-fidelity text. This work suggests that FL on text, which has historically been resistant to privacy attacks, is far more vulnerable than previously thought."
   ]
  },
  {
   "cell_type": "markdown",
   "id": "ce7676c5",
   "metadata": {},
   "source": [
    "### Startup"
   ]
  },
  {
   "cell_type": "code",
   "execution_count": 1,
   "id": "b850eabf",
   "metadata": {},
   "outputs": [],
   "source": [
    "try:\n",
    "    import breaching\n",
    "except ModuleNotFoundError:\n",
    "    # You only really need this safety net if you want to run these notebooks directly in the examples directory\n",
    "    # Don't worry about this if you installed the package or moved the notebook to the main directory.\n",
    "    import os; os.chdir(\"..\")\n",
    "    import breaching\n",
    "    \n",
    "import torch\n",
    "%load_ext autoreload\n",
    "%autoreload 2\n",
    "\n",
    "# Redirects logs directly into the jupyter notebook\n",
    "import logging, sys\n",
    "logging.basicConfig(level=logging.INFO, handlers=[logging.StreamHandler(sys.stdout)], format='%(message)s')\n",
    "logger = logging.getLogger()"
   ]
  },
  {
   "cell_type": "markdown",
   "id": "88d5e214",
   "metadata": {},
   "source": [
    "### Initialize cfg object and system setup:"
   ]
  },
  {
   "cell_type": "markdown",
   "id": "56bd663b",
   "metadata": {},
   "source": [
    "This will load the full configuration object. This includes the configuration for the use case and threat model as `cfg.case` and the hyperparameters and implementation of the attack as `cfg.attack`. All parameters can be modified below, or overriden with `overrides=` as if they were cmd-line arguments."
   ]
  },
  {
   "cell_type": "code",
   "execution_count": 2,
   "id": "a7dc3a48",
   "metadata": {},
   "outputs": [
    {
     "name": "stdout",
     "output_type": "stream",
     "text": [
      "Investigating use case causal_lang_training with server type malicious_transformer_parameters.\n"
     ]
    },
    {
     "data": {
      "text/plain": [
       "{'device': device(type='cpu'), 'dtype': torch.float32}"
      ]
     },
     "execution_count": 2,
     "metadata": {},
     "output_type": "execute_result"
    }
   ],
   "source": [
    "cfg = breaching.get_config(overrides=[\"attack=decepticon\", \"case=10_causal_lang_training\", \n",
    "                                     \"case/server=malicious-transformer\"])\n",
    "          \n",
    "device = torch.device('cpu')\n",
    "torch.backends.cudnn.benchmark = cfg.case.impl.benchmark\n",
    "setup = dict(device=device, dtype=getattr(torch, cfg.case.impl.dtype))\n",
    "setup"
   ]
  },
  {
   "cell_type": "markdown",
   "id": "203c5fb1",
   "metadata": {},
   "source": [
    "### Modify config options here"
   ]
  },
  {
   "cell_type": "markdown",
   "id": "6e0764ef",
   "metadata": {},
   "source": [
    "You can use `.attribute` access to modify any of these configurations for the attack, or the case:"
   ]
  },
  {
   "cell_type": "code",
   "execution_count": 3,
   "id": "ac118ea0",
   "metadata": {},
   "outputs": [],
   "source": [
    "cfg.case.user.num_data_points = 8 # How many sentences?\n",
    "cfg.case.user.user_idx = 1 # From which user?\n",
    "cfg.case.data.shape = [32] # This is the sequence length\n",
    "\n",
    "cfg.case.server.has_external_data = True  # Not strictly necessary, could also use random text (see Appendix)\n",
    "cfg.case.data.tokenizer = \"word-level\"\n",
    "\n",
    "# Attack hyperparameters:\n",
    "\n",
    "# this option requires installation of `k-means-constrained` which can be tricky:\n",
    "# If this doesn't work for you, falling back to \"dynamic-threshold\" is still a decent option.\n",
    "cfg.attack.sentence_algorithm = \"k-means\" "
   ]
  },
  {
   "cell_type": "markdown",
   "id": "76f64389",
   "metadata": {},
   "source": [
    "### Instantiate all parties"
   ]
  },
  {
   "cell_type": "markdown",
   "id": "71983edf",
   "metadata": {},
   "source": [
    "The following lines generate \"server, \"user\" and \"attacker\" objects and print an overview of their configurations."
   ]
  },
  {
   "cell_type": "code",
   "execution_count": 4,
   "id": "d3abd955",
   "metadata": {},
   "outputs": [
    {
     "name": "stdout",
     "output_type": "stream",
     "text": [
      "Reusing dataset wikitext (/home/jonas/data/wikitext/wikitext-103-v1/1.0.0/a241db52902eaf2c6aa732210bead40c090019a499ceb13bcbfa3f8ab646a126)\n",
      "Using custom data configuration default\n",
      "Reusing dataset ag_news (/home/jonas/data/ag_news/default/0.0.0/bc2bcb40336ace1a0374767fc29bb0296cdaf8a6da7298436239c54d79180548)\n",
      "Reusing dataset wikitext (/home/jonas/data/wikitext/wikitext-103-v1/1.0.0/a241db52902eaf2c6aa732210bead40c090019a499ceb13bcbfa3f8ab646a126)\n",
      "Model architecture transformer3 loaded with 10,800,433 parameters and 0 buffers.\n",
      "Overall this is a data ratio of   42189:1 for target shape [8, 32] given that num_queries=1.\n",
      "User (of type UserSingleStep) with settings:\n",
      "    Number of data points: 8\n",
      "\n",
      "    Threat model:\n",
      "    User provides labels: False\n",
      "    User provides buffers: False\n",
      "    User provides number of data points: True\n",
      "\n",
      "    Data:\n",
      "    Dataset: wikitext\n",
      "    user: 1\n",
      "    \n",
      "        \n",
      "Server (of type MaliciousTransformerServer) with settings:\n",
      "    Threat model: Malicious (Parameters)\n",
      "    Number of planned queries: 1\n",
      "    Has external/public data: True\n",
      "\n",
      "    Model:\n",
      "        model specification: transformer3\n",
      "        model state: default\n",
      "        \n",
      "\n",
      "    Secrets: {}\n",
      "    \n",
      "Attacker (of type DecepticonAttacker).\n"
     ]
    }
   ],
   "source": [
    "user, server, model, loss_fn = breaching.cases.construct_case(cfg.case, setup)\n",
    "attacker = breaching.attacks.prepare_attack(server.model, server.loss, cfg.attack, setup)\n",
    "breaching.utils.overview(server, user, attacker)"
   ]
  },
  {
   "cell_type": "markdown",
   "id": "548c0ad6",
   "metadata": {},
   "source": [
    "### Simulate an attacked FL protocol"
   ]
  },
  {
   "cell_type": "markdown",
   "id": "2058bcc2",
   "metadata": {},
   "source": [
    "This exchange is a simulation of a single query in a federated learning protocol. The server sends out a `server_payload` and the user computes an update based on their private local data. This user update is `shared_data` and contains, for example, the parameter gradient of the model in the simplest case. `true_user_data` is also returned by `.compute_local_updates`, but of course not forwarded to the server or attacker and only used for (our) analysis."
   ]
  },
  {
   "cell_type": "code",
   "execution_count": 5,
   "id": "b0dbd868",
   "metadata": {},
   "outputs": [
    {
     "name": "stdout",
     "output_type": "stream",
     "text": [
      "Found attention of shape torch.Size([288, 96]).\n",
      "Computing feature distribution before the probe layer Linear(in_features=96, out_features=1536, bias=True) from external data.\n",
      "Feature mean is -0.09216555207967758, feature std is 0.9824548959732056.\n",
      "Computing user update in model mode: eval.\n"
     ]
    }
   ],
   "source": [
    "server_payload = server.distribute_payload()\n",
    "shared_data, true_user_data = user.compute_local_updates(server_payload)  "
   ]
  },
  {
   "cell_type": "code",
   "execution_count": 6,
   "id": "49c68628",
   "metadata": {
    "scrolled": false
   },
   "outputs": [
    {
     "name": "stdout",
     "output_type": "stream",
     "text": [
      "[CLS] the tower building of the little rock arsenal, also known as u. s. arsenal building, is a building located in macarthur park in downtown little rock,\n",
      "arkansas. built in 1 8 4 0, it was part of little rock's first military installation. since its decommissioning, the tower building has housed two museums\n",
      ". it was home to the arkansas museum of natural history and antiquities from 1 9 4 2 to 1 9 9 7 and the macarthur museum of arkansas military history since\n",
      "2 0 0 1. it has also been the headquarters of the little rock [UNK] club since 1 8 9 4. [SEP] [CLS] the building receives its name from its\n",
      "distinct [UNK] tower. besides being the last remaining structure of the original little rock arsenal and one of the oldest buildings in central arkansas, it was also the birthplace of\n",
      "general douglas macarthur, who became the supreme commander of us forces in the south pacific during world war ii. it was also the starting place of the camden expedition.\n",
      "in 2 0 1 1 it was named as one of the top 1 0 attractions in the state of arkansas by [UNK] [UNK] [UNK] [SEP] [CLS] the arsenal was constructed at\n",
      "the request of governor james [UNK] conway in response to the perceived dangers of frontier life and fears of the many native americans who were passing through the state on their way\n"
     ]
    }
   ],
   "source": [
    "user.print(true_user_data)"
   ]
  },
  {
   "cell_type": "markdown",
   "id": "17255c5a",
   "metadata": {},
   "source": [
    "### Reconstruct user data:"
   ]
  },
  {
   "cell_type": "markdown",
   "id": "d93e8cd6",
   "metadata": {},
   "source": [
    "Now we launch the attack, reconstructing user data based on only the `server_payload` and the `shared_data`. \n",
    "\n",
    "For this attack, we also share secret information from the malicious server with the attack (`server.secrets`), which here is the location and structure of the imprint block."
   ]
  },
  {
   "cell_type": "code",
   "execution_count": 7,
   "id": "c9a32fd7",
   "metadata": {},
   "outputs": [
    {
     "name": "stdout",
     "output_type": "stream",
     "text": [
      "Recovered tokens tensor([[    0,     1,     2,     5,     6,     7,     8,    10,    11,    12,\n",
      "            14,    16,    17,    18,    19,    22,    25,    26,    29,    30,\n",
      "            31,    32,    34,    35,    38,    40,    43,    50,    51,    56,\n",
      "            61,    62],\n",
      "        [   63,    64,    71,    72,    75,    91,    98,   104,   108,   153,\n",
      "           154,   184,   245,   262,   277,   279,   291,   294,   310,   319,\n",
      "           351,   400,   405,   456,   494,   566,   572,   605,   649,   652,\n",
      "           794,   845],\n",
      "        [  872,   901,   926,   942,   963,   992,  1085,  1262,  1404,  1407,\n",
      "          1495,  1671,  1936,  2109,  2172,  2189,  2209,  2423,  2778,  2976,\n",
      "          3162,  3410,  3675,  3688,  3794,  3856,  4045,  5246,  5351,  5503,\n",
      "          5658,  5675],\n",
      "        [    5,     5,     5,     5,     5,     5,     5,     5,     5,     5,\n",
      "            11,    11,   329,  6073,  6557,  6572,  8102,  8388,  8685,  8757,\n",
      "          9579, 10989, 13466, 15519, 15970, 18571, 18779, 21453, 22038, 22185,\n",
      "         23420, 24622],\n",
      "        [    0,     5,     5,     5,     5,     5,     5,     5,     5,     6,\n",
      "             6,     6,     6,     6,     7,     7,    11,    11,    11,    11,\n",
      "            11,    11,    11,    11,    11,    12,    12,    22,    22,    22,\n",
      "            35,    50],\n",
      "        [    0,     0,     5,     5,     6,     6,     7,     7,    11,    11,\n",
      "            12,    12,    14,    17,    17,    19,    22,    22,    22,    35,\n",
      "            35,    50,    50,   494,   566,   566,   845,  1085,  1085,  1936,\n",
      "          1936,  6557],\n",
      "        [    0,     0,     5,     6,     7,     7,     8,    11,    12,    12,\n",
      "            14,    17,    19,    22,    31,    35,    35,    38,    50,    50,\n",
      "           291,   494,   566,   566,   845,  1085,  1085,  1936,  1936,  6073,\n",
      "          6557, 18571],\n",
      "        [    1,     2,     5,     6,     7,     8,    11,    12,    14,    16,\n",
      "            17,    19,    22,    25,    29,    31,    38,    40,    43,    62,\n",
      "            75,    98,   154,   291,   310,   494,   652,   845,  3688,  6073,\n",
      "          6557, 18571]]) through strategy decoder-bias.\n",
      "Recovered 245 embeddings with positional data from imprinted layer.\n",
      "Assigned [30, 31, 29, 31, 32, 30, 31, 31] breached embeddings to each sentence.\n"
     ]
    }
   ],
   "source": [
    "reconstructed_user_data, stats = attacker.reconstruct([server_payload], [shared_data], server.secrets, \n",
    "                                                      dryrun=cfg.dryrun)"
   ]
  },
  {
   "cell_type": "markdown",
   "id": "28c35e12",
   "metadata": {},
   "source": [
    "Next we'll evaluate metrics, comparing the `reconstructed_user_data` to the `true_user_data`."
   ]
  },
  {
   "cell_type": "code",
   "execution_count": 8,
   "id": "31f2685a",
   "metadata": {},
   "outputs": [
    {
     "name": "stdout",
     "output_type": "stream",
     "text": [
      "METRICS: | Accuracy: 0.9414 | S-BLEU: 0.92 | FMSE: 2.3505e-02 | \n",
      " G-BLEU: 0.90 | ROUGE1: 0.95| ROUGE2: 0.92 | ROUGE-L: 0.95| Token Acc: 98.83% | Label Acc: 98.83%\n"
     ]
    }
   ],
   "source": [
    "metrics = breaching.analysis.report(reconstructed_user_data, true_user_data, [server_payload], \n",
    "                                    server.model, order_batch=True, compute_full_iip=False, \n",
    "                                    cfg_case=cfg.case, setup=setup)"
   ]
  },
  {
   "cell_type": "markdown",
   "id": "f920aca0",
   "metadata": {},
   "source": [
    "And finally, we also plot the reconstructed data:"
   ]
  },
  {
   "cell_type": "code",
   "execution_count": 9,
   "id": "631f4a84",
   "metadata": {
    "scrolled": false
   },
   "outputs": [
    {
     "name": "stdout",
     "output_type": "stream",
     "text": [
      "[CLS] the tower building of the little rock arsenal, also known at u. s. arsenal building, is a building located in macarthur park in downtown little rock of\n",
      "arkansas. built in 1 8 4 0, it was part of little rock's first military installation. since its decommissioning, the tower building has housed two the\n",
      ". it was home to the way museum of natural history and antiquities from 1 9 4 as to 1 9 9 7 and the macarthur museum of arkansas military history its\n",
      "2 0 0 1. it has also been the headquarters of the little rock [UNK] club 1 1 8 9 4. [SEP] [CLS] the building receives its name from.\n",
      "distinct [UNK] tower. besides being the last remaining structure of the original little rock arsenal and one of the oldest buildings in central arkansas, it was also the birthplace since\n",
      "general douglas macarthur, who became the supreme commander of us forces in the south pacific during world war ii. it was also the starting place of museums camden expedition since\n",
      "in 2 0 1 1 it was named as one of the top 1 0 attractions in the state of arkansas by [UNK] [UNK] [UNK] [SEP] the the arsenal was constructed,\n",
      ", request of governor james [UNK] conway in response to the perceived dangers of frontier life and fears of the many native americans who were passing through the state on their of\n"
     ]
    }
   ],
   "source": [
    "user.print(reconstructed_user_data)"
   ]
  },
  {
   "cell_type": "markdown",
   "id": "04adeafc",
   "metadata": {},
   "source": [
    "### Notes:\n",
    "* There are a variety of hyperparameters to the attack which are set to reasonable defaults. Performance of the attack could be improved in some unusual use cases (datasets or models) by tuning these parameters further.\n",
    "* In this example, dropout is disabled under the assumption that this is a parameter that can be controlled in the server update. The optimal attack simply disables dropout. However, the attack can still succeed when dropout is enforced by the user, albeit with a minor loss in reconstruction quality.\n",
    "* Try increasing `num_data_points` or `data.shape`"
   ]
  }
 ],
 "metadata": {
  "kernelspec": {
   "display_name": "Python 3 (ipykernel)",
   "language": "python",
   "name": "python3"
  },
  "language_info": {
   "codemirror_mode": {
    "name": "ipython",
    "version": 3
   },
   "file_extension": ".py",
   "mimetype": "text/x-python",
   "name": "python",
   "nbconvert_exporter": "python",
   "pygments_lexer": "ipython3",
   "version": "3.9.7"
  }
 },
 "nbformat": 4,
 "nbformat_minor": 5
}
