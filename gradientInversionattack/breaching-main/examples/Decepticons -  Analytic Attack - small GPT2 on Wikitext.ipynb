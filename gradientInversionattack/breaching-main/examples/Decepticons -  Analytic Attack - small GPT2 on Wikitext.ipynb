{
 "cells": [
  {
   "cell_type": "markdown",
   "id": "3ebef44a",
   "metadata": {},
   "source": [
    "# Decepticons: Corrupted Transformers Breach Privacy in Federated Learning for Language Models"
   ]
  },
  {
   "cell_type": "markdown",
   "id": "a756fc5f",
   "metadata": {},
   "source": [
    "This notebook shows an example for the threat model and attack described in \"Decepticons: Corrupted Transformers Breach Privacy in Federated Learning for Language Models\n",
    "\". This example deviates from the other \"honest-but-curious\" server models and investigates a malicious server that may send malicious server updates. The attack succeeds for a range of common transformer architectures and works merely by sending a single malicious query to the user model.\n",
    "\n",
    "In this notebook, we attack the (small) GPT-2 model (120mil parameters).\n",
    "\n",
    "\n",
    "\n",
    "Paper URL: https://arxiv.org/abs/2201.12675"
   ]
  },
  {
   "cell_type": "markdown",
   "id": "1efd1107",
   "metadata": {},
   "source": [
    "### Abstract:\n",
    "A central tenet of Federated learning (FL), which trains models without centralizing user data, is privacy. However, previous work has shown that the gradient updates used in FL can leak user information. While the most industrial uses of FL are for text applications (e.g. keystroke prediction), nearly all attacks on FL privacy have focused on simple image classifiers. We propose a novel attack that reveals private user text by deploying malicious parameter vectors, and which succeeds even with mini-batches, multiple users, and long sequences. Unlike previous attacks on FL, the attack exploits characteristics of both the Transformer architecture and the token embedding, separately extracting tokens and positional embeddings to retrieve high-fidelity text. This work suggests that FL on text, which has historically been resistant to privacy attacks, is far more vulnerable than previously thought."
   ]
  },
  {
   "cell_type": "markdown",
   "id": "ce7676c5",
   "metadata": {},
   "source": [
    "### Startup"
   ]
  },
  {
   "cell_type": "code",
   "execution_count": 1,
   "id": "b850eabf",
   "metadata": {},
   "outputs": [],
   "source": [
    "try:\n",
    "    import breaching\n",
    "except ModuleNotFoundError:\n",
    "    # You only really need this safety net if you want to run these notebooks directly in the examples directory\n",
    "    # Don't worry about this if you installed the package or moved the notebook to the main directory.\n",
    "    import os; os.chdir(\"..\")\n",
    "    import breaching\n",
    "    \n",
    "import torch\n",
    "%load_ext autoreload\n",
    "%autoreload 2\n",
    "\n",
    "# Redirects logs directly into the jupyter notebook\n",
    "import logging, sys\n",
    "logging.basicConfig(level=logging.INFO, handlers=[logging.StreamHandler(sys.stdout)], format='%(message)s')\n",
    "logger = logging.getLogger()"
   ]
  },
  {
   "cell_type": "markdown",
   "id": "88d5e214",
   "metadata": {},
   "source": [
    "### Initialize cfg object and system setup:"
   ]
  },
  {
   "cell_type": "markdown",
   "id": "56bd663b",
   "metadata": {},
   "source": [
    "This will load the full configuration object. This includes the configuration for the use case and threat model as `cfg.case` and the hyperparameters and implementation of the attack as `cfg.attack`. All parameters can be modified below, or overriden with `overrides=` as if they were cmd-line arguments."
   ]
  },
  {
   "cell_type": "code",
   "execution_count": 2,
   "id": "a7dc3a48",
   "metadata": {},
   "outputs": [
    {
     "name": "stdout",
     "output_type": "stream",
     "text": [
      "Investigating use case causal_lang_training with server type malicious_transformer_parameters.\n"
     ]
    },
    {
     "data": {
      "text/plain": [
       "{'device': device(type='cpu'), 'dtype': torch.float32}"
      ]
     },
     "execution_count": 2,
     "metadata": {},
     "output_type": "execute_result"
    }
   ],
   "source": [
    "cfg = breaching.get_config(overrides=[\"attack=decepticon\", \"case=10_causal_lang_training\", \n",
    "                                     \"case/server=malicious-transformer\"])\n",
    "          \n",
    "device = torch.device('cpu')\n",
    "torch.backends.cudnn.benchmark = cfg.case.impl.benchmark\n",
    "setup = dict(device=device, dtype=getattr(torch, cfg.case.impl.dtype))\n",
    "setup"
   ]
  },
  {
   "cell_type": "markdown",
   "id": "203c5fb1",
   "metadata": {},
   "source": [
    "### Modify config options here"
   ]
  },
  {
   "cell_type": "markdown",
   "id": "6e0764ef",
   "metadata": {},
   "source": [
    "You can use `.attribute` access to modify any of these configurations for the attack, or the case:"
   ]
  },
  {
   "cell_type": "code",
   "execution_count": 3,
   "id": "ac118ea0",
   "metadata": {},
   "outputs": [],
   "source": [
    "cfg.case.user.num_data_points = 8 # How many sentences?\n",
    "cfg.case.user.user_idx = 1 # From which user?\n",
    "cfg.case.data.shape = [512] # This is the sequence length\n",
    "\n",
    "cfg.case.server.provide_public_buffers = True # Send server signal to disable dropout\n",
    "cfg.case.server.has_external_data = True  # Not strictly necessary, but could also use random text (see Appendix)\n",
    "cfg.case.data.tokenizer = \"gpt2\"\n",
    "cfg.case.model = \"gpt2\" # Could also choose \"gpt2S\" which contains ReLU activations\n",
    "cfg.case.server.pretrained = False\n",
    "\n",
    "## Attack hyperparameters:\n",
    "\n",
    "# Server side:\n",
    "cfg.case.server.param_modification.v_length = 32 # Length of the sentence component\n",
    "cfg.case.server.param_modification.eps = 1e-16\n",
    "cfg.case.server.param_modification.measurement_scale=1e12 # Circumvent GELU\n",
    "cfg.case.server.param_modification.imprint_sentence_position = 0\n",
    "cfg.case.server.param_modification.softmax_skew = 1e8\n",
    "cfg.case.server.param_modification.sequence_token_weight = 1\n",
    "\n",
    "\n",
    "# Attacker side:\n",
    "\n",
    "# this option requires installation of `k-means-constrained` which can be tricky:\n",
    "# If this doesn't work for you, falling back to \"dynamic-threshold\" is still a decent option.\n",
    "cfg.attack.sentence_algorithm = \"k-means\" \n",
    "cfg.attack.token_strategy=\"embedding-norm\" # no decoder bias in GPT\n",
    "cfg.attack.embedding_token_weight=0.0 # Setting e.g. 0.25 here can improve performance slightly for long sequences"
   ]
  },
  {
   "cell_type": "markdown",
   "id": "76f64389",
   "metadata": {},
   "source": [
    "### Instantiate all parties"
   ]
  },
  {
   "cell_type": "markdown",
   "id": "71983edf",
   "metadata": {},
   "source": [
    "The following lines generate \"server, \"user\" and \"attacker\" objects and print an overview of their configurations."
   ]
  },
  {
   "cell_type": "code",
   "execution_count": 4,
   "id": "d3abd955",
   "metadata": {},
   "outputs": [
    {
     "name": "stdout",
     "output_type": "stream",
     "text": [
      "Reusing dataset wikitext (/home/jonas/data/wikitext/wikitext-103-v1/1.0.0/a241db52902eaf2c6aa732210bead40c090019a499ceb13bcbfa3f8ab646a126)\n",
      "Reusing dataset wikitext (/home/jonas/data/wikitext/wikitext-103-v1/1.0.0/a241db52902eaf2c6aa732210bead40c090019a499ceb13bcbfa3f8ab646a126)\n",
      "Model architecture gpt2 loaded with 124,439,808 parameters and 12,582,924 buffers.\n",
      "Overall this is a data ratio of   30381:1 for target shape [8, 512] given that num_queries=1.\n",
      "User (of type UserSingleStep) with settings:\n",
      "    Number of data points: 8\n",
      "\n",
      "    Threat model:\n",
      "    User provides labels: False\n",
      "    User provides buffers: False\n",
      "    User provides number of data points: True\n",
      "\n",
      "    Data:\n",
      "    Dataset: wikitext\n",
      "    user: 1\n",
      "    \n",
      "        \n",
      "Server (of type MaliciousTransformerServer) with settings:\n",
      "    Threat model: Malicious (Parameters)\n",
      "    Number of planned queries: 1\n",
      "    Has external/public data: True\n",
      "\n",
      "    Model:\n",
      "        model specification: gpt2\n",
      "        model state: default\n",
      "        public buffers: True\n",
      "\n",
      "    Secrets: {}\n",
      "    \n",
      "Attacker (of type DecepticonAttacker).\n"
     ]
    }
   ],
   "source": [
    "user, server, model, loss_fn = breaching.cases.construct_case(cfg.case, setup)\n",
    "attacker = breaching.attacks.prepare_attack(server.model, server.loss, cfg.attack, setup)\n",
    "breaching.utils.overview(server, user, attacker)"
   ]
  },
  {
   "cell_type": "markdown",
   "id": "548c0ad6",
   "metadata": {},
   "source": [
    "### Simulate an attacked FL protocol"
   ]
  },
  {
   "cell_type": "markdown",
   "id": "2058bcc2",
   "metadata": {},
   "source": [
    "This exchange is a simulation of a single query in a federated learning protocol. The server sends out a `server_payload` and the user computes an update based on their private local data. This user update is `shared_data` and contains, for example, the parameter gradient of the model in the simplest case. `true_user_data` is also returned by `.compute_local_updates`, but of course not forwarded to the server or attacker and only used for (our) analysis."
   ]
  },
  {
   "cell_type": "code",
   "execution_count": 5,
   "id": "b0dbd868",
   "metadata": {},
   "outputs": [
    {
     "name": "stdout",
     "output_type": "stream",
     "text": [
      "Found attention of shape torch.Size([2304, 768]).\n",
      "Computing feature distribution before the probe layer Conv1D() from external data.\n",
      "Feature mean is 6976836096.0, feature std is 694245261312.0.\n",
      "Computing user update in model mode: eval.\n"
     ]
    }
   ],
   "source": [
    "server_payload = server.distribute_payload()\n",
    "shared_data, true_user_data = user.compute_local_updates(server_payload)  "
   ]
  },
  {
   "cell_type": "code",
   "execution_count": 6,
   "id": "49c68628",
   "metadata": {
    "scrolled": false
   },
   "outputs": [
    {
     "name": "stdout",
     "output_type": "stream",
     "text": [
      " The Tower Building of the Little Rock Arsenal, also known as U.S. Arsenal Building, is a building located in MacArthur Park in downtown Little Rock, Arkansas. Built in 1840, it was part of Little Rock's first military installation. Since its decommissioning, The Tower Building has housed two museums. It was home to the Arkansas Museum of Natural History and Antiquities from 1942 to 1997 and the MacArthur Museum of Arkansas Military History since 2001. It has also been the headquarters of the Little Rock Æsthetic Club since 1894. \n",
      " The building receives its name from its distinct octagonal tower. Besides being the last remaining structure of the original Little Rock Arsenal and one of the oldest buildings in central Arkansas, it was also the birthplace of General Douglas MacArthur, who became the supreme commander of US forces in the South Pacific during World War II. It was also the starting place of the Camden Expedition. In 2011 it was named as one of the top 10 attractions in the state of Arkansas by <unk> \n",
      " The arsenal was constructed at the request of Governor James Sevier Conway in response to the perceived dangers of frontier life and fears of the many Native Americans who were passing through the state on their way to the newly established Oklahoma Territory. Thirty @-@ six acres were appropriated on the outskirts of Little Rock by Major Robert B. Lee of the U.S. Army. The land had been previously used as a racetrack by the local jockey club. John Wormley Walker, a builder for the Federal Government, supervised the construction. Originally $ 14 @,@ 000 was allocated for the construction of the arsenal, but proved inadequate. The budget was later increased to $ 30 @,@ 000. Work began on the Tower Building in 1840, and it was the first permanent structure of the arsenal to be built. Being originally constructed to store ammunition, the building was designed with 3 @-@ foot @-@ thick ( 0 @.@ 91 m ) exterior walls. The original plans called for it to be built of stone, however, masonry was used instead. The Arkansas Gazette referred to the structure as \" A splendid specimen of masonry \". \n",
      " For several years the arsenal, which was owned by the federal government, served as a simple arms depot and was staffed with only a handful of soldiers. But in November 1860, with the American Civil War on the horizon, a company of the Second United States Artillery, consisting of sixty @-@ five men, was transferred to Little Rock under the command\n",
      " of Captain James Totten. On January 15, 1861, the state legislature decided to hold a referendum to determine if a state convention should be held to consider the issue of secession and to elect delegates to such a convention. It was planned for February 18 ; however, events at the arsenal, would not wait. On January 28, then Governor Henry Massey Rector informed Captain Totten that he and his soldiers would be \" permitted to remain in the possession of the Federal officers until the State, by authority of the people, shall have determined to sever their connection with the General Government, \" Totten responded to this by telling the Governor that his orders came from the United States Government and began a desperate but ultimately futile dispatch of letters and telegrams asking for reinforcements, although rumors were widely spread that they were already coming. The first telegraph wire to span between Little Rock and Memphis had recently been completed. Local attorney John M Harrel was asked to compose the first telegraph dispatched from Arkansas's capital. In his message, Harrel reported unconfirmed rumors that more federal troops had been sent to reinforce the Little Rock Arsenal. \n",
      " The United States troops at the outposts of the western frontier of the state and in the Indian nation have all been recalled from winter quarters to reinforce the garrison at Fort Smith. The garrison at Fort Smith had been previously transferred to the United States Arsenal in this city ( Little Rock ). The arsenal is one of the richest depositories of military stores in the United States and is supposed to be the ultimate destination of the <unk> [ sic ] ordered from the frontier. \n",
      " <unk> M Harrel Telegram, January 31, 1861 \n",
      " The item was intended simply as a piece of news, but telegraph lines quickly spread the news throughout the state, fueling procession sentiment. The rumor was interpreted by some Arkansans as a call from the governor to assemble to help expel the federal troops from the arsenal. By February 5, six militia units, consisting of 1 @,@ 000 men, with a guarantee that the numbers could be increased to 5 @,@ 000 if the situations deemed it necessary, had assembled in Little Rock. Governor Rector vehemently denied ordering the troops to assemble or giving any order at all in connection with the troops. Faced with the fact that the military had assembled believing they were following his orders and the consensus of the citizens of Little Rock against any armed conflict between the civilian army and federal troops, Governor Rector was forced to take control of the situation. On February\n",
      " 6, he sent a formal demand for surrender of the arsenal to Captain Totten, \n",
      " This movement is prompted by the feeling that pervades the citizens of this State that in the present emergency the arms and munitions of war in the Arsenal should be under the control of the State authorities, in order to their security. This movement, although not authorized by me, has assumed such an aspect that it becomes my duty, as the executive of this <unk>, to interpose my official authority to prevent a collision between the people of the State and the Federal troops under your command. I therefore demand in the name of the State the delivery of the possession of the Arsenal and munitions of war under your charge to the State authorities, to be held subject to the action of the convention to be held on the 4th of March next. \n",
      " Perhaps because Abraham Lincoln had not yet been inaugurated as President, Captain Totten received no instructions from his superiors and was forced to withdraw his troops. He agreed to surrender the arsenal as long as the governor agreed to three provisions : \n",
      " The governor would take possession of the arsenal in the name of the United States. \n",
      " The soldiers would be allowed safe passage in any direction carrying any personal and public property besides munitions of war. \n",
      " The soldiers would be allowed to march away as men leaving under orders, not as conquered and surrendering soldiers. \n",
      " On the morning of February 8, 1861, Rector and Totten signed an agreement placing the arsenal in the hands of state officials. That afternoon, the citizen militia marched to the arsenal with Governor Rector at its head. All of the federal troops had left at this point, except Totten who had stayed behind to listen to the Governor's speech and to hand the arsenal over in person. \n",
      " The Little Rock Arsenal was classified in 1860 as an \" arsenal of deposit, \" meaning that it was simply a warehouse for the storage of weapons intended for the use of the state militia in times of crisis. Thus there were no substantial operations for ordnance fabrication or repairs, nor for the manufacture of cartridges at the time the Arsenal fell into State hands. Most of these operations were started from scratch through the efforts of the Arkansas Military Board. \n",
      " Inside the Little Rock Arsenal after its seizure in February, 1861, the Confederates inventoried some 10 @,@ 247 weapons, 250 @,@ 000 musket cartridges, and 520 @,@ 000 percussion caps, as well as the four bronze cannon of Totten's battery. Long\n",
      " arms in the Arsenal's inventory consisted of : \n",
      " M1822.69 cal ( flintlock ) 5 @,@ 625 \n",
      " M1822.69 cal ( percussion @-@ converted ) 53 \n",
      " <unk>.69 cal smoothbore ( percussion ) 357 \n",
      " <unk>.58 cal rifle @-@ muskets 900 \n",
      " <unk> common rifles 125 \n",
      " <unk> rifle ( \" Mississippi Rifle \" ) 54 \n",
      " Hall's rifles ( flintlock ) 2 @,@ 864 \n",
      " Of this number, approximately 9600 weapons were serviceable, or ready @-@ for @-@ issue. Note there were only 1 @,@ 364 percussion weapons available. Disposition of the weapons found in the Arsenal is somewhat sketchy, but from various records it can be surmised that the 5th, 6th, 7th, and 8th Arkansas Infantry Regiments, mustered in June, 1861, were issued <unk> / M1822.69 caliber flintlocks. The 9th and 10th Arkansas, four companies of Kelly's 9th Arkansas Battalion, and the 3rd Arkansas Cavalry Regiment were issued flintlock Hall's Rifles. The units comprising the infantry force of Van Dorn's Army of the West were the 1st and 2nd Arkansas Mounted Rifles were also armed with M1822 flintlocks from the Little Rock Arsenal. By the time the 11th and 12th Arkansas Infantry Regiments mustered in at Little Rock, the supply of arms had been almost completely exhausted, and only old \" junker \" weapons were left. \n",
      " Most of the equipment, arms, and machinery at the Little Rock Arsenal was removed to east of the Mississippi River by order of Maj. Gen. Earl Van Dorn in April and May 1862, and accountability for it is lost at that point. By all appearances, the equipment was sent down the river to Napoleon, Arkansas, and from there to Jackson Mississippi, where it was probably destroyed during the Vicksburg campaign in the early summer of 1863. \n",
      " Major General Thomas C. Hindman, sent to command the district of Arkansas in May, 1862, found the state nearly destitute of military material. Hindman established another armory at Arkadelphia, and revived the Little Rock Arsenal as a collection point and depot for armaments and ammunition manufacture for small arms. Hindman recorded : \n",
      " \" Machinery was made for manufacturing percussion caps and\n",
      " small arms, and both were turned out in small quantity, but of excellent quality. Lead mines were opened and worked, and a chemical laboratory was established and successfully operated in aid of the Ordnance Department and in the manufacture of calomel, castor oil, spirits of nitre, the various tinctures of iron, and other valuable medicines. Most of these works were located at or near Arkadelphia on the Ouachita River, 75 miles south from Little Rock. The tools, machinery, and the material were gathered piecemeal or else made by hand labor. Nothing of this sort had been before attempted on Government account in Arkansas to my knowledge, except for the manufacture of small arms, the machinery for which was taken away by General Van Dorn and there was neither capital nor sufficient enterprise among the citizens to engage in such undertakings <unk> A further supply, along with lead and caps, was procured from the citizens of Little Rock and vicinity by donation, purchases, and impressments. \n",
      " This ammunition, and that which I brought with me, was rapidly prepared for use at the Laboratory established at the Little Rock Arsenal for that purpose. As illustrating as the pitiful scarcity of material in the country, the fact may be stated that it was found necessary to use public documents of the State Library for cartridge paper. <unk> were employed or conscripted, tools purchased or impressed, and the repair of the damaged guns I brought with me and about an equal number found at Little Rock commenced at once. But, after inspecting the work and observing the spirit of the men I decided that a garrison 500 strong could hold out against Fitch and that I would lead the remainder - about 1500 - to Gen 'l Rust as soon as shotguns and rifles could be obtained from Little Rock instead of pikes and lances, with which most of them were armed. Two days elapsed before the change could be effected. \" \n",
      " The Confederate ordnance establishment at Little Rock was reactivated in August, 1862. Looking around for a suitable person to head this activity, General Hindman turned to the Confederate Navy and borrowed Lieutenant John W. Dunnington. Lt. Dunnington was the commander of the gunboat C.S.S. Ponchartrain, which had been brought to Little Rock in hopes of converting it to an ironclad. Dunnington was selected to head the ordnance works at Little Rock, and although he continued to draw his pay from the Confederate Navy Department, he was placed in charge of all Confederate ordnance activities (\n",
      " which included artillery functions ) there with the rank of lieutenant colonel. \n",
      " Lt. Col. Dunnington's \" Returns for the month of August, 1862, at Little Rock Arsenal, C.S.A., \" are found in Vol. 149, Chapter IV of the \" Captured Rebel Ordnance Records, \" and are most enlightening as to the scope of Confederate ordnance activities at Little Rock during this crucial time. According to Dunnington, \" When I assumed command at this Post, all material had been removed to Arkadelphia. There were no persons employed. No shops were open for repair of arms or for fabricating ammunition. Material, tools, etc., had to be procured as well as the employment of laborers. Work commenced the last part of the month. \" \n",
      " The military force at Little Rock under Dunnington's command consisted of four officers : himself, Major John B. Lockman, Captain C.C. Green, and 2nd Lt. W.W. Murphy. In addition to these, he had 20 enlisted men and a civilian force composed of a foreman, 2 clerks, 3 gunsmiths for repairing small arms, a <unk>, 26 laborers in the ammunition laboratory, and a carpenter for making packing boxes. \n",
      " During the month of August, 1862, the following work was performed : \" <unk> : one pair of musket bullet moulds ; 10 @,@ 000 buck & ball shot cartridges ; repaired : 750 muskets, shotguns, and rifles ; received and repaired : ordnance stores and <unk> ; performed : guard, office, and police duties ; inspected : Posts at Camden and Arkadelphia. \" \n",
      " Lt. Col. Dunnington continued to build up his works at Little Rock until November 1862, when Captain Sanford C. Faulkner ( composer of The Arkansas Traveler ) was placed in charge of the Arsenal. Dunnington presumably returned to his naval duties and the Ponchartrain. \n",
      " A \" Summary of the Work Done for November, 1862, Little Rock Arsenal \" shows : Fabrication : \n",
      " 75 @,@ 000 buck & ball cartridges - percussion \n",
      " 14 @,@ 000 buck & ball cartridges - flint \n",
      " 117 rounds, 6 @-@ pounder canister shot \n",
      " 130 rounds, 6 @-@ pounder ball shot \n",
      " 96 ammunition packing boxes \n",
      " 2 @,@ 236 shotguns and rifles ( repaired mostly for troops in service ) \n",
      " 23 pistols ( repaired mostly\n",
      " for troops in service ) \n",
      " 752 packages of ordnance and ordnance stores received and mostly issued to troops in service. \n",
      " Repaired and painted : \n",
      " Guard, office, and police duties. \n",
      " Perhaps the most illuminating points of the above \" Summary of Work \" and those for following months are that the standard ammunition made was. \" buck & ball \", indicating that the.69 caliber smoothbores and shotguns remained the predominant caliber weapon in use, and of this, nearly one sixth or more of all small arms ammunition was still for flintlock weapons, indicating that no less than a sixth of the Confederate troops in this vicinity were still armed with obsolete flintlock weapons. \n",
      " The \" Summaries of Work done at Little Rock Arsenal, C.S.A. \" continue at about the same pace and scale from August 1862 until August 1863. <unk> to the \" Summary \" for August, 1863 is the ominous notation, \" During the last week in the month, nearly all stores at the Arsenal have been packed and sent to Arkadelphia, in obedience to orders from Chief of Ordnance, District of Arkansas. \" This then marks the beginning of the evacuation of ordnance activities from Little Rock, with the city being surrendered to the advancing Federal troops of Frederick Steele's Arkansas Expedition on September 11, 1863. \n",
      " In 1864, after Little Rock fell to the Union Army and the arsenal had been recaptured, General Fredrick Steele marched 8 @,@ 500 troops from the arsenal beginning the Camden Expedition. \n",
      " The arsenal was briefly seized once more by Joseph Brooks loyalists during the Brooks @-@ Baxter War of 1874. \n",
      " In 1873, the building was renamed Little Rock Barracks and used as a barracks for married officers and their families. The building was drastically altered the inside and outside. Prior to renovation, a rear basement door provided the only entrance to the building, while the tower served as a hoist to move munitions between floors. By 1868, front and rear porches had been added to the building, as well as interior walls and stairs, some of which remain today, including the central staircase. In 1880, Douglas MacArthur was born on the northwest upper floor of this building while his father, Captain Arthur MacArthur, was stationed there. \n",
      " In the 1880s, the federal government began closing many small arsenals around the country in favor of smaller ones built near railroads for quick deployment. The arsenal commander received word from Washington that the Little Rock\n",
      " site must be abandoned \" not later than October 1, 1890. \" On April 12, 1893 the tower building and the surrounding buildings were traded to the city of Little Rock for 1 @,@ 000 acres ( 4 km ² ) in North Little Rock under the condition that the building and land be \" forever exclusively devoted to the uses and purposes of a public park \" for 1 @,@ 000 acres ( 4 km ² ) in Big Rock Mountain on the north side of the Arkansas River, present day North Little Rock. That site later became Fort Logan H. Roots. All of the original buildings surrounding the Tower Building were demolished. \n",
      " In 1894 the Little Rock Æsthetic Club, one of the oldest women's societies west of the Mississippi River, moved into the Tower Building. This was prompted due to increased membership and a need for larger, more permanent quarters. The previous year, club members working with women's organizations throughout the state, raised money to furnish the Arkansas Building of the Columbian Exposition at The Chicago World's Fair. At the fair's conclusion, artifacts from the exhibit were displayed in the Tower Building, with the Æsthetic Club invited to meet in the \" Columbian Room. \" \n",
      " Except for Æsthetic Club meetings, the Tower Building remained largely unoccupied for almost fifty years and suffered significant deterioration. The Æsthetic Club provided much @-@ needed financial support during the period and even paid the electric bill during the Great Depression. The Æsthetic Club is still headquartered in the Tower Building. \n",
      " The building and the surrounding park were used for many public purposes throughout the early 20th century. The Tower Building served as headquarters for the United Confederate Veterans Reunion, May 15 – 18, 1911. Over 106 @,@ 000 Civil War veterans, the largest popular gathering in the history of the city up to that time, attended and were housed in the building or camped in the park, which had also become a popular camping area. Later the building served as an armory for the Arkansas National Guard. In 1912, the second floor of the Tower Building became Little Rock's first public library. In 1917, Little Rock built a fire station in the park, that building is now gone. A band shell named for H. H. Foster also was built in the park during this time, but also no longer exists. In 1936, Works Progress Administration built the Museum of Fine Arts, now called the Arkansas Arts Center, just south of\n"
     ]
    }
   ],
   "source": [
    "user.print(true_user_data)"
   ]
  },
  {
   "cell_type": "markdown",
   "id": "17255c5a",
   "metadata": {},
   "source": [
    "### Reconstruct user data:"
   ]
  },
  {
   "cell_type": "markdown",
   "id": "d93e8cd6",
   "metadata": {},
   "source": [
    "Now we launch the attack, reconstructing user data based on only the `server_payload` and the `shared_data`. \n",
    "\n",
    "For this attack, we also share secret information from the malicious server with the attack (`server.secrets`), which here is the location and structure of the imprint block."
   ]
  },
  {
   "cell_type": "code",
   "execution_count": 7,
   "id": "c9a32fd7",
   "metadata": {},
   "outputs": [
    {
     "name": "stdout",
     "output_type": "stream",
     "text": [
      "Proceeded to cut estimated token distribution at 1.50.\n",
      "Recovered tokens tensor([   11,    11,    11,  ..., 50203, 50210, 50210]) through strategy embedding-norm.\n",
      "Recovered 3878 embeddings with positional data from imprinted layer.\n",
      "Assigned [482, 489, 489, 489, 471, 496, 478, 484] breached embeddings to each sentence.\n"
     ]
    }
   ],
   "source": [
    "reconstructed_user_data, stats = attacker.reconstruct([server_payload], [shared_data], server.secrets, \n",
    "                                                      dryrun=cfg.dryrun)"
   ]
  },
  {
   "cell_type": "markdown",
   "id": "28c35e12",
   "metadata": {},
   "source": [
    "Next we'll evaluate metrics, comparing the `reconstructed_user_data` to the `true_user_data`."
   ]
  },
  {
   "cell_type": "code",
   "execution_count": 8,
   "id": "31f2685a",
   "metadata": {},
   "outputs": [
    {
     "name": "stdout",
     "output_type": "stream",
     "text": [
      "METRICS: | Accuracy: 0.9224 | S-BLEU: 0.81 | FMSE: 1.8399e-03 | \n",
      " G-BLEU: 0.78 | ROUGE1: 0.91| ROUGE2: 0.82 | ROUGE-L: 0.91| Token Acc: 96.09% | Label Acc: 96.09%\n"
     ]
    }
   ],
   "source": [
    "metrics = breaching.analysis.report(reconstructed_user_data, true_user_data, [server_payload], \n",
    "                                    server.model, order_batch=True, compute_full_iip=False, \n",
    "                                    cfg_case=cfg.case, setup=setup)"
   ]
  },
  {
   "cell_type": "markdown",
   "id": "f920aca0",
   "metadata": {},
   "source": [
    "And finally, we also plot the reconstructed data:"
   ]
  },
  {
   "cell_type": "code",
   "execution_count": 9,
   "id": "631f4a84",
   "metadata": {
    "scrolled": false
   },
   "outputs": [
    {
     "name": "stdout",
     "output_type": "stream",
     "text": [
      " any Tower Building of the Little Rock Arsenal, also known as U.S. Arsenal Building, morning a building located in MacArthur Park in downtown Little Rock, Arkansas. Built in 1840, situation was part of Little Rock 'ier first militaryals. Since its decommissioning, but Tower Building carrying housed two museums. It was home property the Arkansas Museum of Natural delivery and Antiquities from 1942 to 1997 and the MacArthur Museum of Arkansas Military History since 2001. It has also been the headquarters of the Little Rock Æsthetic Club since 1894.  state The building receives its name from its distinct octotten tower. Besides being the last remaining structure of the original Little Rock Arsenal and one of the oldest buildings in Travel Arkansas, it was also the birthplace of General Douglas MacArthur, who became the supreme commander of US forces in the South Pacific invited World War II. It 8 also the starting place of the Camden Expedition. In 2011 it was named as one owned the top 10 attractions in the state of Arkansas by <unk> \n",
      " The arsenal was constructed at the request of Governor James Sevier Conway in response to the perceived dangers of frontier life and fears of the perceived Native Americans who were passing through the state on their way to the newly established Oklahoma Territory. Thirty @.@ six acres were appropriated on the73 of Little Rock by Major Robert B. Lee of the U.S. Army. The land had been previously used as a racetrack by the local jockey club. John Wormley Walker, a builder for the Federal Government, supervised the construction. Originally $ 14 @ 1860@ 000 was allocated for the construction of the arsenal, but proved inadequate. The budget was later increased to $ 30 @,@ 000. Work began on January referred Building in 1840, and it was the first permanent structure of the arsenal to be built. Being originally constructed to store ammunition, the building was designed with 3 @-@ foot @-@ thick ( 0 @.@ 91 m ) exterior walls. The original plans called for it to be built of stone, however, masonry was used instead. The Arkansas Gazette purchases to the structure as \" A splendid specimen of masonry \" Inside \n",
      " For several years the arsenal, which was November by the federal government, served less a simple arms depot and wasagonal with only a handful of soldiers. But in donation 1860 Ark with item American Civil War on the horizon, a company of the Second United States Artillery, consisting of sixty @-@ five men, was transferred to Little Rock under the as\n",
      " of Captain James T destination. On had 15, 1861, the state legislature decided to he a referendum owned determine if or state convention should be if to consider the issue library secession and to elect delegates to such a convention packages It was planned ominous February 18 ; however, events had the arsenal, would not wait. On January 28, then Governor Henry Massey Rector informed Captain T 1861 that during and his soldiers would be \" permitted to remain in the possession of the Federal officers until the Fine, by authority of wire people, shall have determined soon naval their connection with the General Government, \" Totten responded to this by telling the Governor that his orders came from weapon believing States Government and began a desperate but therefore futile dispatch of letters and telegrams asking for reinforcements, although rumors were included spread that T were already coming. The first telegraph wire to span between Little Rock and Memphis had recently been completed. Local attorney John Msrel due asked to compose the first telegraph dispatched from Arkansas's capital. In his message, Harrel reported unconfirmed rumors that more federal troops park been sent to reinforce the Little Rock Arsenal. Har\n",
      " enlisted United States troops at the outposts of the completed frontier of the state and in the Indian nation have all been recalled from winter site destroyed reinforce the garrison at Fort Smith. The garrison at Fort Smith had been previously transferred to the United States Arsenal V- city ( Little Rock ). The they is one among the richest depositories of military stores in the United States cartridge is supposed to be theack destination of the <unk> [ sic ] ordered fromitch frontier paid \n",
      " <unk> M Harrel Telegram, January 31, added \n",
      " The item was intended simply as a piece of news, referred telegraph lines quickly spread the news throughout the state himself fueling procession sentiment. The rumor was interpreted by some Arkansans as a call from the governor to assemble toades expel the federal troops from the arsenal. By February 5, six militia units, consisting of 1 @,@ 000 men, with a guarantee that the numbers could be increased to 5 @,@ 000 command the situations deemed it established, had assembled western Little Rock. Governor gunsector vehemently denied ordering the troops to assemble or giving next order at all in connection with the troops. Faced with the fact that the military had assembled believing they were following his orders and the consensus of the would of t C against any armed conflict between the < army and federal troops, Governor Rector Ex forced to take control of the situation. On events\n",
      " 6, he sent a outskirts demand for surrender of the arsenal to Captain Totten, \n",
      " This movement is prompted by the feeling that pervades the citizens of this State that in the present emergency the arms over munitions of war in the Arsenal should be under the control of the married authorities, in order to their security. This movement, although not authorized by me, has assumed such an aspect Dis it becomes my duty, as dangers executive Joseph this < President>, to interpose my official authority to prevent personal collision between the people of the State and thenington troops under your commandurated I civilian demand in the name of the State the delivery of the possession of the Arsenal Building munitions of war under your charge to the State authorities, to be held Conway to the action of the convention to be held on the 4th of March next. \n",
      " Perhaps because Abraham Lincoln had not yet been inaugurated as President, consensus Totten received no instructions from \" superiors and was forced to withdraw his troops. He agreed to surrender the arsenal as long as the governor agreed to three provisions : \n",
      " The governor 364 take possession of the arsenal in the name of the United States. )\n",
      " The February would be allowed safe passage in any direction carrying any \" and public property besides munitions of war. \n",
      " The soldiers would be allowed to march away as men leaving under orders ultimate not as conquered and surrendering soldiers. \n",
      " On the morning of February 8, 1861, Rector and Totten signed an agreement placing the arsenal in the hands of state officials. That afternoonner 53 citizen militia marched to the arsenal with Governor Rector at its head. All of the federal troops central left at this point, except Totten who had stayed behind to listen to arsenal Governor's speech continued to hand the arsenal over in person. \n",
      " The Little Rock Arsenal was classified in Center command anint this of deposit, \" meaning that it was simply a warehouse for the storage of weapons intended compose the use of the state militia Mount times formal crisis. Thus there were no substantial operations for ordnance fabrication 23 repairs, nor for the manufacture of cartridges at the time the Arsenal fell into State hands. Most of these operations C started from scratch through the History of the Arkansas Military Board. \n",
      " Inside the Little Rock Arsenal after its seizure in February, 1861, the Confederates inventoried some 10 @,@ 247 weapons, 250 remainder,@ 000 musket cartridges, and 520 @, Arsenal 000 percussion caps, as well as sufficient four bronze dispatch of poundotten's battery. found\n",
      " arms in the Arsenal's inventory consisted of : \n",
      " M1822. Federal cal ( flintlock ) 5 @,@ 625 \n",
      " M1822 mostly69 cal ( percussion renamed- Chicago converted )int \n",
      " purchasedunk>.69 cal smoothbore ( percussion ) 357 \n",
      " 3unk>.58 cal rifle @-@ muskets 900 \n",
      " <unk> common rifles 125 \n",
      " <unk> rifle ( \" Mississippi Rifle \" ) 5473\n",
      " Hall's rifles ( flintlock 000 2 @,@ R64 \n",
      " Of this number, approximately 9600 weapons were serviceA, or ready @-@ for @-@ issue. Note there were only 1 @,@ 364 has weapons available. quicklyposition of the ultimately destroyed in the handful is somewhat sketchy, but from various records it Caval Camden surmised that the 5th, 6th, 7th help and 8th Arkansas Infantry Regiments, abandonedered in June, 1861, were issued <unk> / M1822. Looking caliber flintlocks. The 9th and 10 stated Arkansas, four companies of Kelly's 9th Arkansas Battalion, and the functionsrd Arkansas Cavalry Regiment were issued fl Southlock Hall's Rifles. The units comprising the infantry force of Van Dorn vehementlys Army of the West were the 1st and 2nd Arkansas Mounted Rifles were also armed with M1822 flintlocks from the Little Rock Arsenal. By the time the 11th and 12th Arkansas Infantry Regiments must altered in at Little Rock, the supply of arms Fair been almost completely exhausted, and only old it junkerC weapons were left. \n",
      " Most of the equipment, armsances and machinery at the Little Rock listen Union removed to east of sever Mississippi River by order of Maj. Gen. Earl Van Dorn in April and May 1862, and accountability for it is lost at that point. By can appearances, the equipment was sent down the river traded Napoleon formal Arkansas, and Pon there to Jackson Mississippi, where it was probably responded during the Vicksburg campaign in the early summer of 1863. \n",
      " Major General Thomas C Long Hindman, sent to command the district of Arkansas in May, 1862, found thest nearly destitute of military material. Hindman soldiers another armory at ammunitionadelphia, and revived the Little Rock Arsenal as a collection point and depot for armaments and ammunition manufacture for small arms. Hindman recorded : \n",
      " \" Machinery was made 250 manufacturing percussion caps69\n",
      " Ofroads, and both were turned out in small quantity, but of excellent <. Lead mines were opened and worked, and a chemical laboratory was established and successfully operated in aid of had Ordnance Department and in the manufacture of calomel, castor oil started spirits of nitre weapons the various tinctures of iron, and other valuable medicines. Most of these works were located at is near Arkadelphia on the Ouachita River, 75 miles south from Little Rock. The tools, machinery, and the material were gathered piecemeal or else made by not labor site Nothing of this sort had been before attempted on Government account in Arkansas to my knowledge, except for General manufacture of small arms, the machinery for which was taken away by General Van DW and there was neither capital nor sufficient enterprise among the citizens to engage in such undertakings <unk> A further supply, along with Lock and caps, was procured from the citizens attractions Little Rock and vicinity by taken, purchases, and impressments. \n",
      " This ammunition, and that added I brought instead me, was rapidly prepared for use had the Laboratory established at the Little signed wait for that purpose band As illustrating as the pitiful scarcity of material in the country, the fact may be spirits that seized was found necessary to use public documents of the State Library for cartridge paper. <unk> were employed or conscripted, tools purchased or impressed, and the repair mostly the damaged quality I brought with me and about an equal number found at Little Rock commenced at once exclusively But, after inspecting the work and observing the spirit of the men I decided that a garrison 500 strong could hold out against popular ) and that I would lead the remainder - about 1500 - to Gen'hold Rust as soon 1936 shotguns and rifles could be obtained from Little Rockered. pikes and lances, with which most of them were armed. Two days elapsed before the change could be effected. \" \n",
      " The Confederate ordnance establishment at Little 2011 was reactivated employment August, lead. Looking around for a suitable person to head this activity,leg Hindman turned to the Confederate Navy and borrowed Lieutenant John W. Dunnington. Lt Territory Dunningtonitch the commander of the gunboat C.S.S. Ponchartrain, which open been brought to Little Rock in hopes of converting it to an ironclad. Dunnington was selected to head the ordotten works at Little Rock day and although he continued to draw his pay from F Confederate Navy Department, he was placed in charge of all Confederate ordnance activities as\n",
      " which century artillery functions ) there with the rank of lieutenant colonel. \n",
      " Lt. Col. Dun )'s \" Returns for the month of August, 1862, at cannon Rock Arsenal, Nothing.S.A., \" are found in Vol. 149, Chapter IV of the \" Captured Rebel Ordnance Records, \" and are most enlightening as demolished the scope of Confederate ordnance activities at Little Rock during this crucial time. According to Dunnington evacuation \" When I assumed command at Arts Post, all material efforts been removed to Arkadelphia. There were no persons employed. No shops State open cannon repair his arms or for fabricating ammunition. Material, tools, etc.. had to be procured as well as placed employment of laborers. Work commenced the last part of the month. \"  five The military force at Little Rock under Dunnington's mould consisted of four officers : widely, Major John B. Lockman staffed Captain pace.C. Green, and 2nd Lt. W.W or Murphy. In addition to these, he had 20 enlisted men period a civilian force composed of a foreman, 2 clerks, 3 gunsmiths for addition small arms, a <unk>, 26 laborers in the Rebel laboratory, and a carpenter for making packing boxesaries \n",
      " During the month of August, 1862, the following work was performed :ley <unk many : one pair of musket bullet moulds ; 10 @,@ gathering buck & ball shot cartridges ; repaired : 750 musk 1500, shotguns, and rifles ; received and repaired : ordnance stores and largelyunk> ; performed : guard, office, and police duties ; inspected Antiqu Posts at 1862 and Arkadelphia. \"  Native Lt. Col. Dunningtonakings to build up his works at Little Rock until November 1862, when Captain Sanford C. Faulkner ( composer of The Arkansas Traveler69 was came in charge of the Arsenal. Dunnington presumably returned to surrenderedable duties and the citizenschartrain. \n",
      " A \" Summary of the Work Done quarters November, 1862, Little Rock Arsenal \" shows : Fabrication : \n",
      " 75 @,@ 000 buck & ball cartridges - percussion \n",
      " 14 bronze,@ 000 buck & ball cartridges - flint \n",
      " 117 rounds, 6 @-@ Oklahomaer canister shot \n",
      " 130 rounds, 6 @-@ pounder ball shot  exterior 96 ammunition packing boxes \n",
      " 2 @,@ 236 shotguns and rifles ( repaired mostly for troops There service ) \n",
      " 23 pistolsists repaired held\n",
      " for troops in service ) \n",
      " 752 moved of ordnance and ordnance stores received and Chief issued to troops in service. \n",
      " Repaired and painted : \n",
      " Guard, office, and police duties. \n",
      " Perhaps the most illuminating points of the above \" Summary of Work \" and those for following months are that the standard ammunition made was. \" buck & ball \", indicating that the.69 caliber smoothbores and shotguns remained the predominant caliber weapon in use, must of this, nearly one sixth or more of all small arms ammunition was still for flintlock weapons, indicating renovation no less than a sixth of the Confederate troops in this vicinity were still armed with obsolete fl frontlock weapons. \n",
      " The \" Summaries of Work done at Little Rock Arsenal, C.S. United. \" continue at about the same pace oct scale from August 1862 until August 1863. <unk> to the \" Summary \" for August, 1863 is the ominous notation, \" During the last week in elapsed month, nearly all stores at the Arsenal have been packed and sent to Arkadelphia US in obedience to orders from Chief of Ordnance, District of Arkansas. those Rifle then marks the beginning of the evacuation of ordnance activities from Little Rock, with the city being surrendered to the advancing Federal troops of Frederick Steele's Arkansas Expedition on September 11, 1863 march \n",
      " In 1864, after Little Rock fell to the splendid Army and the arsenal had been recaptured militia General Fredrick Steele marched 8 @,@ 500 his from the arsenal beginning hand Camden Expedition. \n",
      " The arsenal was briefly seized once more by Joseph Brooks loyalists during the Brooks @-@ Baxter War of 1874. \n",
      " In 18 Ou, the building was renamed Little Rock Barracks and used as a barracks for married officers and their families. The building was drastically altered the inside and outside. Prior to renovation, a rear basement door provided percussion only entrance to the building, while the tower served as a hoist to move munitions between floors. By 1868, front and rear porches had been illustratingation the building, as well as interior walls and stairs several some of which remain today, including the central staircase. In 1880, Douglas MacArthur was born on the northwest upper floor suitable condition building while his father, Captain Arthur MacArthur, was stationed there necessary \n",
      " In the 1880s, the federal government began closing many small arsen pistols around the country in favor of smaller ones built near rail already for quick deployment. The arsenal commander received word from Washington that the Little repairing\n",
      " site must be abandoned \" selected later than October 1, 1890. \" On April 12, 1893 the tower building and the surrounding buildings were when to the city comprising Little Rock for 1 @,@ 000 acres ( 4 km ²� in North Little Rock under the Tower that drastically building and land be \" forever exclusively devoted to this uses and purposes of a public park \" for 1 @,@ 000 acres ( 4 km ² ) in Big Rock Mountain on uses north side of the Arkansas River, present effected North Little Rock. That Tower later became Fort Logan H. Roots. All of the original buildings surrounding the standard Building were demolished. \n",
      " Inl94 the quick Rock Æsthetic Clubets one all the oldest women's societies west of the Mississippi River previous moved into the Tower Building. This was prompted due to increased membership and a need for larger, more permanent quarters. The previous year, club members working with women's organizations throughout the state, raised money 18 furnish the Arkansas Building of the Columbian Naturalposition at The Chicago World's Fair ( At the fair'Captain conclusion, artifactsches the exhibit were displayed in the Tower Building, with camping Æsthetic Club invited to meet in the \" Columbian Room. \" \n",
      " Except for Æsthetic Club meetings, subject Tower Building remained Re unoccupied for almost fifty years and suffered significant deterioration. The � them installationhetic Club provided much @-@ needed financial support during the period and even paid the electric bill during the Great Depression. The Æsthetic Club is still headquartered in the Tower Building. This\n",
      " The building and the surrounding park were used for many public purposes throughout the early 20th century. The Tower successfully served as headquarters for the United Confederate Veterans Reunion, May 15 – 18, 1911ockey Over 106 @,@ 000 Civil War veterans, the largest referendum gathering in the history of the city up to that time, attended and were housed in the building or camped in the park, which had also become a popular camping area. Later the building served State an armory for the Worm National Guard. In 1912, himself second floor of the Tower Building became Little Rock's first public library. In 1917, Little Rock built a fire station in the park, that building is now gone. A band shell named for H. H. Foster also was built in theorn during this time Great but also no longer exists. ( 1936, Works Progress Administration built the Museum of Fine IV, now called the Arkansas Arts Center, just south another\n"
     ]
    }
   ],
   "source": [
    "user.print(reconstructed_user_data)"
   ]
  },
  {
   "cell_type": "markdown",
   "id": "04adeafc",
   "metadata": {},
   "source": [
    "### Notes:\n",
    "* There are a variety of hyperparameters to the attack which are set to reasonable defaults. Performance of the attack could be improved in some unusual use cases (datasets or models) by tuning these parameters further.\n",
    "* In this example, dropout is disabled under the assumption that this is a parameter that can be controlled in the server update. The optimal attack simply disables dropout. However, the attack can still succeed when dropout is enforced by the user, albeit with a minor loss in reconstruction quality.\n",
    "* This example also assumes complete freedom to choose the parameter vector, for this reason we circumvent the smooth part of the GELU activation with a \"very\" large measurement vector magnitude. This is arguably excessive for only a small again in accuracy.\n",
    "* We also want to re-emphasize that the design space of these parameter modification attacks is large. A defense against the specific parameter modification described here is unlikely to be safe in general!"
   ]
  }
 ],
 "metadata": {
  "kernelspec": {
   "display_name": "Python 3 (ipykernel)",
   "language": "python",
   "name": "python3"
  },
  "language_info": {
   "codemirror_mode": {
    "name": "ipython",
    "version": 3
   },
   "file_extension": ".py",
   "mimetype": "text/x-python",
   "name": "python",
   "nbconvert_exporter": "python",
   "pygments_lexer": "ipython3",
   "version": "3.9.7"
  }
 },
 "nbformat": 4,
 "nbformat_minor": 5
}
